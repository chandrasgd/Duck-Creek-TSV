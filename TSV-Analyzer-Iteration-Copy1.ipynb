{
 "cells": [
  {
   "cell_type": "code",
   "execution_count": 1,
   "metadata": {},
   "outputs": [],
   "source": [
    "import os\n",
    "import time\n",
    "import pandas as pd\n",
    "import numpy as np"
   ]
  },
  {
   "cell_type": "code",
   "execution_count": 2,
   "metadata": {},
   "outputs": [],
   "source": [
    "#C:\\Anaconda3\\lib\\site-packages\\IPython\\core\\interactiveshell.py:3165: \n",
    "### DtypeWarning: Columns (1) have mixed types.Specify dtype option on import or set low_memory=False.\n",
    "### has_raised = await self.run_ast_nodes(code_ast.body, cell_name,"
   ]
  },
  {
   "cell_type": "code",
   "execution_count": 3,
   "metadata": {},
   "outputs": [],
   "source": [
    "# measure wall time\n",
    "t0 = time.time()"
   ]
  },
  {
   "cell_type": "code",
   "execution_count": 4,
   "metadata": {},
   "outputs": [],
   "source": [
    "os.getcwd()\n",
    "filepath='C:\\\\CPP_Performance\\\\TSV Files\\\\UAEdits\\\\6D105A9CB9AB46169A5AB5B7A4FA1C1B7A35CF4E48E90C41 - 2021-06-16 09-57-11-470.tsv'\n",
    "output_excel='C:\\\\CPP_Performance\\\\TSV Files\\\\UAEdits\\\\6D105A9CB9AB46169A5AB5B7A4FA1C1B7A35CF4E48E90C41 - 2021-06-16 09-57-11-470.xlsx'\n",
    "\n",
    "filepath='C:\\\\CPP_Performance\\\\TSV Files\\\\Parkland School Policy\\\\15DB645E06504909AE4AA869AC8A2C9D7A35CF4E48E90C41 - 2021-10-20 13-55-28-084.tsv'\n",
    "output_excel='C:\\\\CPP_Performance\\\\TSV Files\\\\Parkland School Policy\\\\15DB645E06504909AE4AA869AC8A2C9D7A35CF4E48E90C41 - 2021-10-20 13-55-28-084.xlsx'\n",
    "\n",
    "filepath='C:\\\\CPP_Performance\\\\TSV Files\\\\CLMQA\\\\CD4CCA2343B44EEAB4932B20DEE7EB3A79272D7148E90C41 - 2021-10-27 16-09-57-931.tsv'\n",
    "output_excel='C:\\\\CPP_Performance\\\\TSV Files\\\\CLMQA\\\\CD4CCA2343B44EEAB4932B20DEE7EB3A79272D7148E90C41 - 2021-10-27 16-09-57-931.xlsx'\n",
    "\n",
    "df = pd.read_csv(filepath, sep='~', engine='c', header=1\n",
    "                ,usecols=['begin_end', 'debugID', 'startTime', 'tagName', 'idref']\n",
    "                ,names=['begin_end', 'debugID', 'startTime', 'tagName', 'idref']\n",
    "                ,dtype= {'begin_end': 'category', 'debugID': str, 'startTime': str, 'tagName':'category', 'idref':str}\n",
    "                )\n",
    "                         #, np.float64, ‘b’: np.int32, ‘c’: ‘Int64’}"
   ]
  },
  {
   "cell_type": "code",
   "execution_count": 5,
   "metadata": {},
   "outputs": [
    {
     "name": "stdout",
     "output_type": "stream",
     "text": [
      "(26.67837905883789, 'seconds wall time after read_csv')\n"
     ]
    }
   ],
   "source": [
    "t1 = (time.time() - t0, \"seconds wall time after read_csv\")\n",
    "print(t1)\n",
    "#df.describe"
   ]
  },
  {
   "cell_type": "code",
   "execution_count": 6,
   "metadata": {},
   "outputs": [],
   "source": [
    "#df.columns = ['begin_end', 'debugID', 'startTime', 'tagName', 'idref']\n",
    "#df.head(10)"
   ]
  },
  {
   "cell_type": "code",
   "execution_count": 7,
   "metadata": {},
   "outputs": [
    {
     "data": {
      "text/html": [
       "<div>\n",
       "<style scoped>\n",
       "    .dataframe tbody tr th:only-of-type {\n",
       "        vertical-align: middle;\n",
       "    }\n",
       "\n",
       "    .dataframe tbody tr th {\n",
       "        vertical-align: top;\n",
       "    }\n",
       "\n",
       "    .dataframe thead th {\n",
       "        text-align: right;\n",
       "    }\n",
       "</style>\n",
       "<table border=\"1\" class=\"dataframe\">\n",
       "  <thead>\n",
       "    <tr style=\"text-align: right;\">\n",
       "      <th></th>\n",
       "      <th>begin_end</th>\n",
       "      <th>debugID</th>\n",
       "      <th>startTime</th>\n",
       "      <th>tagName</th>\n",
       "      <th>idref</th>\n",
       "    </tr>\n",
       "  </thead>\n",
       "  <tbody>\n",
       "    <tr>\n",
       "      <th>0</th>\n",
       "      <td>b</td>\n",
       "      <td>1</td>\n",
       "      <td>16:09:57:931</td>\n",
       "      <td>page</td>\n",
       "      <td>NaN</td>\n",
       "    </tr>\n",
       "    <tr>\n",
       "      <th>1</th>\n",
       "      <td>b</td>\n",
       "      <td>2</td>\n",
       "      <td>16:09:57:931</td>\n",
       "      <td>worksheet</td>\n",
       "      <td>NaN</td>\n",
       "    </tr>\n",
       "    <tr>\n",
       "      <th>2</th>\n",
       "      <td>b</td>\n",
       "      <td>3</td>\n",
       "      <td>16:09:57:931</td>\n",
       "      <td>maxOccurs</td>\n",
       "      <td>NaN</td>\n",
       "    </tr>\n",
       "    <tr>\n",
       "      <th>3</th>\n",
       "      <td>e</td>\n",
       "      <td>3</td>\n",
       "      <td>16:09:57:931</td>\n",
       "      <td>1</td>\n",
       "      <td>NaN</td>\n",
       "    </tr>\n",
       "    <tr>\n",
       "      <th>4</th>\n",
       "      <td>b</td>\n",
       "      <td>4</td>\n",
       "      <td>16:09:57:931</td>\n",
       "      <td>minOccurs</td>\n",
       "      <td>NaN</td>\n",
       "    </tr>\n",
       "  </tbody>\n",
       "</table>\n",
       "</div>"
      ],
      "text/plain": [
       "  begin_end  debugID     startTime    tagName idref\n",
       "0         b        1  16:09:57:931       page   NaN\n",
       "1         b        2  16:09:57:931  worksheet   NaN\n",
       "2         b        3  16:09:57:931  maxOccurs   NaN\n",
       "3         e        3  16:09:57:931          1   NaN\n",
       "4         b        4  16:09:57:931  minOccurs   NaN"
      ]
     },
     "execution_count": 7,
     "metadata": {},
     "output_type": "execute_result"
    }
   ],
   "source": [
    "# sanitize data\n",
    "df.drop(df[df['debugID'] == ' unique debugID '].index, inplace = True)\n",
    "# convert str to int\n",
    "df['debugID'] = pd.to_numeric(df['debugID'])\n",
    "\n",
    "df.head()"
   ]
  },
  {
   "cell_type": "code",
   "execution_count": 8,
   "metadata": {},
   "outputs": [
    {
     "name": "stdout",
     "output_type": "stream",
     "text": [
      "(46.98890948295593, 'seconds wall time after sanitization')\n"
     ]
    }
   ],
   "source": [
    "t2 = (time.time() - t0, \"seconds wall time after sanitization\")\n",
    "print(t2)\n"
   ]
  },
  {
   "cell_type": "code",
   "execution_count": 9,
   "metadata": {},
   "outputs": [
    {
     "name": "stderr",
     "output_type": "stream",
     "text": [
      "<ipython-input-9-811f4d698f35>:1: FutureWarning: Indexing with multiple keys (implicitly converted to a tuple of keys) will be deprecated, use a list instead.\n",
      "  df1=df.groupby(['idref'])['idref', 'debugID'].count().sort_values(by='debugID', ascending=False)['idref']\n"
     ]
    },
    {
     "data": {
      "text/plain": [
       "idref\n",
       "LocationManuscript.StateKey                                383376\n",
       "False                                                      278323\n",
       "True                                                       268070\n",
       "CoverageOutput.Type                                         94748\n",
       "PolicyInput.UNIG_EffectiveDate                              82637\n",
       "LocationOutput.StatCodeTerritory                            82234\n",
       "RiskInput.Type                                              66324\n",
       "LocationInput.State                                         62313\n",
       "LocationInput.ZipCode                                       61311\n",
       "LocationPrivate.UNIG_ZipCode5Positions                      61087\n",
       "LocationInput.UNIG_ZipCodeInvalid                           61086\n",
       "LocationInput.ZIPCodeValidation                             61086\n",
       "LocationOutput.StatCodeState                                60573\n",
       "CoveragePrivate.IsSubCoverageCalc                           60060\n",
       "PropertyPolicyInput.PolicyCoverage                          56510\n",
       "LocationPropertyInput.BG2Territory                          55030\n",
       "LocationPropertyPrivate.BG2TerritoryZipLookup               55030\n",
       "LocationPropertyPrivate.BG2TerritoryZipLookupApplicable     55030\n",
       "LocationManuscript.ManuScriptIDByCarrier                    54910\n",
       "LocationPropertyInput.Territory                             54828\n",
       "Name: idref, dtype: int64"
      ]
     },
     "execution_count": 9,
     "metadata": {},
     "output_type": "execute_result"
    }
   ],
   "source": [
    "df1=df.groupby(['idref'])['idref', 'debugID'].count().sort_values(by='debugID', ascending=False)['idref']\n",
    "df1.head(20)\n"
   ]
  },
  {
   "cell_type": "code",
   "execution_count": 10,
   "metadata": {},
   "outputs": [],
   "source": [
    "# export to Excel ####\n",
    "with pd.ExcelWriter(output_excel) as writer:  \n",
    "    df1.to_excel(writer, sheet_name='frequency')\n"
   ]
  },
  {
   "cell_type": "code",
   "execution_count": 11,
   "metadata": {},
   "outputs": [],
   "source": [
    "del df1"
   ]
  },
  {
   "cell_type": "code",
   "execution_count": 12,
   "metadata": {},
   "outputs": [
    {
     "name": "stdout",
     "output_type": "stream",
     "text": [
      "(51.52870416641235, 'seconds wall time after frequence')\n"
     ]
    }
   ],
   "source": [
    "t3 = (time.time() - t0, \"seconds wall time after frequence\")\n",
    "print(t3)"
   ]
  },
  {
   "cell_type": "code",
   "execution_count": 13,
   "metadata": {},
   "outputs": [],
   "source": [
    "#df[df.idref.isin(['LocationPrivate.CheckBuildingLimit', 'BuildingDetailPage.SetLastSelectedOccupancyID', 'OccupancyOutputNonShredded.ApplicableToProperty'])].groupby('idref').count()\n",
    "\n"
   ]
  },
  {
   "cell_type": "code",
   "execution_count": 14,
   "metadata": {},
   "outputs": [
    {
     "name": "stderr",
     "output_type": "stream",
     "text": [
      "<ipython-input-14-56c29cfd0210>:1: FutureWarning: Indexing with multiple keys (implicitly converted to a tuple of keys) will be deprecated, use a list instead.\n",
      "  df1 = df[df.tagName.isin(['iterator'])].groupby(['idref'])['idref','debugID'].count().sort_values(by='debugID', ascending=False)['idref']\n"
     ]
    }
   ],
   "source": [
    "df1 = df[df.tagName.isin(['iterator'])].groupby(['idref'])['idref','debugID'].count().sort_values(by='debugID', ascending=False)['idref']\n",
    "df1.columns=['iterator', 'count']\n"
   ]
  },
  {
   "cell_type": "code",
   "execution_count": null,
   "metadata": {},
   "outputs": [],
   "source": []
  },
  {
   "cell_type": "code",
   "execution_count": 15,
   "metadata": {},
   "outputs": [],
   "source": [
    "# export to Excel ####\n",
    "with pd.ExcelWriter(output_excel, engine=\"openpyxl\", mode='a') as writer:  \n",
    "    df1.to_excel(writer, sheet_name='iterator')\n"
   ]
  },
  {
   "cell_type": "code",
   "execution_count": 16,
   "metadata": {},
   "outputs": [
    {
     "name": "stdout",
     "output_type": "stream",
     "text": [
      "(54.35605978965759, 'seconds wall time after iterator')\n"
     ]
    }
   ],
   "source": [
    "del df1\n",
    "t4 = (time.time() - t0, \"seconds wall time after iterator\")\n",
    "print(t4)"
   ]
  },
  {
   "cell_type": "code",
   "execution_count": 17,
   "metadata": {},
   "outputs": [],
   "source": [
    "# count levels\n",
    "#df.groupby(['level']).count().sort_values(by='level', ascending=False)"
   ]
  },
  {
   "cell_type": "code",
   "execution_count": 18,
   "metadata": {},
   "outputs": [],
   "source": [
    "# elapsed time of public/private fields\n"
   ]
  },
  {
   "cell_type": "code",
   "execution_count": 19,
   "metadata": {},
   "outputs": [],
   "source": [
    "# list debugID for public/private idref - both begin and end lines\n",
    "debugList = df[df.tagName.isin(['public', 'private'])].debugID.tolist()\n",
    "fDebugVal = list(map(int, debugList))\n"
   ]
  },
  {
   "cell_type": "code",
   "execution_count": 20,
   "metadata": {},
   "outputs": [
    {
     "name": "stdout",
     "output_type": "stream",
     "text": [
      "public/private count: 2001469\n",
      "[12, 16, 21, 30, 37, 42, 52, 55, 57, 61, 65, 70, 76, 81, 88, 93, 95, 114, 115]\n"
     ]
    }
   ],
   "source": [
    "print('public/private count:', len(fDebugVal))\n",
    "type(fDebugVal)\n",
    "print(fDebugVal[1:20])\n",
    "#df[df.debugID=='11']\n",
    "dfb = df[df.debugID.isin(fDebugVal)].sort_values(by='debugID')\n"
   ]
  },
  {
   "cell_type": "code",
   "execution_count": 21,
   "metadata": {},
   "outputs": [],
   "source": [
    "dfbstart = dfb[dfb.begin_end=='b'][['debugID', 'startTime', 'idref']]\n",
    "dfbend = dfb[dfb.begin_end=='e'][['debugID', 'startTime']]\n",
    "dfbend.columns=['debugID', 'endTime']\n"
   ]
  },
  {
   "cell_type": "code",
   "execution_count": 22,
   "metadata": {},
   "outputs": [
    {
     "data": {
      "text/html": [
       "<div>\n",
       "<style scoped>\n",
       "    .dataframe tbody tr th:only-of-type {\n",
       "        vertical-align: middle;\n",
       "    }\n",
       "\n",
       "    .dataframe tbody tr th {\n",
       "        vertical-align: top;\n",
       "    }\n",
       "\n",
       "    .dataframe thead th {\n",
       "        text-align: right;\n",
       "    }\n",
       "</style>\n",
       "<table border=\"1\" class=\"dataframe\">\n",
       "  <thead>\n",
       "    <tr style=\"text-align: right;\">\n",
       "      <th></th>\n",
       "      <th>debugID</th>\n",
       "      <th>startTime</th>\n",
       "      <th>idref</th>\n",
       "    </tr>\n",
       "  </thead>\n",
       "  <tbody>\n",
       "    <tr>\n",
       "      <th>10</th>\n",
       "      <td>7</td>\n",
       "      <td>16:09:57:931</td>\n",
       "      <td>True</td>\n",
       "    </tr>\n",
       "    <tr>\n",
       "      <th>20</th>\n",
       "      <td>12</td>\n",
       "      <td>16:09:57:962</td>\n",
       "      <td>data.ExecuteTotalResult</td>\n",
       "    </tr>\n",
       "    <tr>\n",
       "      <th>26</th>\n",
       "      <td>16</td>\n",
       "      <td>16:09:57:962</td>\n",
       "      <td>PolicyAdminOutputNonShredded.PolicyManuScriptID</td>\n",
       "    </tr>\n",
       "    <tr>\n",
       "      <th>36</th>\n",
       "      <td>21</td>\n",
       "      <td>16:09:57:962</td>\n",
       "      <td>LinePrivate.ResetCommissionContributionOnRewrite</td>\n",
       "    </tr>\n",
       "    <tr>\n",
       "      <th>45</th>\n",
       "      <td>30</td>\n",
       "      <td>16:09:57:962</td>\n",
       "      <td>PolicyInput.EffectiveDate</td>\n",
       "    </tr>\n",
       "    <tr>\n",
       "      <th>...</th>\n",
       "      <td>...</td>\n",
       "      <td>...</td>\n",
       "      <td>...</td>\n",
       "    </tr>\n",
       "    <tr>\n",
       "      <th>19964877</th>\n",
       "      <td>9982446</td>\n",
       "      <td>16:12:06:616</td>\n",
       "      <td>True</td>\n",
       "    </tr>\n",
       "    <tr>\n",
       "      <th>19964885</th>\n",
       "      <td>9982449</td>\n",
       "      <td>16:12:06:616</td>\n",
       "      <td>PolicyPrivate.UNIG_ChangeAnnivDateTransactionN...</td>\n",
       "    </tr>\n",
       "    <tr>\n",
       "      <th>19964891</th>\n",
       "      <td>9982455</td>\n",
       "      <td>16:12:06:616</td>\n",
       "      <td>PolicyPrivate.IsCurrentTransactionEndorse</td>\n",
       "    </tr>\n",
       "    <tr>\n",
       "      <th>19964914</th>\n",
       "      <td>9982464</td>\n",
       "      <td>16:12:06:616</td>\n",
       "      <td>LinePrivate.UNIG_ThereAreOptionalProposals</td>\n",
       "    </tr>\n",
       "    <tr>\n",
       "      <th>19964918</th>\n",
       "      <td>9982466</td>\n",
       "      <td>16:12:06:616</td>\n",
       "      <td>True</td>\n",
       "    </tr>\n",
       "  </tbody>\n",
       "</table>\n",
       "<p>2001469 rows × 3 columns</p>\n",
       "</div>"
      ],
      "text/plain": [
       "          debugID     startTime  \\\n",
       "10              7  16:09:57:931   \n",
       "20             12  16:09:57:962   \n",
       "26             16  16:09:57:962   \n",
       "36             21  16:09:57:962   \n",
       "45             30  16:09:57:962   \n",
       "...           ...           ...   \n",
       "19964877  9982446  16:12:06:616   \n",
       "19964885  9982449  16:12:06:616   \n",
       "19964891  9982455  16:12:06:616   \n",
       "19964914  9982464  16:12:06:616   \n",
       "19964918  9982466  16:12:06:616   \n",
       "\n",
       "                                                      idref  \n",
       "10                                                     True  \n",
       "20                                  data.ExecuteTotalResult  \n",
       "26          PolicyAdminOutputNonShredded.PolicyManuScriptID  \n",
       "36         LinePrivate.ResetCommissionContributionOnRewrite  \n",
       "45                                PolicyInput.EffectiveDate  \n",
       "...                                                     ...  \n",
       "19964877                                               True  \n",
       "19964885  PolicyPrivate.UNIG_ChangeAnnivDateTransactionN...  \n",
       "19964891          PolicyPrivate.IsCurrentTransactionEndorse  \n",
       "19964914         LinePrivate.UNIG_ThereAreOptionalProposals  \n",
       "19964918                                               True  \n",
       "\n",
       "[2001469 rows x 3 columns]"
      ]
     },
     "execution_count": 22,
     "metadata": {},
     "output_type": "execute_result"
    }
   ],
   "source": [
    "dfbstart"
   ]
  },
  {
   "cell_type": "code",
   "execution_count": 23,
   "metadata": {},
   "outputs": [
    {
     "data": {
      "text/html": [
       "<div>\n",
       "<style scoped>\n",
       "    .dataframe tbody tr th:only-of-type {\n",
       "        vertical-align: middle;\n",
       "    }\n",
       "\n",
       "    .dataframe tbody tr th {\n",
       "        vertical-align: top;\n",
       "    }\n",
       "\n",
       "    .dataframe thead th {\n",
       "        text-align: right;\n",
       "    }\n",
       "</style>\n",
       "<table border=\"1\" class=\"dataframe\">\n",
       "  <thead>\n",
       "    <tr style=\"text-align: right;\">\n",
       "      <th></th>\n",
       "      <th>debugID</th>\n",
       "      <th>endTime</th>\n",
       "    </tr>\n",
       "  </thead>\n",
       "  <tbody>\n",
       "    <tr>\n",
       "      <th>13</th>\n",
       "      <td>7</td>\n",
       "      <td>16:09:57:931</td>\n",
       "    </tr>\n",
       "    <tr>\n",
       "      <th>19567611</th>\n",
       "      <td>12</td>\n",
       "      <td>16:11:54:537</td>\n",
       "    </tr>\n",
       "    <tr>\n",
       "      <th>27</th>\n",
       "      <td>16</td>\n",
       "      <td>16:09:57:962</td>\n",
       "    </tr>\n",
       "    <tr>\n",
       "      <th>685</th>\n",
       "      <td>21</td>\n",
       "      <td>16:09:57:962</td>\n",
       "    </tr>\n",
       "    <tr>\n",
       "      <th>144</th>\n",
       "      <td>30</td>\n",
       "      <td>16:09:57:962</td>\n",
       "    </tr>\n",
       "    <tr>\n",
       "      <th>...</th>\n",
       "      <td>...</td>\n",
       "      <td>...</td>\n",
       "    </tr>\n",
       "    <tr>\n",
       "      <th>19964878</th>\n",
       "      <td>9982446</td>\n",
       "      <td>16:12:06:616</td>\n",
       "    </tr>\n",
       "    <tr>\n",
       "      <th>19964898</th>\n",
       "      <td>9982449</td>\n",
       "      <td>16:12:06:616</td>\n",
       "    </tr>\n",
       "    <tr>\n",
       "      <th>19964892</th>\n",
       "      <td>9982455</td>\n",
       "      <td>16:12:06:616</td>\n",
       "    </tr>\n",
       "    <tr>\n",
       "      <th>19964915</th>\n",
       "      <td>9982464</td>\n",
       "      <td>16:12:06:616</td>\n",
       "    </tr>\n",
       "    <tr>\n",
       "      <th>19964919</th>\n",
       "      <td>9982466</td>\n",
       "      <td>16:12:06:616</td>\n",
       "    </tr>\n",
       "  </tbody>\n",
       "</table>\n",
       "<p>2001469 rows × 2 columns</p>\n",
       "</div>"
      ],
      "text/plain": [
       "          debugID       endTime\n",
       "13              7  16:09:57:931\n",
       "19567611       12  16:11:54:537\n",
       "27             16  16:09:57:962\n",
       "685            21  16:09:57:962\n",
       "144            30  16:09:57:962\n",
       "...           ...           ...\n",
       "19964878  9982446  16:12:06:616\n",
       "19964898  9982449  16:12:06:616\n",
       "19964892  9982455  16:12:06:616\n",
       "19964915  9982464  16:12:06:616\n",
       "19964919  9982466  16:12:06:616\n",
       "\n",
       "[2001469 rows x 2 columns]"
      ]
     },
     "execution_count": 23,
     "metadata": {},
     "output_type": "execute_result"
    }
   ],
   "source": [
    "dfbend"
   ]
  },
  {
   "cell_type": "code",
   "execution_count": 24,
   "metadata": {},
   "outputs": [
    {
     "data": {
      "text/html": [
       "<div>\n",
       "<style scoped>\n",
       "    .dataframe tbody tr th:only-of-type {\n",
       "        vertical-align: middle;\n",
       "    }\n",
       "\n",
       "    .dataframe tbody tr th {\n",
       "        vertical-align: top;\n",
       "    }\n",
       "\n",
       "    .dataframe thead th {\n",
       "        text-align: right;\n",
       "    }\n",
       "</style>\n",
       "<table border=\"1\" class=\"dataframe\">\n",
       "  <thead>\n",
       "    <tr style=\"text-align: right;\">\n",
       "      <th></th>\n",
       "      <th>debugID</th>\n",
       "      <th>endTime</th>\n",
       "      <th>startTime</th>\n",
       "      <th>idref</th>\n",
       "    </tr>\n",
       "  </thead>\n",
       "  <tbody>\n",
       "    <tr>\n",
       "      <th>1626536</th>\n",
       "      <td>8130740</td>\n",
       "      <td>16:11:26:924</td>\n",
       "      <td>16:11:26:221</td>\n",
       "      <td>LocationPrivate.CheckBuildingLimit</td>\n",
       "    </tr>\n",
       "    <tr>\n",
       "      <th>1641442</th>\n",
       "      <td>8200796</td>\n",
       "      <td>16:11:28:346</td>\n",
       "      <td>16:11:27:659</td>\n",
       "      <td>LocationPrivate.CheckBuildingLimit</td>\n",
       "    </tr>\n",
       "    <tr>\n",
       "      <th>1965807</th>\n",
       "      <td>9787108</td>\n",
       "      <td>16:11:55:240</td>\n",
       "      <td>16:11:54:583</td>\n",
       "      <td>LocationPrivate.CheckBuildingLimit</td>\n",
       "    </tr>\n",
       "    <tr>\n",
       "      <th>1980712</th>\n",
       "      <td>9857009</td>\n",
       "      <td>16:11:56:552</td>\n",
       "      <td>16:11:55:880</td>\n",
       "      <td>LocationPrivate.CheckBuildingLimit</td>\n",
       "    </tr>\n",
       "  </tbody>\n",
       "</table>\n",
       "</div>"
      ],
      "text/plain": [
       "         debugID       endTime     startTime  \\\n",
       "1626536  8130740  16:11:26:924  16:11:26:221   \n",
       "1641442  8200796  16:11:28:346  16:11:27:659   \n",
       "1965807  9787108  16:11:55:240  16:11:54:583   \n",
       "1980712  9857009  16:11:56:552  16:11:55:880   \n",
       "\n",
       "                                      idref  \n",
       "1626536  LocationPrivate.CheckBuildingLimit  \n",
       "1641442  LocationPrivate.CheckBuildingLimit  \n",
       "1965807  LocationPrivate.CheckBuildingLimit  \n",
       "1980712  LocationPrivate.CheckBuildingLimit  "
      ]
     },
     "execution_count": 24,
     "metadata": {},
     "output_type": "execute_result"
    }
   ],
   "source": [
    "dfcombined=pd.merge(dfbend, dfbstart, on=[\"debugID\"])\n",
    "dfcombined[dfcombined.idref=='LocationPrivate.CheckBuildingLimit']\n",
    "#dfb.sort_values(by='debugID')\n",
    "#dfb[dfb.debugID==79806].startTime.tolist()\n",
    "\n",
    "#dfb[dfb.debugID==11]"
   ]
  },
  {
   "cell_type": "code",
   "execution_count": 25,
   "metadata": {},
   "outputs": [],
   "source": [
    "dfcombined['timediff'] = pd.DataFrame(( pd.to_datetime(dfcombined['endTime'], format='%H:%M:%S:%f') - pd.to_datetime(dfcombined['startTime'], format='%H:%M:%S:%f')).dt.total_seconds())"
   ]
  },
  {
   "cell_type": "code",
   "execution_count": 26,
   "metadata": {},
   "outputs": [],
   "source": [
    "from datetime import datetime, timedelta\n",
    "df1 = dfcombined[dfcombined.timediff > 1.0].sort_values(by='timediff', ascending=False)\n",
    "del dfcombined"
   ]
  },
  {
   "cell_type": "code",
   "execution_count": 27,
   "metadata": {},
   "outputs": [],
   "source": [
    "# export to Excel ####\n",
    "with pd.ExcelWriter(output_excel, engine=\"openpyxl\", mode='a') as writer:  \n",
    "    df1.to_excel(writer, sheet_name='timing')\n"
   ]
  },
  {
   "cell_type": "code",
   "execution_count": 28,
   "metadata": {},
   "outputs": [
    {
     "name": "stdout",
     "output_type": "stream",
     "text": [
      "(63.81689667701721, 'seconds wall time after timing')\n"
     ]
    }
   ],
   "source": [
    "del df1\n",
    "t5 = (time.time() - t0, \"seconds wall time after timing\")\n",
    "print(t5)"
   ]
  },
  {
   "cell_type": "code",
   "execution_count": 29,
   "metadata": {},
   "outputs": [
    {
     "data": {
      "text/html": [
       "<div>\n",
       "<style scoped>\n",
       "    .dataframe tbody tr th:only-of-type {\n",
       "        vertical-align: middle;\n",
       "    }\n",
       "\n",
       "    .dataframe tbody tr th {\n",
       "        vertical-align: top;\n",
       "    }\n",
       "\n",
       "    .dataframe thead th {\n",
       "        text-align: right;\n",
       "    }\n",
       "</style>\n",
       "<table border=\"1\" class=\"dataframe\">\n",
       "  <thead>\n",
       "    <tr style=\"text-align: right;\">\n",
       "      <th></th>\n",
       "      <th>begin_end</th>\n",
       "      <th>debugID</th>\n",
       "      <th>startTime</th>\n",
       "      <th>tagName</th>\n",
       "      <th>idref</th>\n",
       "    </tr>\n",
       "  </thead>\n",
       "  <tbody>\n",
       "    <tr>\n",
       "      <th>107</th>\n",
       "      <td>b</td>\n",
       "      <td>67</td>\n",
       "      <td>16:09:57:962</td>\n",
       "      <td>iterator</td>\n",
       "      <td>Transaction</td>\n",
       "    </tr>\n",
       "    <tr>\n",
       "      <th>162</th>\n",
       "      <td>b</td>\n",
       "      <td>90</td>\n",
       "      <td>16:09:57:962</td>\n",
       "      <td>iterator</td>\n",
       "      <td>Location</td>\n",
       "    </tr>\n",
       "    <tr>\n",
       "      <th>561</th>\n",
       "      <td>b</td>\n",
       "      <td>289</td>\n",
       "      <td>16:09:57:962</td>\n",
       "      <td>iterator</td>\n",
       "      <td>Location</td>\n",
       "    </tr>\n",
       "    <tr>\n",
       "      <th>713</th>\n",
       "      <td>b</td>\n",
       "      <td>368</td>\n",
       "      <td>16:09:57:962</td>\n",
       "      <td>iterator</td>\n",
       "      <td>Transaction</td>\n",
       "    </tr>\n",
       "    <tr>\n",
       "      <th>772</th>\n",
       "      <td>b</td>\n",
       "      <td>399</td>\n",
       "      <td>16:09:57:962</td>\n",
       "      <td>iterator</td>\n",
       "      <td>Transaction</td>\n",
       "    </tr>\n",
       "  </tbody>\n",
       "</table>\n",
       "</div>"
      ],
      "text/plain": [
       "    begin_end  debugID     startTime   tagName        idref\n",
       "107         b       67  16:09:57:962  iterator  Transaction\n",
       "162         b       90  16:09:57:962  iterator     Location\n",
       "561         b      289  16:09:57:962  iterator     Location\n",
       "713         b      368  16:09:57:962  iterator  Transaction\n",
       "772         b      399  16:09:57:962  iterator  Transaction"
      ]
     },
     "execution_count": 29,
     "metadata": {},
     "output_type": "execute_result"
    }
   ],
   "source": [
    "# list line index for iterator idref - both begin and end lines\n",
    "iterList = df[df.tagName.isin(['iterator'])].index.tolist()\n",
    "\n",
    "df.iloc[iterList[:5]]"
   ]
  },
  {
   "cell_type": "code",
   "execution_count": 30,
   "metadata": {},
   "outputs": [],
   "source": [
    "# Find the immediate parent of the iterator\n",
    "# Iterator debugID - walk backward till we find public/private\n",
    "\n",
    "\n"
   ]
  },
  {
   "cell_type": "code",
   "execution_count": 31,
   "metadata": {},
   "outputs": [
    {
     "data": {
      "text/html": [
       "<div>\n",
       "<style scoped>\n",
       "    .dataframe tbody tr th:only-of-type {\n",
       "        vertical-align: middle;\n",
       "    }\n",
       "\n",
       "    .dataframe tbody tr th {\n",
       "        vertical-align: top;\n",
       "    }\n",
       "\n",
       "    .dataframe thead th {\n",
       "        text-align: right;\n",
       "    }\n",
       "</style>\n",
       "<table border=\"1\" class=\"dataframe\">\n",
       "  <thead>\n",
       "    <tr style=\"text-align: right;\">\n",
       "      <th></th>\n",
       "      <th>begin_end</th>\n",
       "      <th>debugID</th>\n",
       "      <th>startTime</th>\n",
       "      <th>tagName</th>\n",
       "      <th>idref</th>\n",
       "    </tr>\n",
       "  </thead>\n",
       "  <tbody>\n",
       "    <tr>\n",
       "      <th>10</th>\n",
       "      <td>b</td>\n",
       "      <td>7</td>\n",
       "      <td>16:09:57:931</td>\n",
       "      <td>private</td>\n",
       "      <td>True</td>\n",
       "    </tr>\n",
       "    <tr>\n",
       "      <th>20</th>\n",
       "      <td>b</td>\n",
       "      <td>12</td>\n",
       "      <td>16:09:57:962</td>\n",
       "      <td>private</td>\n",
       "      <td>data.ExecuteTotalResult</td>\n",
       "    </tr>\n",
       "    <tr>\n",
       "      <th>26</th>\n",
       "      <td>b</td>\n",
       "      <td>16</td>\n",
       "      <td>16:09:57:962</td>\n",
       "      <td>public</td>\n",
       "      <td>PolicyAdminOutputNonShredded.PolicyManuScriptID</td>\n",
       "    </tr>\n",
       "    <tr>\n",
       "      <th>36</th>\n",
       "      <td>b</td>\n",
       "      <td>21</td>\n",
       "      <td>16:09:57:962</td>\n",
       "      <td>private</td>\n",
       "      <td>LinePrivate.ResetCommissionContributionOnRewrite</td>\n",
       "    </tr>\n",
       "    <tr>\n",
       "      <th>45</th>\n",
       "      <td>b</td>\n",
       "      <td>30</td>\n",
       "      <td>16:09:57:962</td>\n",
       "      <td>public</td>\n",
       "      <td>PolicyInput.EffectiveDate</td>\n",
       "    </tr>\n",
       "    <tr>\n",
       "      <th>52</th>\n",
       "      <td>b</td>\n",
       "      <td>37</td>\n",
       "      <td>16:09:57:962</td>\n",
       "      <td>public</td>\n",
       "      <td>PolicyInput.UNIG_EffectiveDate</td>\n",
       "    </tr>\n",
       "    <tr>\n",
       "      <th>62</th>\n",
       "      <td>b</td>\n",
       "      <td>42</td>\n",
       "      <td>16:09:57:962</td>\n",
       "      <td>private</td>\n",
       "      <td>PolicyPrivate.UNIG_EffectiveDateInvalid</td>\n",
       "    </tr>\n",
       "    <tr>\n",
       "      <th>82</th>\n",
       "      <td>b</td>\n",
       "      <td>52</td>\n",
       "      <td>16:09:57:962</td>\n",
       "      <td>private</td>\n",
       "      <td>False</td>\n",
       "    </tr>\n",
       "    <tr>\n",
       "      <th>91</th>\n",
       "      <td>b</td>\n",
       "      <td>55</td>\n",
       "      <td>16:09:57:962</td>\n",
       "      <td>public</td>\n",
       "      <td>PolicyInput.UNIG_EffectiveDate</td>\n",
       "    </tr>\n",
       "    <tr>\n",
       "      <th>97</th>\n",
       "      <td>b</td>\n",
       "      <td>57</td>\n",
       "      <td>16:09:57:962</td>\n",
       "      <td>private</td>\n",
       "      <td>PolicyPrivate.UNIG_ResetTermDateValid</td>\n",
       "    </tr>\n",
       "    <tr>\n",
       "      <th>101</th>\n",
       "      <td>b</td>\n",
       "      <td>61</td>\n",
       "      <td>16:09:57:962</td>\n",
       "      <td>private</td>\n",
       "      <td>PolicyPrivate.IsCurrentTransactionNewBusiness</td>\n",
       "    </tr>\n",
       "    <tr>\n",
       "      <th>105</th>\n",
       "      <td>b</td>\n",
       "      <td>65</td>\n",
       "      <td>16:09:57:962</td>\n",
       "      <td>public</td>\n",
       "      <td>PolicyOutputNonShredded.LastTransactionType</td>\n",
       "    </tr>\n",
       "    <tr>\n",
       "      <th>112</th>\n",
       "      <td>b</td>\n",
       "      <td>70</td>\n",
       "      <td>16:09:57:962</td>\n",
       "      <td>private</td>\n",
       "      <td>TransactionPrivate.CurrentTransactionType</td>\n",
       "    </tr>\n",
       "    <tr>\n",
       "      <th>118</th>\n",
       "      <td>b</td>\n",
       "      <td>76</td>\n",
       "      <td>16:09:57:962</td>\n",
       "      <td>public</td>\n",
       "      <td>TransactionOutput.ConvertedTransactionType</td>\n",
       "    </tr>\n",
       "    <tr>\n",
       "      <th>147</th>\n",
       "      <td>b</td>\n",
       "      <td>81</td>\n",
       "      <td>16:09:57:962</td>\n",
       "      <td>private</td>\n",
       "      <td>LinePrivate.EffDateCommissionContribution</td>\n",
       "    </tr>\n",
       "    <tr>\n",
       "      <th>160</th>\n",
       "      <td>b</td>\n",
       "      <td>88</td>\n",
       "      <td>16:09:57:962</td>\n",
       "      <td>private</td>\n",
       "      <td>AccountPrivate.IterateLocationState</td>\n",
       "    </tr>\n",
       "    <tr>\n",
       "      <th>167</th>\n",
       "      <td>b</td>\n",
       "      <td>93</td>\n",
       "      <td>16:09:57:962</td>\n",
       "      <td>public</td>\n",
       "      <td>LocationInput.State</td>\n",
       "    </tr>\n",
       "    <tr>\n",
       "      <th>169</th>\n",
       "      <td>b</td>\n",
       "      <td>95</td>\n",
       "      <td>16:09:57:962</td>\n",
       "      <td>public</td>\n",
       "      <td>LocationOutput.StatCodeState</td>\n",
       "    </tr>\n",
       "    <tr>\n",
       "      <th>207</th>\n",
       "      <td>b</td>\n",
       "      <td>114</td>\n",
       "      <td>16:09:57:962</td>\n",
       "      <td>public</td>\n",
       "      <td>LocationOutput.StatCodeTerritoryProperty</td>\n",
       "    </tr>\n",
       "    <tr>\n",
       "      <th>211</th>\n",
       "      <td>b</td>\n",
       "      <td>115</td>\n",
       "      <td>16:09:57:962</td>\n",
       "      <td>private</td>\n",
       "      <td>AccountPrivate.Comma</td>\n",
       "    </tr>\n",
       "  </tbody>\n",
       "</table>\n",
       "</div>"
      ],
      "text/plain": [
       "    begin_end  debugID     startTime  tagName  \\\n",
       "10          b        7  16:09:57:931  private   \n",
       "20          b       12  16:09:57:962  private   \n",
       "26          b       16  16:09:57:962   public   \n",
       "36          b       21  16:09:57:962  private   \n",
       "45          b       30  16:09:57:962   public   \n",
       "52          b       37  16:09:57:962   public   \n",
       "62          b       42  16:09:57:962  private   \n",
       "82          b       52  16:09:57:962  private   \n",
       "91          b       55  16:09:57:962   public   \n",
       "97          b       57  16:09:57:962  private   \n",
       "101         b       61  16:09:57:962  private   \n",
       "105         b       65  16:09:57:962   public   \n",
       "112         b       70  16:09:57:962  private   \n",
       "118         b       76  16:09:57:962   public   \n",
       "147         b       81  16:09:57:962  private   \n",
       "160         b       88  16:09:57:962  private   \n",
       "167         b       93  16:09:57:962   public   \n",
       "169         b       95  16:09:57:962   public   \n",
       "207         b      114  16:09:57:962   public   \n",
       "211         b      115  16:09:57:962  private   \n",
       "\n",
       "                                                idref  \n",
       "10                                               True  \n",
       "20                            data.ExecuteTotalResult  \n",
       "26    PolicyAdminOutputNonShredded.PolicyManuScriptID  \n",
       "36   LinePrivate.ResetCommissionContributionOnRewrite  \n",
       "45                          PolicyInput.EffectiveDate  \n",
       "52                     PolicyInput.UNIG_EffectiveDate  \n",
       "62            PolicyPrivate.UNIG_EffectiveDateInvalid  \n",
       "82                                              False  \n",
       "91                     PolicyInput.UNIG_EffectiveDate  \n",
       "97              PolicyPrivate.UNIG_ResetTermDateValid  \n",
       "101     PolicyPrivate.IsCurrentTransactionNewBusiness  \n",
       "105       PolicyOutputNonShredded.LastTransactionType  \n",
       "112         TransactionPrivate.CurrentTransactionType  \n",
       "118        TransactionOutput.ConvertedTransactionType  \n",
       "147         LinePrivate.EffDateCommissionContribution  \n",
       "160               AccountPrivate.IterateLocationState  \n",
       "167                               LocationInput.State  \n",
       "169                      LocationOutput.StatCodeState  \n",
       "207          LocationOutput.StatCodeTerritoryProperty  \n",
       "211                              AccountPrivate.Comma  "
      ]
     },
     "execution_count": 31,
     "metadata": {},
     "output_type": "execute_result"
    }
   ],
   "source": [
    "# list line index for public/private idref - both begin and end lines\n",
    "indexList = df[df.tagName.isin(['public', 'private'])].index.tolist()\n",
    "\n",
    "df.iloc[indexList[:20]]"
   ]
  },
  {
   "cell_type": "code",
   "execution_count": 32,
   "metadata": {},
   "outputs": [
    {
     "name": "stdout",
     "output_type": "stream",
     "text": [
      "169 207\n"
     ]
    }
   ],
   "source": [
    "# count of the iterator index within specific iterator\n",
    "\n",
    "b1 = max([i for i in indexList if i < 178])\n",
    "b1\n",
    "\n",
    "b2 = min([i for i in reversed(indexList) if i > 178])\n",
    "b2\n",
    "\n",
    "print(b1, b2)"
   ]
  },
  {
   "cell_type": "code",
   "execution_count": 33,
   "metadata": {},
   "outputs": [
    {
     "data": {
      "text/plain": [
       "(200.1469, 30334)"
      ]
     },
     "execution_count": 33,
     "metadata": {},
     "output_type": "execute_result"
    }
   ],
   "source": [
    "idx1 = indexList.copy()\n",
    "len(idx1)/10000, len(iterList)"
   ]
  },
  {
   "cell_type": "code",
   "execution_count": 34,
   "metadata": {},
   "outputs": [
    {
     "data": {
      "text/plain": [
       "([10, 20, 26],\n",
       " 19964807,\n",
       " [19964918,\n",
       "  19964914,\n",
       "  19964891,\n",
       "  19964885,\n",
       "  19964877,\n",
       "  19964867,\n",
       "  19964861,\n",
       "  19964851,\n",
       "  19964842,\n",
       "  19964837,\n",
       "  19964825,\n",
       "  19964812])"
      ]
     },
     "execution_count": 34,
     "metadata": {},
     "output_type": "execute_result"
    }
   ],
   "source": [
    "parent = lambda x: [i for i in idx1 if i < x]\n",
    "child = lambda x: [i for i in reversed(idx1) if i > x]\n",
    "parent(36), iterList[-1], child(iterList[-1])"
   ]
  },
  {
   "cell_type": "code",
   "execution_count": 35,
   "metadata": {},
   "outputs": [
    {
     "data": {
      "text/plain": [
       "([107, 162, 561], [10, 20, 26], 19964812)"
      ]
     },
     "execution_count": 35,
     "metadata": {},
     "output_type": "execute_result"
    }
   ],
   "source": [
    "parent2 = lambda x, y: [i for i in y if i < x]\n",
    "child2 = lambda x, y: [i for i in y if i > x]\n",
    "\n",
    "iterList[:3],parent2(36, idx1), min(child2(iterList[-1], reversed(idx1)))"
   ]
  },
  {
   "cell_type": "code",
   "execution_count": 36,
   "metadata": {},
   "outputs": [
    {
     "data": {
      "text/plain": [
       "(0, [10, 20, 26, 36, 45, 52, 62, 82, 91, 97], [])"
      ]
     },
     "execution_count": 36,
     "metadata": {},
     "output_type": "execute_result"
    }
   ],
   "source": [
    "# if the element is not in the source list\n",
    "#remv = lambda x, y: [i for i in y if not i in x or x.remove(i)]\n",
    "\n",
    "# we know all elements are available in the source list\n",
    "remv = lambda x, y: [i for i in y if x.remove(i)]\n",
    "\n",
    "# we can slice the list using len\n",
    "remv2 = lambda x, y: x[len(y):]\n",
    "\n",
    "idx1 = indexList.copy()\n",
    "len(parent2(3, idx1)), idx1[:10], remv(idx1, parent2(36, idx1))[:10]\n",
    "#iterList[:3], idx1[:10]"
   ]
  },
  {
   "cell_type": "code",
   "execution_count": 37,
   "metadata": {},
   "outputs": [],
   "source": [
    "#idx1 = indexList.copy()\n",
    "#bb = lambda x: [max([parent(i, idx1) and remv(idx1, parent(i, idx1)) for i in x ])]\n",
    "#bb = lambda x: [max(parent2(i, idx1) + remv(idx1, parent2(i, idx1)))  for i in x ]\n",
    "#bb(iterList[:500])[:5]"
   ]
  },
  {
   "cell_type": "code",
   "execution_count": 38,
   "metadata": {},
   "outputs": [
    {
     "data": {
      "text/plain": [
       "0"
      ]
     },
     "execution_count": 38,
     "metadata": {},
     "output_type": "execute_result"
    }
   ],
   "source": [
    "max([0])"
   ]
  },
  {
   "cell_type": "code",
   "execution_count": 39,
   "metadata": {},
   "outputs": [],
   "source": [
    "#brute force search\n",
    "def fieldList(iterList, idxList):\n",
    "    fieldList = []\n",
    "    for item in iterList:\n",
    "        p = parent2(item, idxList)\n",
    "        if len(p) > 0:\n",
    "            fieldList.append(max(p))\n",
    "            idxList = idxList[len(p):]\n",
    "        #print(p, fieldList)\n",
    "\n",
    "    return fieldList                   "
   ]
  },
  {
   "cell_type": "code",
   "execution_count": 55,
   "metadata": {},
   "outputs": [],
   "source": [
    "import time\n",
    "#mini-batch search\n",
    "def fieldList(iterList, idxList, parent=True):\n",
    "    fieldList = []\n",
    "    iterList = []\n",
    "    batchsize = 10000\n",
    "    if not parent:\n",
    "        iterList.reverse()\n",
    "        idxList.reverse()\n",
    "\n",
    "    # measure wall time\n",
    "    t0 = time.time()\n",
    "\n",
    "    #print(len(idxList))\n",
    "    # mini-batch to traverse indexList\n",
    "    while len(idxList) > 0:\n",
    "        idx1 = idxList[:min(len(idxList), batchsize)]\n",
    "        cntr = 0\n",
    "        for item in iterList:\n",
    "            if parent:\n",
    "                pc = parent2(item, idx1)\n",
    "            else:\n",
    "                pc = child2(item, idx1)\n",
    "            if len(pc) > 0:\n",
    "                iterList.append(item)\n",
    "                if parent:\n",
    "                    fieldList.append(max(pc))\n",
    "                else:\n",
    "                    fieldList.append(min(pc))\n",
    "                idx1 = idx1[len(pc):]\n",
    "                cntr+=1\n",
    "            else:\n",
    "                break\n",
    "\n",
    "        print (time.time() - t0, \"seconds wall time at \", len(idxList) / batchsize)\n",
    "        idxList = idxList[min(len(idxList), batchsize):]\n",
    "        iterList = iterList[cntr:]\n",
    "        #if parent:\n",
    "         #   print(item, max(fieldList))\n",
    "        #else:\n",
    "         #   print(item, min(fieldList))\n",
    "            \n",
    "    return fieldList , iterList                  \n",
    "    "
   ]
  },
  {
   "cell_type": "code",
   "execution_count": 56,
   "metadata": {},
   "outputs": [
    {
     "name": "stdout",
     "output_type": "stream",
     "text": [
      "0.0009992122650146484 seconds wall time at  200.1469\n",
      "0.029001951217651367 seconds wall time at  199.1469\n",
      "0.08075737953186035 seconds wall time at  198.1469\n",
      "0.11642599105834961 seconds wall time at  197.1469\n",
      "0.15243816375732422 seconds wall time at  196.1469\n",
      "0.19745612144470215 seconds wall time at  195.1469\n",
      "0.2340078353881836 seconds wall time at  194.1469\n",
      "0.27703356742858887 seconds wall time at  193.1469\n",
      "0.31903696060180664 seconds wall time at  192.1469\n",
      "0.3779726028442383 seconds wall time at  191.1469\n",
      "0.42019081115722656 seconds wall time at  190.1469\n",
      "0.45804405212402344 seconds wall time at  189.1469\n",
      "0.49463391304016113 seconds wall time at  188.1469\n",
      "0.5308716297149658 seconds wall time at  187.1469\n",
      "0.5728805065155029 seconds wall time at  186.1469\n",
      "0.619767427444458 seconds wall time at  185.1469\n",
      "0.6649339199066162 seconds wall time at  184.1469\n",
      "0.6990485191345215 seconds wall time at  183.1469\n",
      "0.7369034290313721 seconds wall time at  182.1469\n",
      "0.7715651988983154 seconds wall time at  181.1469\n",
      "0.8060786724090576 seconds wall time at  180.1469\n",
      "0.8456766605377197 seconds wall time at  179.1469\n",
      "0.892554521560669 seconds wall time at  178.1469\n",
      "0.9388484954833984 seconds wall time at  177.1469\n",
      "0.972353458404541 seconds wall time at  176.1469\n",
      "1.005814552307129 seconds wall time at  175.1469\n",
      "1.0385444164276123 seconds wall time at  174.1469\n",
      "1.0838344097137451 seconds wall time at  173.1469\n",
      "1.122206449508667 seconds wall time at  172.1469\n",
      "1.163001298904419 seconds wall time at  171.1469\n",
      "1.2078711986541748 seconds wall time at  170.1469\n",
      "1.2395617961883545 seconds wall time at  169.1469\n",
      "1.2711844444274902 seconds wall time at  168.1469\n",
      "1.3565256595611572 seconds wall time at  167.1469\n",
      "1.387765645980835 seconds wall time at  166.1469\n",
      "1.4194769859313965 seconds wall time at  165.1469\n",
      "1.4490857124328613 seconds wall time at  164.1469\n",
      "1.4796884059906006 seconds wall time at  163.1469\n",
      "1.5106778144836426 seconds wall time at  162.1469\n",
      "1.5425076484680176 seconds wall time at  161.1469\n",
      "1.5720255374908447 seconds wall time at  160.1469\n",
      "1.6023693084716797 seconds wall time at  159.1469\n",
      "1.6363730430603027 seconds wall time at  158.1469\n",
      "1.6683757305145264 seconds wall time at  157.1469\n",
      "1.7036752700805664 seconds wall time at  156.1469\n",
      "1.7336444854736328 seconds wall time at  155.1469\n",
      "1.7632381916046143 seconds wall time at  154.1469\n",
      "1.792398452758789 seconds wall time at  153.1469\n",
      "1.8256523609161377 seconds wall time at  152.1469\n",
      "1.856654405593872 seconds wall time at  151.1469\n",
      "1.8873331546783447 seconds wall time at  150.1469\n",
      "1.9164292812347412 seconds wall time at  149.1469\n",
      "1.9429163932800293 seconds wall time at  148.1469\n",
      "1.9693603515625 seconds wall time at  147.1469\n",
      "1.9966859817504883 seconds wall time at  146.1469\n",
      "2.022250175476074 seconds wall time at  145.1469\n",
      "2.0494136810302734 seconds wall time at  144.1469\n",
      "2.078561782836914 seconds wall time at  143.1469\n",
      "2.110945224761963 seconds wall time at  142.1469\n",
      "2.1382923126220703 seconds wall time at  141.1469\n",
      "2.1697030067443848 seconds wall time at  140.1469\n",
      "2.19765567779541 seconds wall time at  139.1469\n",
      "2.22434139251709 seconds wall time at  138.1469\n",
      "2.2534565925598145 seconds wall time at  137.1469\n",
      "2.282139539718628 seconds wall time at  136.1469\n",
      "2.3108036518096924 seconds wall time at  135.1469\n",
      "2.337804079055786 seconds wall time at  134.1469\n",
      "2.3654890060424805 seconds wall time at  133.1469\n",
      "2.390798568725586 seconds wall time at  132.1469\n",
      "2.4151723384857178 seconds wall time at  131.1469\n",
      "2.444561719894409 seconds wall time at  130.1469\n",
      "2.468202590942383 seconds wall time at  129.1469\n",
      "2.4965384006500244 seconds wall time at  128.1469\n",
      "2.52112078666687 seconds wall time at  127.1469\n",
      "2.5463242530822754 seconds wall time at  126.1469\n",
      "2.601619243621826 seconds wall time at  125.1469\n",
      "2.6254169940948486 seconds wall time at  124.1469\n",
      "2.64916729927063 seconds wall time at  123.1469\n",
      "2.671757936477661 seconds wall time at  122.1469\n",
      "2.6971943378448486 seconds wall time at  121.1469\n",
      "2.719712257385254 seconds wall time at  120.1469\n",
      "2.7420449256896973 seconds wall time at  119.1469\n",
      "2.7658636569976807 seconds wall time at  118.1469\n",
      "2.7927815914154053 seconds wall time at  117.1469\n",
      "2.8237857818603516 seconds wall time at  116.1469\n",
      "2.8487884998321533 seconds wall time at  115.1469\n",
      "2.8732683658599854 seconds wall time at  114.1469\n",
      "2.894886016845703 seconds wall time at  113.1469\n",
      "2.9181060791015625 seconds wall time at  112.1469\n",
      "2.943495035171509 seconds wall time at  111.1469\n",
      "2.9649007320404053 seconds wall time at  110.1469\n",
      "2.985696792602539 seconds wall time at  109.1469\n",
      "3.0082483291625977 seconds wall time at  108.1469\n",
      "3.0322506427764893 seconds wall time at  107.1469\n",
      "3.0587925910949707 seconds wall time at  106.1469\n",
      "3.079976797103882 seconds wall time at  105.1469\n",
      "3.101133346557617 seconds wall time at  104.1469\n",
      "3.1219942569732666 seconds wall time at  103.1469\n",
      "3.1435341835021973 seconds wall time at  102.1469\n",
      "3.162518262863159 seconds wall time at  101.1469\n",
      "3.181697130203247 seconds wall time at  100.1469\n",
      "3.2127013206481934 seconds wall time at  99.1469\n",
      "3.2410874366760254 seconds wall time at  98.1469\n",
      "3.2599565982818604 seconds wall time at  97.1469\n",
      "3.278203248977661 seconds wall time at  96.1469\n",
      "3.296464443206787 seconds wall time at  95.1469\n",
      "3.313807964324951 seconds wall time at  94.1469\n",
      "3.331202745437622 seconds wall time at  93.1469\n",
      "3.3477869033813477 seconds wall time at  92.1469\n",
      "3.365938186645508 seconds wall time at  91.1469\n",
      "3.383258104324341 seconds wall time at  90.1469\n",
      "3.4050943851470947 seconds wall time at  89.1469\n",
      "3.4250948429107666 seconds wall time at  88.1469\n",
      "3.4454102516174316 seconds wall time at  87.1469\n",
      "3.461030960083008 seconds wall time at  86.1469\n",
      "3.492280960083008 seconds wall time at  85.1469\n",
      "3.5079081058502197 seconds wall time at  84.1469\n",
      "3.5391595363616943 seconds wall time at  83.1469\n",
      "3.5656020641326904 seconds wall time at  82.1469\n",
      "3.582897186279297 seconds wall time at  81.1469\n",
      "3.599313259124756 seconds wall time at  80.1469\n",
      "3.6143555641174316 seconds wall time at  79.1469\n",
      "3.630553722381592 seconds wall time at  78.1469\n",
      "3.6525561809539795 seconds wall time at  77.1469\n",
      "3.6676881313323975 seconds wall time at  76.1469\n",
      "3.682539701461792 seconds wall time at  75.1469\n",
      "3.6967649459838867 seconds wall time at  74.1469\n",
      "3.7101166248321533 seconds wall time at  73.1469\n",
      "3.7232589721679688 seconds wall time at  72.1469\n",
      "3.736757278442383 seconds wall time at  71.1469\n",
      "3.74991512298584 seconds wall time at  70.1469\n",
      "3.762056350708008 seconds wall time at  69.1469\n",
      "3.7742180824279785 seconds wall time at  68.1469\n",
      "3.787532091140747 seconds wall time at  67.1469\n",
      "3.7998595237731934 seconds wall time at  66.1469\n",
      "3.8128530979156494 seconds wall time at  65.1469\n",
      "3.8252809047698975 seconds wall time at  64.1469\n",
      "3.843282699584961 seconds wall time at  63.1469\n",
      "3.8579905033111572 seconds wall time at  62.1469\n",
      "3.8691256046295166 seconds wall time at  61.1469\n",
      "3.883533000946045 seconds wall time at  60.1469\n",
      "3.8946712017059326 seconds wall time at  59.1469\n",
      "3.9058284759521484 seconds wall time at  58.1469\n",
      "3.9181606769561768 seconds wall time at  57.1469\n",
      "3.9293487071990967 seconds wall time at  56.1469\n",
      "3.9404971599578857 seconds wall time at  55.1469\n",
      "3.9498679637908936 seconds wall time at  54.1469\n",
      "3.959038734436035 seconds wall time at  53.1469\n",
      "3.9682044982910156 seconds wall time at  52.1469\n",
      "3.9791550636291504 seconds wall time at  51.1469\n",
      "3.988363027572632 seconds wall time at  50.1469\n",
      "3.9973642826080322 seconds wall time at  49.1469\n",
      "4.006606578826904 seconds wall time at  48.1469\n",
      "4.014871120452881 seconds wall time at  47.1469\n",
      "4.02203631401062 seconds wall time at  46.1469\n",
      "4.0292067527771 seconds wall time at  45.1469\n",
      "4.037354230880737 seconds wall time at  44.1469\n",
      "4.045349359512329 seconds wall time at  43.1469\n",
      "4.056542873382568 seconds wall time at  42.1469\n",
      "4.066544055938721 seconds wall time at  41.1469\n",
      "4.074545860290527 seconds wall time at  40.1469\n",
      "4.083688497543335 seconds wall time at  39.1469\n",
      "4.091688632965088 seconds wall time at  38.1469\n",
      "4.099920749664307 seconds wall time at  37.1469\n",
      "4.105921506881714 seconds wall time at  36.1469\n",
      "4.111697196960449 seconds wall time at  35.1469\n",
      "4.118834495544434 seconds wall time at  34.1469\n",
      "4.123833417892456 seconds wall time at  33.1469\n",
      "4.128980875015259 seconds wall time at  32.1469\n",
      "4.137800931930542 seconds wall time at  31.1469\n",
      "4.142778158187866 seconds wall time at  30.1469\n",
      "4.147997617721558 seconds wall time at  29.1469\n",
      "4.151994466781616 seconds wall time at  28.1469\n",
      "4.157124996185303 seconds wall time at  27.1469\n",
      "4.161125421524048 seconds wall time at  26.1469\n",
      "4.169126033782959 seconds wall time at  25.1469\n",
      "4.176109313964844 seconds wall time at  24.1469\n",
      "4.181222438812256 seconds wall time at  23.1469\n",
      "4.186220645904541 seconds wall time at  22.1469\n",
      "4.19037652015686 seconds wall time at  21.1469\n",
      "4.193376302719116 seconds wall time at  20.1469\n",
      "4.19637656211853 seconds wall time at  19.1469\n",
      "4.199600696563721 seconds wall time at  18.1469\n",
      "4.202585220336914 seconds wall time at  17.1469\n",
      "4.204585552215576 seconds wall time at  16.1469\n",
      "4.20771336555481 seconds wall time at  15.1469\n",
      "4.209706544876099 seconds wall time at  14.1469\n",
      "4.211708307266235 seconds wall time at  13.1469\n",
      "4.213707447052002 seconds wall time at  12.1469\n",
      "4.215707540512085 seconds wall time at  11.1469\n",
      "4.2167088985443115 seconds wall time at  10.1469\n",
      "4.220849275588989 seconds wall time at  9.1469\n",
      "4.222850799560547 seconds wall time at  8.1469\n"
     ]
    },
    {
     "name": "stdout",
     "output_type": "stream",
     "text": [
      "4.223856687545776 seconds wall time at  7.1469\n",
      "4.224853038787842 seconds wall time at  6.1469\n",
      "4.230582237243652 seconds wall time at  5.1469\n",
      "4.231576919555664 seconds wall time at  4.1469\n",
      "4.231576919555664 seconds wall time at  3.1469\n",
      "4.23457670211792 seconds wall time at  2.1469\n",
      "4.235578775405884 seconds wall time at  1.1469\n",
      "4.235578775405884 seconds wall time at  0.1469\n"
     ]
    }
   ],
   "source": [
    "idx1 = indexList.copy()\n",
    "f, i = fieldList(iterList, idx1)\n"
   ]
  },
  {
   "cell_type": "code",
   "execution_count": 58,
   "metadata": {},
   "outputs": [
    {
     "data": {
      "text/html": [
       "<div>\n",
       "<style scoped>\n",
       "    .dataframe tbody tr th:only-of-type {\n",
       "        vertical-align: middle;\n",
       "    }\n",
       "\n",
       "    .dataframe tbody tr th {\n",
       "        vertical-align: top;\n",
       "    }\n",
       "\n",
       "    .dataframe thead th {\n",
       "        text-align: right;\n",
       "    }\n",
       "</style>\n",
       "<table border=\"1\" class=\"dataframe\">\n",
       "  <thead>\n",
       "    <tr style=\"text-align: right;\">\n",
       "      <th></th>\n",
       "      <th>begin_end</th>\n",
       "      <th>debugID</th>\n",
       "      <th>startTime</th>\n",
       "      <th>tagName</th>\n",
       "      <th>idref</th>\n",
       "    </tr>\n",
       "  </thead>\n",
       "  <tbody>\n",
       "  </tbody>\n",
       "</table>\n",
       "</div>"
      ],
      "text/plain": [
       "Empty DataFrame\n",
       "Columns: [begin_end, debugID, startTime, tagName, idref]\n",
       "Index: []"
      ]
     },
     "execution_count": 58,
     "metadata": {},
     "output_type": "execute_result"
    }
   ],
   "source": [
    "f[55:59]\n",
    "df.iloc[f[55:59]]"
   ]
  },
  {
   "cell_type": "code",
   "execution_count": 43,
   "metadata": {},
   "outputs": [],
   "source": [
    "df1 = df.iloc[f]\n",
    "# export to Excel ####\n",
    "with pd.ExcelWriter(output_excel, engine=\"openpyxl\", mode='a') as writer:  \n",
    "    df1.to_excel(writer, sheet_name='field_iterator')\n"
   ]
  },
  {
   "cell_type": "code",
   "execution_count": 44,
   "metadata": {},
   "outputs": [
    {
     "name": "stdout",
     "output_type": "stream",
     "text": [
      "(73.57835745811462, 'seconds wall time after iterator field')\n"
     ]
    }
   ],
   "source": [
    "t6 = (time.time() - t0, \"seconds wall time after iterator field\")\n",
    "print(t6)"
   ]
  },
  {
   "cell_type": "code",
   "execution_count": 45,
   "metadata": {},
   "outputs": [],
   "source": [
    "idx1 = indexList.copy()\n",
    "b = fieldList(iterList, idx1, False)\n",
    "b.reverse()\n",
    "#iterList.reverse()"
   ]
  },
  {
   "cell_type": "code",
   "execution_count": 46,
   "metadata": {},
   "outputs": [
    {
     "name": "stdout",
     "output_type": "stream",
     "text": [
      "(78.07480072975159, 'seconds wall time after iterator following field')\n"
     ]
    }
   ],
   "source": [
    "t7 = (time.time() - t0, \"seconds wall time after iterator following field\")\n",
    "print(t7)"
   ]
  },
  {
   "cell_type": "code",
   "execution_count": 47,
   "metadata": {},
   "outputs": [
    {
     "data": {
      "text/plain": [
       "([19964807, 19964767], 107, [10, 20], 19964918, [19504778, 19504785], 19964812)"
      ]
     },
     "execution_count": 47,
     "metadata": {},
     "output_type": "execute_result"
    }
   ],
   "source": [
    "iterList[:2], iterList[-1], indexList[:2], indexList[-1], b[:2], b[-1]"
   ]
  },
  {
   "cell_type": "code",
   "execution_count": 48,
   "metadata": {},
   "outputs": [],
   "source": [
    "df1 = df.iloc[b[55:59]]"
   ]
  },
  {
   "cell_type": "code",
   "execution_count": 57,
   "metadata": {},
   "outputs": [
    {
     "data": {
      "text/plain": [
       "(2001469, 30334, 0, 0)"
      ]
     },
     "execution_count": 57,
     "metadata": {},
     "output_type": "execute_result"
    }
   ],
   "source": [
    "len(indexList), len(iterList), len(f), len(i)"
   ]
  },
  {
   "cell_type": "code",
   "execution_count": null,
   "metadata": {},
   "outputs": [],
   "source": []
  },
  {
   "cell_type": "code",
   "execution_count": 49,
   "metadata": {},
   "outputs": [
    {
     "name": "stderr",
     "output_type": "stream",
     "text": [
      "<ipython-input-49-2b92f50189f0>:1: FutureWarning: Indexing with multiple keys (implicitly converted to a tuple of keys) will be deprecated, use a list instead.\n",
      "  df1 = df.iloc[f].groupby(['idref'])['idref','debugID'].count().sort_values(by='debugID', ascending=False)['idref']\n"
     ]
    }
   ],
   "source": [
    "df1 = df.iloc[f].groupby(['idref'])['idref','debugID'].count().sort_values(by='debugID', ascending=False)['idref']\n",
    "df1.columns=['field_iterator', 'count']\n",
    "# export to Excel ####\n",
    "with pd.ExcelWriter(output_excel, engine=\"openpyxl\", mode='a') as writer:  \n",
    "    df1.to_excel(writer, sheet_name='field_iterator_count')\n"
   ]
  },
  {
   "cell_type": "code",
   "execution_count": 50,
   "metadata": {},
   "outputs": [
    {
     "name": "stdout",
     "output_type": "stream",
     "text": [
      "(80.85882616043091, 'seconds wall time after iterator field count')\n"
     ]
    }
   ],
   "source": [
    "t8 = (time.time() - t0, \"seconds wall time after iterator field count\")\n",
    "print(t8)"
   ]
  },
  {
   "cell_type": "code",
   "execution_count": 51,
   "metadata": {},
   "outputs": [
    {
     "name": "stdout",
     "output_type": "stream",
     "text": [
      "(26.67837905883789, 'seconds wall time after read_csv')\n",
      "(46.98890948295593, 'seconds wall time after sanitization')\n",
      "(51.52870416641235, 'seconds wall time after frequence')\n",
      "(54.35605978965759, 'seconds wall time after iterator')\n",
      "(63.81689667701721, 'seconds wall time after timing')\n",
      "(73.57835745811462, 'seconds wall time after iterator field')\n",
      "(78.07480072975159, 'seconds wall time after iterator following field')\n",
      "(80.85882616043091, 'seconds wall time after iterator field count')\n"
     ]
    }
   ],
   "source": [
    "print(t1)\n",
    "print(t2)\n",
    "print(t3)\n",
    "print(t4)\n",
    "print(t5)\n",
    "print(t6)\n",
    "print(t7)\n",
    "print(t8)"
   ]
  }
 ],
 "metadata": {
  "kernelspec": {
   "display_name": "Python 3",
   "language": "python",
   "name": "python3"
  },
  "language_info": {
   "codemirror_mode": {
    "name": "ipython",
    "version": 3
   },
   "file_extension": ".py",
   "mimetype": "text/x-python",
   "name": "python",
   "nbconvert_exporter": "python",
   "pygments_lexer": "ipython3",
   "version": "3.8.8"
  }
 },
 "nbformat": 4,
 "nbformat_minor": 4
}

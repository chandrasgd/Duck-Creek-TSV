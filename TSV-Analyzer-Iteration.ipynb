{
 "cells": [
  {
   "cell_type": "code",
   "execution_count": 51,
   "metadata": {},
   "outputs": [],
   "source": [
    "import os\n",
    "import time\n",
    "import pandas as pd\n",
    "import numpy as np"
   ]
  },
  {
   "cell_type": "code",
   "execution_count": 52,
   "metadata": {},
   "outputs": [],
   "source": [
    "#C:\\Anaconda3\\lib\\site-packages\\IPython\\core\\interactiveshell.py:3165: \n",
    "### DtypeWarning: Columns (1) have mixed types.Specify dtype option on import or set low_memory=False.\n",
    "### has_raised = await self.run_ast_nodes(code_ast.body, cell_name,"
   ]
  },
  {
   "cell_type": "code",
   "execution_count": 53,
   "metadata": {},
   "outputs": [],
   "source": [
    "# measure wall time\n",
    "t0 = time.time()"
   ]
  },
  {
   "cell_type": "code",
   "execution_count": 54,
   "metadata": {},
   "outputs": [],
   "source": [
    "os.getcwd()\n",
    "filepath='C:\\\\CPP_Performance\\\\TSV Files\\\\UAEdits\\\\6D105A9CB9AB46169A5AB5B7A4FA1C1B7A35CF4E48E90C41 - 2021-06-16 09-57-11-470.tsv'\n",
    "output_excel='C:\\\\CPP_Performance\\\\TSV Files\\\\UAEdits\\\\6D105A9CB9AB46169A5AB5B7A4FA1C1B7A35CF4E48E90C41 - 2021-06-16 09-57-11-470.xlsx'\n",
    "\n",
    "filepath='C:\\\\CPP_Performance\\\\TSV Files\\\\Parkland School Policy\\\\15DB645E06504909AE4AA869AC8A2C9D7A35CF4E48E90C41 - 2021-10-20 13-55-28-084.tsv'\n",
    "output_excel='C:\\\\CPP_Performance\\\\TSV Files\\\\Parkland School Policy\\\\15DB645E06504909AE4AA869AC8A2C9D7A35CF4E48E90C41 - 2021-10-20 13-55-28-084.xlsx'\n",
    "\n",
    "#filepath='C:\\\\CPP_Performance\\\\TSV Files\\\\CLMQA\\\\CD4CCA2343B44EEAB4932B20DEE7EB3A79272D7148E90C41 - 2021-10-27 16-09-57-931.tsv'\n",
    "#output_excel='C:\\\\CPP_Performance\\\\TSV Files\\\\CLMQA\\\\CD4CCA2343B44EEAB4932B20DEE7EB3A79272D7148E90C41 - 2021-10-27 16-09-57-931.xlsx'\n",
    "\n",
    "df = pd.read_csv(filepath, sep='~', engine='c', header=1\n",
    "                ,usecols=['begin_end', 'debugID', 'startTime', 'tagName', 'idref']\n",
    "                ,names=['begin_end', 'debugID', 'startTime', 'tagName', 'idref']\n",
    "                ,dtype= {'begin_end': 'category', 'debugID': str, 'startTime': str, 'tagName':'category', 'idref':str}\n",
    "                )\n",
    "                         #, np.float64, ‘b’: np.int32, ‘c’: ‘Int64’}"
   ]
  },
  {
   "cell_type": "code",
   "execution_count": 55,
   "metadata": {},
   "outputs": [
    {
     "name": "stdout",
     "output_type": "stream",
     "text": [
      "(71.68976187705994, 'seconds wall time after read_csv')\n"
     ]
    }
   ],
   "source": [
    "t1 = (time.time() - t0, \"seconds wall time after read_csv\")\n",
    "print(t1)\n",
    "#df.describe"
   ]
  },
  {
   "cell_type": "code",
   "execution_count": 56,
   "metadata": {},
   "outputs": [],
   "source": [
    "#df.columns = ['begin_end', 'debugID', 'startTime', 'tagName', 'idref']\n",
    "#df.head(10)"
   ]
  },
  {
   "cell_type": "code",
   "execution_count": 57,
   "metadata": {},
   "outputs": [
    {
     "data": {
      "text/html": [
       "<div>\n",
       "<style scoped>\n",
       "    .dataframe tbody tr th:only-of-type {\n",
       "        vertical-align: middle;\n",
       "    }\n",
       "\n",
       "    .dataframe tbody tr th {\n",
       "        vertical-align: top;\n",
       "    }\n",
       "\n",
       "    .dataframe thead th {\n",
       "        text-align: right;\n",
       "    }\n",
       "</style>\n",
       "<table border=\"1\" class=\"dataframe\">\n",
       "  <thead>\n",
       "    <tr style=\"text-align: right;\">\n",
       "      <th></th>\n",
       "      <th>begin_end</th>\n",
       "      <th>debugID</th>\n",
       "      <th>startTime</th>\n",
       "      <th>tagName</th>\n",
       "      <th>idref</th>\n",
       "    </tr>\n",
       "  </thead>\n",
       "  <tbody>\n",
       "    <tr>\n",
       "      <th>0</th>\n",
       "      <td>b</td>\n",
       "      <td>1</td>\n",
       "      <td>13:55:28:084</td>\n",
       "      <td>page</td>\n",
       "      <td>NaN</td>\n",
       "    </tr>\n",
       "    <tr>\n",
       "      <th>1</th>\n",
       "      <td>b</td>\n",
       "      <td>2</td>\n",
       "      <td>13:55:28:084</td>\n",
       "      <td>worksheet</td>\n",
       "      <td>NaN</td>\n",
       "    </tr>\n",
       "    <tr>\n",
       "      <th>2</th>\n",
       "      <td>b</td>\n",
       "      <td>3</td>\n",
       "      <td>13:55:28:084</td>\n",
       "      <td>maxOccurs</td>\n",
       "      <td>NaN</td>\n",
       "    </tr>\n",
       "    <tr>\n",
       "      <th>3</th>\n",
       "      <td>e</td>\n",
       "      <td>3</td>\n",
       "      <td>13:55:28:084</td>\n",
       "      <td>1</td>\n",
       "      <td>NaN</td>\n",
       "    </tr>\n",
       "    <tr>\n",
       "      <th>4</th>\n",
       "      <td>b</td>\n",
       "      <td>4</td>\n",
       "      <td>13:55:28:084</td>\n",
       "      <td>minOccurs</td>\n",
       "      <td>NaN</td>\n",
       "    </tr>\n",
       "  </tbody>\n",
       "</table>\n",
       "</div>"
      ],
      "text/plain": [
       "  begin_end  debugID     startTime    tagName idref\n",
       "0         b        1  13:55:28:084       page   NaN\n",
       "1         b        2  13:55:28:084  worksheet   NaN\n",
       "2         b        3  13:55:28:084  maxOccurs   NaN\n",
       "3         e        3  13:55:28:084          1   NaN\n",
       "4         b        4  13:55:28:084  minOccurs   NaN"
      ]
     },
     "execution_count": 57,
     "metadata": {},
     "output_type": "execute_result"
    }
   ],
   "source": [
    "# sanitize data\n",
    "df.drop(df[df['debugID'] == ' unique debugID '].index, inplace = True)\n",
    "# convert str to int\n",
    "df['debugID'] = pd.to_numeric(df['debugID'])\n",
    "\n",
    "df.head()"
   ]
  },
  {
   "cell_type": "code",
   "execution_count": 58,
   "metadata": {},
   "outputs": [
    {
     "name": "stdout",
     "output_type": "stream",
     "text": [
      "(137.6274173259735, 'seconds wall time after sanitization')\n"
     ]
    }
   ],
   "source": [
    "t2 = (time.time() - t0, \"seconds wall time after sanitization\")\n",
    "print(t2)\n"
   ]
  },
  {
   "cell_type": "code",
   "execution_count": 109,
   "metadata": {},
   "outputs": [
    {
     "name": "stderr",
     "output_type": "stream",
     "text": [
      "<ipython-input-109-9149596e8ed3>:1: FutureWarning: Indexing with multiple keys (implicitly converted to a tuple of keys) will be deprecated, use a list instead.\n",
      "  df1=df.groupby(['idref'])['index', 'idref', 'debugID'].count().sort_values(by='debugID', ascending=False)['idref']\n"
     ]
    },
    {
     "ename": "KeyError",
     "evalue": "\"Columns not found: 'index'\"",
     "output_type": "error",
     "traceback": [
      "\u001b[1;31m---------------------------------------------------------------------------\u001b[0m",
      "\u001b[1;31mKeyError\u001b[0m                                  Traceback (most recent call last)",
      "\u001b[1;32m<ipython-input-109-9149596e8ed3>\u001b[0m in \u001b[0;36m<module>\u001b[1;34m\u001b[0m\n\u001b[1;32m----> 1\u001b[1;33m \u001b[0mdf1\u001b[0m\u001b[1;33m=\u001b[0m\u001b[0mdf\u001b[0m\u001b[1;33m.\u001b[0m\u001b[0mgroupby\u001b[0m\u001b[1;33m(\u001b[0m\u001b[1;33m[\u001b[0m\u001b[1;34m'idref'\u001b[0m\u001b[1;33m]\u001b[0m\u001b[1;33m)\u001b[0m\u001b[1;33m[\u001b[0m\u001b[1;34m'index'\u001b[0m\u001b[1;33m,\u001b[0m \u001b[1;34m'idref'\u001b[0m\u001b[1;33m,\u001b[0m \u001b[1;34m'debugID'\u001b[0m\u001b[1;33m]\u001b[0m\u001b[1;33m.\u001b[0m\u001b[0mcount\u001b[0m\u001b[1;33m(\u001b[0m\u001b[1;33m)\u001b[0m\u001b[1;33m.\u001b[0m\u001b[0msort_values\u001b[0m\u001b[1;33m(\u001b[0m\u001b[0mby\u001b[0m\u001b[1;33m=\u001b[0m\u001b[1;34m'debugID'\u001b[0m\u001b[1;33m,\u001b[0m \u001b[0mascending\u001b[0m\u001b[1;33m=\u001b[0m\u001b[1;32mFalse\u001b[0m\u001b[1;33m)\u001b[0m\u001b[1;33m[\u001b[0m\u001b[1;34m'idref'\u001b[0m\u001b[1;33m]\u001b[0m\u001b[1;33m\u001b[0m\u001b[1;33m\u001b[0m\u001b[0m\n\u001b[0m\u001b[0;32m      2\u001b[0m \u001b[0mdf1\u001b[0m\u001b[1;33m.\u001b[0m\u001b[0mhead\u001b[0m\u001b[1;33m(\u001b[0m\u001b[1;36m20\u001b[0m\u001b[1;33m)\u001b[0m\u001b[1;33m\u001b[0m\u001b[1;33m\u001b[0m\u001b[0m\n",
      "\u001b[1;32mC:\\Anaconda3\\lib\\site-packages\\pandas\\core\\groupby\\generic.py\u001b[0m in \u001b[0;36m__getitem__\u001b[1;34m(self, key)\u001b[0m\n\u001b[0;32m   1540\u001b[0m                 \u001b[0mstacklevel\u001b[0m\u001b[1;33m=\u001b[0m\u001b[1;36m2\u001b[0m\u001b[1;33m,\u001b[0m\u001b[1;33m\u001b[0m\u001b[1;33m\u001b[0m\u001b[0m\n\u001b[0;32m   1541\u001b[0m             )\n\u001b[1;32m-> 1542\u001b[1;33m         \u001b[1;32mreturn\u001b[0m \u001b[0msuper\u001b[0m\u001b[1;33m(\u001b[0m\u001b[1;33m)\u001b[0m\u001b[1;33m.\u001b[0m\u001b[0m__getitem__\u001b[0m\u001b[1;33m(\u001b[0m\u001b[0mkey\u001b[0m\u001b[1;33m)\u001b[0m\u001b[1;33m\u001b[0m\u001b[1;33m\u001b[0m\u001b[0m\n\u001b[0m\u001b[0;32m   1543\u001b[0m \u001b[1;33m\u001b[0m\u001b[0m\n\u001b[0;32m   1544\u001b[0m     \u001b[1;32mdef\u001b[0m \u001b[0m_gotitem\u001b[0m\u001b[1;33m(\u001b[0m\u001b[0mself\u001b[0m\u001b[1;33m,\u001b[0m \u001b[0mkey\u001b[0m\u001b[1;33m,\u001b[0m \u001b[0mndim\u001b[0m\u001b[1;33m:\u001b[0m \u001b[0mint\u001b[0m\u001b[1;33m,\u001b[0m \u001b[0msubset\u001b[0m\u001b[1;33m=\u001b[0m\u001b[1;32mNone\u001b[0m\u001b[1;33m)\u001b[0m\u001b[1;33m:\u001b[0m\u001b[1;33m\u001b[0m\u001b[1;33m\u001b[0m\u001b[0m\n",
      "\u001b[1;32mC:\\Anaconda3\\lib\\site-packages\\pandas\\core\\base.py\u001b[0m in \u001b[0;36m__getitem__\u001b[1;34m(self, key)\u001b[0m\n\u001b[0;32m    266\u001b[0m                     \u001b[0mset\u001b[0m\u001b[1;33m(\u001b[0m\u001b[0mkey\u001b[0m\u001b[1;33m)\u001b[0m\u001b[1;33m.\u001b[0m\u001b[0mdifference\u001b[0m\u001b[1;33m(\u001b[0m\u001b[0mself\u001b[0m\u001b[1;33m.\u001b[0m\u001b[0mobj\u001b[0m\u001b[1;33m.\u001b[0m\u001b[0mcolumns\u001b[0m\u001b[1;33m)\u001b[0m  \u001b[1;31m# type: ignore[attr-defined]\u001b[0m\u001b[1;33m\u001b[0m\u001b[1;33m\u001b[0m\u001b[0m\n\u001b[0;32m    267\u001b[0m                 )\n\u001b[1;32m--> 268\u001b[1;33m                 \u001b[1;32mraise\u001b[0m \u001b[0mKeyError\u001b[0m\u001b[1;33m(\u001b[0m\u001b[1;34mf\"Columns not found: {str(bad_keys)[1:-1]}\"\u001b[0m\u001b[1;33m)\u001b[0m\u001b[1;33m\u001b[0m\u001b[1;33m\u001b[0m\u001b[0m\n\u001b[0m\u001b[0;32m    269\u001b[0m             \u001b[1;32mreturn\u001b[0m \u001b[0mself\u001b[0m\u001b[1;33m.\u001b[0m\u001b[0m_gotitem\u001b[0m\u001b[1;33m(\u001b[0m\u001b[0mlist\u001b[0m\u001b[1;33m(\u001b[0m\u001b[0mkey\u001b[0m\u001b[1;33m)\u001b[0m\u001b[1;33m,\u001b[0m \u001b[0mndim\u001b[0m\u001b[1;33m=\u001b[0m\u001b[1;36m2\u001b[0m\u001b[1;33m)\u001b[0m\u001b[1;33m\u001b[0m\u001b[1;33m\u001b[0m\u001b[0m\n\u001b[0;32m    270\u001b[0m \u001b[1;33m\u001b[0m\u001b[0m\n",
      "\u001b[1;31mKeyError\u001b[0m: \"Columns not found: 'index'\""
     ]
    }
   ],
   "source": [
    "df1=df.groupby(['idref'])['idref', 'debugID'].count().sort_values(by='debugID', ascending=False)['idref']\n",
    "df1.head(20)\n"
   ]
  },
  {
   "cell_type": "code",
   "execution_count": 107,
   "metadata": {},
   "outputs": [
    {
     "data": {
      "text/plain": [
       "<bound method NDFrame.describe of          begin_end   debugID     startTime     tagName idref\n",
       "0                b         1  13:55:28:084        page   NaN\n",
       "1                b         2  13:55:28:084   worksheet   NaN\n",
       "2                b         3  13:55:28:084   maxOccurs   NaN\n",
       "3                e         3  13:55:28:084           1   NaN\n",
       "4                b         4  13:55:28:084   minOccurs   NaN\n",
       "...            ...       ...           ...         ...   ...\n",
       "60810729         e  30405353  14:02:56:997      (true)   NaN\n",
       "60810730         e  30405228  14:02:56:997     (false)   NaN\n",
       "60810731         e  30405227  14:02:56:997           0   NaN\n",
       "60810732         e  30388071  14:02:56:997     actions   NaN\n",
       "60810733         e         1  14:02:56:997  NewPricing   NaN\n",
       "\n",
       "[60810734 rows x 5 columns]>"
      ]
     },
     "execution_count": 107,
     "metadata": {},
     "output_type": "execute_result"
    }
   ],
   "source": [
    "df.describe"
   ]
  },
  {
   "cell_type": "code",
   "execution_count": 103,
   "metadata": {},
   "outputs": [
    {
     "ename": "KeyError",
     "evalue": "'passes columns are not ALL present dataframe'",
     "output_type": "error",
     "traceback": [
      "\u001b[1;31m---------------------------------------------------------------------------\u001b[0m",
      "\u001b[1;31mKeyError\u001b[0m                                  Traceback (most recent call last)",
      "\u001b[1;32m<ipython-input-103-c93ccb6210c3>\u001b[0m in \u001b[0;36m<module>\u001b[1;34m\u001b[0m\n\u001b[0;32m      1\u001b[0m \u001b[1;31m# export to Excel ####\u001b[0m\u001b[1;33m\u001b[0m\u001b[1;33m\u001b[0m\u001b[1;33m\u001b[0m\u001b[0m\n\u001b[0;32m      2\u001b[0m \u001b[1;32mwith\u001b[0m \u001b[0mpd\u001b[0m\u001b[1;33m.\u001b[0m\u001b[0mExcelWriter\u001b[0m\u001b[1;33m(\u001b[0m\u001b[0moutput_excel\u001b[0m\u001b[1;33m)\u001b[0m \u001b[1;32mas\u001b[0m \u001b[0mwriter\u001b[0m\u001b[1;33m:\u001b[0m\u001b[1;33m\u001b[0m\u001b[1;33m\u001b[0m\u001b[0m\n\u001b[1;32m----> 3\u001b[1;33m     \u001b[0mdf1\u001b[0m\u001b[1;33m.\u001b[0m\u001b[0mto_excel\u001b[0m\u001b[1;33m(\u001b[0m\u001b[0mwriter\u001b[0m\u001b[1;33m,\u001b[0m \u001b[0msheet_name\u001b[0m\u001b[1;33m=\u001b[0m\u001b[1;34m'frequency'\u001b[0m\u001b[1;33m,\u001b[0m \u001b[0mcolumns\u001b[0m\u001b[1;33m=\u001b[0m\u001b[1;33m[\u001b[0m\u001b[1;34m'Field idref'\u001b[0m\u001b[1;33m,\u001b[0m \u001b[1;34m'count'\u001b[0m\u001b[1;33m]\u001b[0m\u001b[1;33m)\u001b[0m\u001b[1;33m\u001b[0m\u001b[1;33m\u001b[0m\u001b[0m\n\u001b[0m",
      "\u001b[1;32mC:\\Anaconda3\\lib\\site-packages\\pandas\\core\\generic.py\u001b[0m in \u001b[0;36mto_excel\u001b[1;34m(self, excel_writer, sheet_name, na_rep, float_format, columns, header, index, index_label, startrow, startcol, engine, merge_cells, encoding, inf_rep, verbose, freeze_panes, storage_options)\u001b[0m\n\u001b[0;32m   2176\u001b[0m         \u001b[1;32mfrom\u001b[0m \u001b[0mpandas\u001b[0m\u001b[1;33m.\u001b[0m\u001b[0mio\u001b[0m\u001b[1;33m.\u001b[0m\u001b[0mformats\u001b[0m\u001b[1;33m.\u001b[0m\u001b[0mexcel\u001b[0m \u001b[1;32mimport\u001b[0m \u001b[0mExcelFormatter\u001b[0m\u001b[1;33m\u001b[0m\u001b[1;33m\u001b[0m\u001b[0m\n\u001b[0;32m   2177\u001b[0m \u001b[1;33m\u001b[0m\u001b[0m\n\u001b[1;32m-> 2178\u001b[1;33m         formatter = ExcelFormatter(\n\u001b[0m\u001b[0;32m   2179\u001b[0m             \u001b[0mdf\u001b[0m\u001b[1;33m,\u001b[0m\u001b[1;33m\u001b[0m\u001b[1;33m\u001b[0m\u001b[0m\n\u001b[0;32m   2180\u001b[0m             \u001b[0mna_rep\u001b[0m\u001b[1;33m=\u001b[0m\u001b[0mna_rep\u001b[0m\u001b[1;33m,\u001b[0m\u001b[1;33m\u001b[0m\u001b[1;33m\u001b[0m\u001b[0m\n",
      "\u001b[1;32mC:\\Anaconda3\\lib\\site-packages\\pandas\\io\\formats\\excel.py\u001b[0m in \u001b[0;36m__init__\u001b[1;34m(self, df, na_rep, float_format, cols, header, index, index_label, merge_cells, inf_rep, style_converter)\u001b[0m\n\u001b[0;32m    464\u001b[0m             \u001b[1;31m# all missing, raise\u001b[0m\u001b[1;33m\u001b[0m\u001b[1;33m\u001b[0m\u001b[1;33m\u001b[0m\u001b[0m\n\u001b[0;32m    465\u001b[0m             \u001b[1;32mif\u001b[0m \u001b[1;32mnot\u001b[0m \u001b[0mlen\u001b[0m\u001b[1;33m(\u001b[0m\u001b[0mIndex\u001b[0m\u001b[1;33m(\u001b[0m\u001b[0mcols\u001b[0m\u001b[1;33m)\u001b[0m\u001b[1;33m.\u001b[0m\u001b[0mintersection\u001b[0m\u001b[1;33m(\u001b[0m\u001b[0mdf\u001b[0m\u001b[1;33m.\u001b[0m\u001b[0mcolumns\u001b[0m\u001b[1;33m)\u001b[0m\u001b[1;33m)\u001b[0m\u001b[1;33m:\u001b[0m\u001b[1;33m\u001b[0m\u001b[1;33m\u001b[0m\u001b[0m\n\u001b[1;32m--> 466\u001b[1;33m                 \u001b[1;32mraise\u001b[0m \u001b[0mKeyError\u001b[0m\u001b[1;33m(\u001b[0m\u001b[1;34m\"passes columns are not ALL present dataframe\"\u001b[0m\u001b[1;33m)\u001b[0m\u001b[1;33m\u001b[0m\u001b[1;33m\u001b[0m\u001b[0m\n\u001b[0m\u001b[0;32m    467\u001b[0m \u001b[1;33m\u001b[0m\u001b[0m\n\u001b[0;32m    468\u001b[0m             \u001b[1;32mif\u001b[0m \u001b[0mlen\u001b[0m\u001b[1;33m(\u001b[0m\u001b[0mIndex\u001b[0m\u001b[1;33m(\u001b[0m\u001b[0mcols\u001b[0m\u001b[1;33m)\u001b[0m\u001b[1;33m.\u001b[0m\u001b[0mintersection\u001b[0m\u001b[1;33m(\u001b[0m\u001b[0mdf\u001b[0m\u001b[1;33m.\u001b[0m\u001b[0mcolumns\u001b[0m\u001b[1;33m)\u001b[0m\u001b[1;33m)\u001b[0m \u001b[1;33m!=\u001b[0m \u001b[0mlen\u001b[0m\u001b[1;33m(\u001b[0m\u001b[0mset\u001b[0m\u001b[1;33m(\u001b[0m\u001b[0mcols\u001b[0m\u001b[1;33m)\u001b[0m\u001b[1;33m)\u001b[0m\u001b[1;33m:\u001b[0m\u001b[1;33m\u001b[0m\u001b[1;33m\u001b[0m\u001b[0m\n",
      "\u001b[1;31mKeyError\u001b[0m: 'passes columns are not ALL present dataframe'"
     ]
    }
   ],
   "source": [
    "# export to Excel ####\n",
    "with pd.ExcelWriter(output_excel) as writer:  \n",
    "    df1.to_excel(writer, sheet_name='frequency', columns=['Field idref', 'count'])\n"
   ]
  },
  {
   "cell_type": "code",
   "execution_count": 61,
   "metadata": {},
   "outputs": [],
   "source": [
    "del df1"
   ]
  },
  {
   "cell_type": "code",
   "execution_count": 62,
   "metadata": {},
   "outputs": [
    {
     "name": "stdout",
     "output_type": "stream",
     "text": [
      "(149.01693511009216, 'seconds wall time after frequence')\n"
     ]
    }
   ],
   "source": [
    "t3 = (time.time() - t0, \"seconds wall time after frequence\")\n",
    "print(t3)"
   ]
  },
  {
   "cell_type": "code",
   "execution_count": 63,
   "metadata": {},
   "outputs": [],
   "source": [
    "#df[df.idref.isin(['LocationPrivate.CheckBuildingLimit', 'BuildingDetailPage.SetLastSelectedOccupancyID', 'OccupancyOutputNonShredded.ApplicableToProperty'])].groupby('idref').count()\n",
    "\n"
   ]
  },
  {
   "cell_type": "code",
   "execution_count": 64,
   "metadata": {},
   "outputs": [
    {
     "name": "stderr",
     "output_type": "stream",
     "text": [
      "<ipython-input-64-56c29cfd0210>:1: FutureWarning: Indexing with multiple keys (implicitly converted to a tuple of keys) will be deprecated, use a list instead.\n",
      "  df1 = df[df.tagName.isin(['iterator'])].groupby(['idref'])['idref','debugID'].count().sort_values(by='debugID', ascending=False)['idref']\n"
     ]
    }
   ],
   "source": [
    "df1 = df[df.tagName.isin(['iterator'])].groupby(['idref'])['idref','debugID'].count().sort_values(by='debugID', ascending=False)['idref']\n",
    "df1.columns=['iterator', 'count']\n"
   ]
  },
  {
   "cell_type": "code",
   "execution_count": null,
   "metadata": {},
   "outputs": [],
   "source": []
  },
  {
   "cell_type": "code",
   "execution_count": 65,
   "metadata": {},
   "outputs": [],
   "source": [
    "# export to Excel ####\n",
    "with pd.ExcelWriter(output_excel, engine=\"openpyxl\", mode='a') as writer:  \n",
    "    df1.to_excel(writer, sheet_name='iterator')\n"
   ]
  },
  {
   "cell_type": "code",
   "execution_count": 66,
   "metadata": {},
   "outputs": [
    {
     "name": "stdout",
     "output_type": "stream",
     "text": [
      "(150.9591679573059, 'seconds wall time after iterator')\n"
     ]
    }
   ],
   "source": [
    "del df1\n",
    "t4 = (time.time() - t0, \"seconds wall time after iterator\")\n",
    "print(t4)"
   ]
  },
  {
   "cell_type": "code",
   "execution_count": 67,
   "metadata": {},
   "outputs": [],
   "source": [
    "# count levels\n",
    "#df.groupby(['level']).count().sort_values(by='level', ascending=False)"
   ]
  },
  {
   "cell_type": "code",
   "execution_count": 68,
   "metadata": {},
   "outputs": [],
   "source": [
    "# elapsed time of public/private fields\n"
   ]
  },
  {
   "cell_type": "code",
   "execution_count": 69,
   "metadata": {},
   "outputs": [],
   "source": [
    "# list debugID for public/private idref - both begin and end lines\n",
    "debugList = df[df.tagName.isin(['public', 'private'])].debugID.tolist()\n",
    "fDebugVal = list(map(int, debugList))\n"
   ]
  },
  {
   "cell_type": "code",
   "execution_count": 70,
   "metadata": {},
   "outputs": [
    {
     "name": "stdout",
     "output_type": "stream",
     "text": [
      "public/private count: 6166406\n",
      "[12, 16, 21, 30, 37, 42, 52, 55, 57, 61, 65, 70, 76, 81, 83, 90, 95, 97, 116]\n"
     ]
    }
   ],
   "source": [
    "print('public/private count:', len(fDebugVal))\n",
    "type(fDebugVal)\n",
    "print(fDebugVal[1:20])\n",
    "#df[df.debugID=='11']\n",
    "dfb = df[df.debugID.isin(fDebugVal)].sort_values(by='debugID')\n"
   ]
  },
  {
   "cell_type": "code",
   "execution_count": 71,
   "metadata": {},
   "outputs": [],
   "source": [
    "dfbstart = dfb[dfb.begin_end=='b'][['debugID', 'startTime', 'idref']]\n",
    "dfbend = dfb[dfb.begin_end=='e'][['debugID', 'startTime']]\n",
    "dfbend.columns=['debugID', 'endTime']\n"
   ]
  },
  {
   "cell_type": "code",
   "execution_count": 72,
   "metadata": {},
   "outputs": [
    {
     "data": {
      "text/html": [
       "<div>\n",
       "<style scoped>\n",
       "    .dataframe tbody tr th:only-of-type {\n",
       "        vertical-align: middle;\n",
       "    }\n",
       "\n",
       "    .dataframe tbody tr th {\n",
       "        vertical-align: top;\n",
       "    }\n",
       "\n",
       "    .dataframe thead th {\n",
       "        text-align: right;\n",
       "    }\n",
       "</style>\n",
       "<table border=\"1\" class=\"dataframe\">\n",
       "  <thead>\n",
       "    <tr style=\"text-align: right;\">\n",
       "      <th></th>\n",
       "      <th>debugID</th>\n",
       "      <th>startTime</th>\n",
       "      <th>idref</th>\n",
       "    </tr>\n",
       "  </thead>\n",
       "  <tbody>\n",
       "    <tr>\n",
       "      <th>10</th>\n",
       "      <td>7</td>\n",
       "      <td>13:55:28:084</td>\n",
       "      <td>True</td>\n",
       "    </tr>\n",
       "    <tr>\n",
       "      <th>20</th>\n",
       "      <td>12</td>\n",
       "      <td>13:55:28:084</td>\n",
       "      <td>data.ExecuteTotalResult</td>\n",
       "    </tr>\n",
       "    <tr>\n",
       "      <th>26</th>\n",
       "      <td>16</td>\n",
       "      <td>13:55:28:084</td>\n",
       "      <td>PolicyAdminOutputNonShredded.PolicyManuScriptID</td>\n",
       "    </tr>\n",
       "    <tr>\n",
       "      <th>36</th>\n",
       "      <td>21</td>\n",
       "      <td>13:55:28:084</td>\n",
       "      <td>LinePrivate.ResetCommissionContributionOnRewrite</td>\n",
       "    </tr>\n",
       "    <tr>\n",
       "      <th>45</th>\n",
       "      <td>30</td>\n",
       "      <td>13:55:28:084</td>\n",
       "      <td>PolicyInput.EffectiveDate</td>\n",
       "    </tr>\n",
       "    <tr>\n",
       "      <th>...</th>\n",
       "      <td>...</td>\n",
       "      <td>...</td>\n",
       "      <td>...</td>\n",
       "    </tr>\n",
       "    <tr>\n",
       "      <th>60810679</th>\n",
       "      <td>30405346</td>\n",
       "      <td>14:02:56:997</td>\n",
       "      <td>PolicyPrivate.UNIG_ChangeAnnivDateTransactionN...</td>\n",
       "    </tr>\n",
       "    <tr>\n",
       "      <th>60810685</th>\n",
       "      <td>30405352</td>\n",
       "      <td>14:02:56:997</td>\n",
       "      <td>PolicyPrivate.IsCurrentTransactionEndorse</td>\n",
       "    </tr>\n",
       "    <tr>\n",
       "      <th>60810708</th>\n",
       "      <td>30405361</td>\n",
       "      <td>14:02:56:997</td>\n",
       "      <td>LinePrivate.UNIG_ThereAreOptionalProposals</td>\n",
       "    </tr>\n",
       "    <tr>\n",
       "      <th>60810712</th>\n",
       "      <td>30405363</td>\n",
       "      <td>14:02:56:997</td>\n",
       "      <td>True</td>\n",
       "    </tr>\n",
       "    <tr>\n",
       "      <th>60810718</th>\n",
       "      <td>30405366</td>\n",
       "      <td>14:02:56:997</td>\n",
       "      <td>PolicyPrivate.CheckCurrentPage</td>\n",
       "    </tr>\n",
       "  </tbody>\n",
       "</table>\n",
       "<p>6166406 rows × 3 columns</p>\n",
       "</div>"
      ],
      "text/plain": [
       "           debugID     startTime  \\\n",
       "10               7  13:55:28:084   \n",
       "20              12  13:55:28:084   \n",
       "26              16  13:55:28:084   \n",
       "36              21  13:55:28:084   \n",
       "45              30  13:55:28:084   \n",
       "...            ...           ...   \n",
       "60810679  30405346  14:02:56:997   \n",
       "60810685  30405352  14:02:56:997   \n",
       "60810708  30405361  14:02:56:997   \n",
       "60810712  30405363  14:02:56:997   \n",
       "60810718  30405366  14:02:56:997   \n",
       "\n",
       "                                                      idref  \n",
       "10                                                     True  \n",
       "20                                  data.ExecuteTotalResult  \n",
       "26          PolicyAdminOutputNonShredded.PolicyManuScriptID  \n",
       "36         LinePrivate.ResetCommissionContributionOnRewrite  \n",
       "45                                PolicyInput.EffectiveDate  \n",
       "...                                                     ...  \n",
       "60810679  PolicyPrivate.UNIG_ChangeAnnivDateTransactionN...  \n",
       "60810685          PolicyPrivate.IsCurrentTransactionEndorse  \n",
       "60810708         LinePrivate.UNIG_ThereAreOptionalProposals  \n",
       "60810712                                               True  \n",
       "60810718                     PolicyPrivate.CheckCurrentPage  \n",
       "\n",
       "[6166406 rows x 3 columns]"
      ]
     },
     "execution_count": 72,
     "metadata": {},
     "output_type": "execute_result"
    }
   ],
   "source": [
    "dfbstart"
   ]
  },
  {
   "cell_type": "code",
   "execution_count": 73,
   "metadata": {},
   "outputs": [
    {
     "data": {
      "text/html": [
       "<div>\n",
       "<style scoped>\n",
       "    .dataframe tbody tr th:only-of-type {\n",
       "        vertical-align: middle;\n",
       "    }\n",
       "\n",
       "    .dataframe tbody tr th {\n",
       "        vertical-align: top;\n",
       "    }\n",
       "\n",
       "    .dataframe thead th {\n",
       "        text-align: right;\n",
       "    }\n",
       "</style>\n",
       "<table border=\"1\" class=\"dataframe\">\n",
       "  <thead>\n",
       "    <tr style=\"text-align: right;\">\n",
       "      <th></th>\n",
       "      <th>debugID</th>\n",
       "      <th>endTime</th>\n",
       "    </tr>\n",
       "  </thead>\n",
       "  <tbody>\n",
       "    <tr>\n",
       "      <th>13</th>\n",
       "      <td>7</td>\n",
       "      <td>13:55:28:084</td>\n",
       "    </tr>\n",
       "    <tr>\n",
       "      <th>60543383</th>\n",
       "      <td>12</td>\n",
       "      <td>14:02:42:987</td>\n",
       "    </tr>\n",
       "    <tr>\n",
       "      <th>27</th>\n",
       "      <td>16</td>\n",
       "      <td>13:55:28:084</td>\n",
       "    </tr>\n",
       "    <tr>\n",
       "      <th>1123</th>\n",
       "      <td>21</td>\n",
       "      <td>13:55:28:084</td>\n",
       "    </tr>\n",
       "    <tr>\n",
       "      <th>148</th>\n",
       "      <td>30</td>\n",
       "      <td>13:55:28:084</td>\n",
       "    </tr>\n",
       "    <tr>\n",
       "      <th>...</th>\n",
       "      <td>...</td>\n",
       "      <td>...</td>\n",
       "    </tr>\n",
       "    <tr>\n",
       "      <th>60810692</th>\n",
       "      <td>30405346</td>\n",
       "      <td>14:02:56:997</td>\n",
       "    </tr>\n",
       "    <tr>\n",
       "      <th>60810686</th>\n",
       "      <td>30405352</td>\n",
       "      <td>14:02:56:997</td>\n",
       "    </tr>\n",
       "    <tr>\n",
       "      <th>60810709</th>\n",
       "      <td>30405361</td>\n",
       "      <td>14:02:56:997</td>\n",
       "    </tr>\n",
       "    <tr>\n",
       "      <th>60810713</th>\n",
       "      <td>30405363</td>\n",
       "      <td>14:02:56:997</td>\n",
       "    </tr>\n",
       "    <tr>\n",
       "      <th>60810719</th>\n",
       "      <td>30405366</td>\n",
       "      <td>14:02:56:997</td>\n",
       "    </tr>\n",
       "  </tbody>\n",
       "</table>\n",
       "<p>6166406 rows × 2 columns</p>\n",
       "</div>"
      ],
      "text/plain": [
       "           debugID       endTime\n",
       "13               7  13:55:28:084\n",
       "60543383        12  14:02:42:987\n",
       "27              16  13:55:28:084\n",
       "1123            21  13:55:28:084\n",
       "148             30  13:55:28:084\n",
       "...            ...           ...\n",
       "60810692  30405346  14:02:56:997\n",
       "60810686  30405352  14:02:56:997\n",
       "60810709  30405361  14:02:56:997\n",
       "60810713  30405363  14:02:56:997\n",
       "60810719  30405366  14:02:56:997\n",
       "\n",
       "[6166406 rows x 2 columns]"
      ]
     },
     "execution_count": 73,
     "metadata": {},
     "output_type": "execute_result"
    }
   ],
   "source": [
    "dfbend"
   ]
  },
  {
   "cell_type": "code",
   "execution_count": 74,
   "metadata": {},
   "outputs": [
    {
     "data": {
      "text/html": [
       "<div>\n",
       "<style scoped>\n",
       "    .dataframe tbody tr th:only-of-type {\n",
       "        vertical-align: middle;\n",
       "    }\n",
       "\n",
       "    .dataframe tbody tr th {\n",
       "        vertical-align: top;\n",
       "    }\n",
       "\n",
       "    .dataframe thead th {\n",
       "        text-align: right;\n",
       "    }\n",
       "</style>\n",
       "<table border=\"1\" class=\"dataframe\">\n",
       "  <thead>\n",
       "    <tr style=\"text-align: right;\">\n",
       "      <th></th>\n",
       "      <th>debugID</th>\n",
       "      <th>endTime</th>\n",
       "      <th>startTime</th>\n",
       "      <th>idref</th>\n",
       "    </tr>\n",
       "  </thead>\n",
       "  <tbody>\n",
       "    <tr>\n",
       "      <th>1404882</th>\n",
       "      <td>7127709</td>\n",
       "      <td>13:57:30:900</td>\n",
       "      <td>13:57:30:151</td>\n",
       "      <td>LocationPrivate.CheckBuildingLimit</td>\n",
       "    </tr>\n",
       "    <tr>\n",
       "      <th>1415944</th>\n",
       "      <td>7180366</td>\n",
       "      <td>13:57:42:970</td>\n",
       "      <td>13:57:42:063</td>\n",
       "      <td>LocationPrivate.CheckBuildingLimit</td>\n",
       "    </tr>\n",
       "    <tr>\n",
       "      <th>3499584</th>\n",
       "      <td>17451722</td>\n",
       "      <td>14:00:02:161</td>\n",
       "      <td>14:00:01:399</td>\n",
       "      <td>LocationPrivate.CheckBuildingLimit</td>\n",
       "    </tr>\n",
       "    <tr>\n",
       "      <th>3510646</th>\n",
       "      <td>17504379</td>\n",
       "      <td>14:00:08:343</td>\n",
       "      <td>14:00:07:653</td>\n",
       "      <td>LocationPrivate.CheckBuildingLimit</td>\n",
       "    </tr>\n",
       "    <tr>\n",
       "      <th>5520753</th>\n",
       "      <td>27435573</td>\n",
       "      <td>14:02:08:441</td>\n",
       "      <td>14:02:07:782</td>\n",
       "      <td>LocationPrivate.CheckBuildingLimit</td>\n",
       "    </tr>\n",
       "    <tr>\n",
       "      <th>5531815</th>\n",
       "      <td>27488230</td>\n",
       "      <td>14:02:14:627</td>\n",
       "      <td>14:02:13:970</td>\n",
       "      <td>LocationPrivate.CheckBuildingLimit</td>\n",
       "    </tr>\n",
       "    <tr>\n",
       "      <th>6140223</th>\n",
       "      <td>30279066</td>\n",
       "      <td>14:02:43:955</td>\n",
       "      <td>14:02:43:252</td>\n",
       "      <td>LocationPrivate.CheckBuildingLimit</td>\n",
       "    </tr>\n",
       "    <tr>\n",
       "      <th>6151284</th>\n",
       "      <td>30331518</td>\n",
       "      <td>14:02:48:794</td>\n",
       "      <td>14:02:48:028</td>\n",
       "      <td>LocationPrivate.CheckBuildingLimit</td>\n",
       "    </tr>\n",
       "  </tbody>\n",
       "</table>\n",
       "</div>"
      ],
      "text/plain": [
       "          debugID       endTime     startTime  \\\n",
       "1404882   7127709  13:57:30:900  13:57:30:151   \n",
       "1415944   7180366  13:57:42:970  13:57:42:063   \n",
       "3499584  17451722  14:00:02:161  14:00:01:399   \n",
       "3510646  17504379  14:00:08:343  14:00:07:653   \n",
       "5520753  27435573  14:02:08:441  14:02:07:782   \n",
       "5531815  27488230  14:02:14:627  14:02:13:970   \n",
       "6140223  30279066  14:02:43:955  14:02:43:252   \n",
       "6151284  30331518  14:02:48:794  14:02:48:028   \n",
       "\n",
       "                                      idref  \n",
       "1404882  LocationPrivate.CheckBuildingLimit  \n",
       "1415944  LocationPrivate.CheckBuildingLimit  \n",
       "3499584  LocationPrivate.CheckBuildingLimit  \n",
       "3510646  LocationPrivate.CheckBuildingLimit  \n",
       "5520753  LocationPrivate.CheckBuildingLimit  \n",
       "5531815  LocationPrivate.CheckBuildingLimit  \n",
       "6140223  LocationPrivate.CheckBuildingLimit  \n",
       "6151284  LocationPrivate.CheckBuildingLimit  "
      ]
     },
     "execution_count": 74,
     "metadata": {},
     "output_type": "execute_result"
    }
   ],
   "source": [
    "dfcombined=pd.merge(dfbend, dfbstart, on=[\"debugID\"])\n",
    "dfcombined[dfcombined.idref=='LocationPrivate.CheckBuildingLimit']\n",
    "#dfb.sort_values(by='debugID')\n",
    "#dfb[dfb.debugID==79806].startTime.tolist()\n",
    "\n",
    "#dfb[dfb.debugID==11]"
   ]
  },
  {
   "cell_type": "code",
   "execution_count": 75,
   "metadata": {},
   "outputs": [],
   "source": [
    "dfcombined['timediff'] = pd.DataFrame(( pd.to_datetime(dfcombined['endTime'], format='%H:%M:%S:%f') - pd.to_datetime(dfcombined['startTime'], format='%H:%M:%S:%f')).dt.total_seconds())"
   ]
  },
  {
   "cell_type": "code",
   "execution_count": 76,
   "metadata": {},
   "outputs": [],
   "source": [
    "from datetime import datetime, timedelta\n",
    "df1 = dfcombined[dfcombined.timediff > 1.0].sort_values(by='timediff', ascending=False)\n",
    "del dfcombined"
   ]
  },
  {
   "cell_type": "code",
   "execution_count": 77,
   "metadata": {},
   "outputs": [],
   "source": [
    "# export to Excel ####\n",
    "with pd.ExcelWriter(output_excel, engine=\"openpyxl\", mode='a') as writer:  \n",
    "    df1.to_excel(writer, sheet_name='timing')\n"
   ]
  },
  {
   "cell_type": "code",
   "execution_count": 78,
   "metadata": {},
   "outputs": [
    {
     "name": "stdout",
     "output_type": "stream",
     "text": [
      "(178.32109379768372, 'seconds wall time after timing')\n"
     ]
    }
   ],
   "source": [
    "del df1\n",
    "t5 = (time.time() - t0, \"seconds wall time after timing\")\n",
    "print(t5)"
   ]
  },
  {
   "cell_type": "code",
   "execution_count": 79,
   "metadata": {},
   "outputs": [
    {
     "data": {
      "text/html": [
       "<div>\n",
       "<style scoped>\n",
       "    .dataframe tbody tr th:only-of-type {\n",
       "        vertical-align: middle;\n",
       "    }\n",
       "\n",
       "    .dataframe tbody tr th {\n",
       "        vertical-align: top;\n",
       "    }\n",
       "\n",
       "    .dataframe thead th {\n",
       "        text-align: right;\n",
       "    }\n",
       "</style>\n",
       "<table border=\"1\" class=\"dataframe\">\n",
       "  <thead>\n",
       "    <tr style=\"text-align: right;\">\n",
       "      <th></th>\n",
       "      <th>begin_end</th>\n",
       "      <th>debugID</th>\n",
       "      <th>startTime</th>\n",
       "      <th>tagName</th>\n",
       "      <th>idref</th>\n",
       "    </tr>\n",
       "  </thead>\n",
       "  <tbody>\n",
       "    <tr>\n",
       "      <th>107</th>\n",
       "      <td>b</td>\n",
       "      <td>67</td>\n",
       "      <td>13:55:28:084</td>\n",
       "      <td>iterator</td>\n",
       "      <td>Transaction</td>\n",
       "    </tr>\n",
       "    <tr>\n",
       "      <th>166</th>\n",
       "      <td>b</td>\n",
       "      <td>92</td>\n",
       "      <td>13:55:28:084</td>\n",
       "      <td>iterator</td>\n",
       "      <td>Location</td>\n",
       "    </tr>\n",
       "    <tr>\n",
       "      <th>901</th>\n",
       "      <td>b</td>\n",
       "      <td>459</td>\n",
       "      <td>13:55:28:084</td>\n",
       "      <td>iterator</td>\n",
       "      <td>Location</td>\n",
       "    </tr>\n",
       "    <tr>\n",
       "      <th>1151</th>\n",
       "      <td>b</td>\n",
       "      <td>587</td>\n",
       "      <td>13:55:28:084</td>\n",
       "      <td>iterator</td>\n",
       "      <td>Transaction</td>\n",
       "    </tr>\n",
       "    <tr>\n",
       "      <th>1394</th>\n",
       "      <td>b</td>\n",
       "      <td>709</td>\n",
       "      <td>13:55:28:102</td>\n",
       "      <td>iterator</td>\n",
       "      <td>Location</td>\n",
       "    </tr>\n",
       "  </tbody>\n",
       "</table>\n",
       "</div>"
      ],
      "text/plain": [
       "     begin_end  debugID     startTime   tagName        idref\n",
       "107          b       67  13:55:28:084  iterator  Transaction\n",
       "166          b       92  13:55:28:084  iterator     Location\n",
       "901          b      459  13:55:28:084  iterator     Location\n",
       "1151         b      587  13:55:28:084  iterator  Transaction\n",
       "1394         b      709  13:55:28:102  iterator     Location"
      ]
     },
     "execution_count": 79,
     "metadata": {},
     "output_type": "execute_result"
    }
   ],
   "source": [
    "# list line index for iterator idref - both begin and end lines\n",
    "iterList = df[df.tagName.isin(['iterator'])].index.tolist()\n",
    "\n",
    "df.iloc[iterList[:5]]"
   ]
  },
  {
   "cell_type": "code",
   "execution_count": 80,
   "metadata": {},
   "outputs": [],
   "source": [
    "# Find the immediate parent of the iterator\n",
    "# Iterator debugID - walk backward till we find public/private\n",
    "\n",
    "\n"
   ]
  },
  {
   "cell_type": "code",
   "execution_count": 81,
   "metadata": {},
   "outputs": [
    {
     "data": {
      "text/html": [
       "<div>\n",
       "<style scoped>\n",
       "    .dataframe tbody tr th:only-of-type {\n",
       "        vertical-align: middle;\n",
       "    }\n",
       "\n",
       "    .dataframe tbody tr th {\n",
       "        vertical-align: top;\n",
       "    }\n",
       "\n",
       "    .dataframe thead th {\n",
       "        text-align: right;\n",
       "    }\n",
       "</style>\n",
       "<table border=\"1\" class=\"dataframe\">\n",
       "  <thead>\n",
       "    <tr style=\"text-align: right;\">\n",
       "      <th></th>\n",
       "      <th>begin_end</th>\n",
       "      <th>debugID</th>\n",
       "      <th>startTime</th>\n",
       "      <th>tagName</th>\n",
       "      <th>idref</th>\n",
       "    </tr>\n",
       "  </thead>\n",
       "  <tbody>\n",
       "    <tr>\n",
       "      <th>10</th>\n",
       "      <td>b</td>\n",
       "      <td>7</td>\n",
       "      <td>13:55:28:084</td>\n",
       "      <td>private</td>\n",
       "      <td>True</td>\n",
       "    </tr>\n",
       "    <tr>\n",
       "      <th>20</th>\n",
       "      <td>b</td>\n",
       "      <td>12</td>\n",
       "      <td>13:55:28:084</td>\n",
       "      <td>private</td>\n",
       "      <td>data.ExecuteTotalResult</td>\n",
       "    </tr>\n",
       "    <tr>\n",
       "      <th>26</th>\n",
       "      <td>b</td>\n",
       "      <td>16</td>\n",
       "      <td>13:55:28:084</td>\n",
       "      <td>public</td>\n",
       "      <td>PolicyAdminOutputNonShredded.PolicyManuScriptID</td>\n",
       "    </tr>\n",
       "    <tr>\n",
       "      <th>36</th>\n",
       "      <td>b</td>\n",
       "      <td>21</td>\n",
       "      <td>13:55:28:084</td>\n",
       "      <td>private</td>\n",
       "      <td>LinePrivate.ResetCommissionContributionOnRewrite</td>\n",
       "    </tr>\n",
       "    <tr>\n",
       "      <th>45</th>\n",
       "      <td>b</td>\n",
       "      <td>30</td>\n",
       "      <td>13:55:28:084</td>\n",
       "      <td>public</td>\n",
       "      <td>PolicyInput.EffectiveDate</td>\n",
       "    </tr>\n",
       "    <tr>\n",
       "      <th>52</th>\n",
       "      <td>b</td>\n",
       "      <td>37</td>\n",
       "      <td>13:55:28:084</td>\n",
       "      <td>public</td>\n",
       "      <td>PolicyInput.UNIG_EffectiveDate</td>\n",
       "    </tr>\n",
       "    <tr>\n",
       "      <th>62</th>\n",
       "      <td>b</td>\n",
       "      <td>42</td>\n",
       "      <td>13:55:28:084</td>\n",
       "      <td>private</td>\n",
       "      <td>PolicyPrivate.UNIG_EffectiveDateInvalid</td>\n",
       "    </tr>\n",
       "    <tr>\n",
       "      <th>82</th>\n",
       "      <td>b</td>\n",
       "      <td>52</td>\n",
       "      <td>13:55:28:084</td>\n",
       "      <td>private</td>\n",
       "      <td>False</td>\n",
       "    </tr>\n",
       "    <tr>\n",
       "      <th>91</th>\n",
       "      <td>b</td>\n",
       "      <td>55</td>\n",
       "      <td>13:55:28:084</td>\n",
       "      <td>public</td>\n",
       "      <td>PolicyInput.UNIG_EffectiveDate</td>\n",
       "    </tr>\n",
       "    <tr>\n",
       "      <th>97</th>\n",
       "      <td>b</td>\n",
       "      <td>57</td>\n",
       "      <td>13:55:28:084</td>\n",
       "      <td>private</td>\n",
       "      <td>PolicyPrivate.UNIG_ResetTermDateValid</td>\n",
       "    </tr>\n",
       "    <tr>\n",
       "      <th>101</th>\n",
       "      <td>b</td>\n",
       "      <td>61</td>\n",
       "      <td>13:55:28:084</td>\n",
       "      <td>private</td>\n",
       "      <td>PolicyPrivate.IsCurrentTransactionNewBusiness</td>\n",
       "    </tr>\n",
       "    <tr>\n",
       "      <th>105</th>\n",
       "      <td>b</td>\n",
       "      <td>65</td>\n",
       "      <td>13:55:28:084</td>\n",
       "      <td>public</td>\n",
       "      <td>PolicyOutputNonShredded.LastTransactionType</td>\n",
       "    </tr>\n",
       "    <tr>\n",
       "      <th>112</th>\n",
       "      <td>b</td>\n",
       "      <td>70</td>\n",
       "      <td>13:55:28:084</td>\n",
       "      <td>private</td>\n",
       "      <td>TransactionPrivate.CurrentTransactionType</td>\n",
       "    </tr>\n",
       "    <tr>\n",
       "      <th>118</th>\n",
       "      <td>b</td>\n",
       "      <td>76</td>\n",
       "      <td>13:55:28:084</td>\n",
       "      <td>public</td>\n",
       "      <td>TransactionOutput.ConvertedTransactionType</td>\n",
       "    </tr>\n",
       "    <tr>\n",
       "      <th>141</th>\n",
       "      <td>b</td>\n",
       "      <td>81</td>\n",
       "      <td>13:55:28:084</td>\n",
       "      <td>private</td>\n",
       "      <td>PolicyPrivate.UNIG_ResetTermDate</td>\n",
       "    </tr>\n",
       "    <tr>\n",
       "      <th>151</th>\n",
       "      <td>b</td>\n",
       "      <td>83</td>\n",
       "      <td>13:55:28:084</td>\n",
       "      <td>private</td>\n",
       "      <td>LinePrivate.EffDateCommissionContribution</td>\n",
       "    </tr>\n",
       "    <tr>\n",
       "      <th>164</th>\n",
       "      <td>b</td>\n",
       "      <td>90</td>\n",
       "      <td>13:55:28:084</td>\n",
       "      <td>private</td>\n",
       "      <td>AccountPrivate.IterateLocationState</td>\n",
       "    </tr>\n",
       "    <tr>\n",
       "      <th>171</th>\n",
       "      <td>b</td>\n",
       "      <td>95</td>\n",
       "      <td>13:55:28:084</td>\n",
       "      <td>public</td>\n",
       "      <td>LocationInput.State</td>\n",
       "    </tr>\n",
       "    <tr>\n",
       "      <th>173</th>\n",
       "      <td>b</td>\n",
       "      <td>97</td>\n",
       "      <td>13:55:28:084</td>\n",
       "      <td>public</td>\n",
       "      <td>LocationOutput.StatCodeState</td>\n",
       "    </tr>\n",
       "    <tr>\n",
       "      <th>211</th>\n",
       "      <td>b</td>\n",
       "      <td>116</td>\n",
       "      <td>13:55:28:084</td>\n",
       "      <td>public</td>\n",
       "      <td>LocationOutput.StatCodeTerritoryProperty</td>\n",
       "    </tr>\n",
       "  </tbody>\n",
       "</table>\n",
       "</div>"
      ],
      "text/plain": [
       "    begin_end  debugID     startTime  tagName  \\\n",
       "10          b        7  13:55:28:084  private   \n",
       "20          b       12  13:55:28:084  private   \n",
       "26          b       16  13:55:28:084   public   \n",
       "36          b       21  13:55:28:084  private   \n",
       "45          b       30  13:55:28:084   public   \n",
       "52          b       37  13:55:28:084   public   \n",
       "62          b       42  13:55:28:084  private   \n",
       "82          b       52  13:55:28:084  private   \n",
       "91          b       55  13:55:28:084   public   \n",
       "97          b       57  13:55:28:084  private   \n",
       "101         b       61  13:55:28:084  private   \n",
       "105         b       65  13:55:28:084   public   \n",
       "112         b       70  13:55:28:084  private   \n",
       "118         b       76  13:55:28:084   public   \n",
       "141         b       81  13:55:28:084  private   \n",
       "151         b       83  13:55:28:084  private   \n",
       "164         b       90  13:55:28:084  private   \n",
       "171         b       95  13:55:28:084   public   \n",
       "173         b       97  13:55:28:084   public   \n",
       "211         b      116  13:55:28:084   public   \n",
       "\n",
       "                                                idref  \n",
       "10                                               True  \n",
       "20                            data.ExecuteTotalResult  \n",
       "26    PolicyAdminOutputNonShredded.PolicyManuScriptID  \n",
       "36   LinePrivate.ResetCommissionContributionOnRewrite  \n",
       "45                          PolicyInput.EffectiveDate  \n",
       "52                     PolicyInput.UNIG_EffectiveDate  \n",
       "62            PolicyPrivate.UNIG_EffectiveDateInvalid  \n",
       "82                                              False  \n",
       "91                     PolicyInput.UNIG_EffectiveDate  \n",
       "97              PolicyPrivate.UNIG_ResetTermDateValid  \n",
       "101     PolicyPrivate.IsCurrentTransactionNewBusiness  \n",
       "105       PolicyOutputNonShredded.LastTransactionType  \n",
       "112         TransactionPrivate.CurrentTransactionType  \n",
       "118        TransactionOutput.ConvertedTransactionType  \n",
       "141                  PolicyPrivate.UNIG_ResetTermDate  \n",
       "151         LinePrivate.EffDateCommissionContribution  \n",
       "164               AccountPrivate.IterateLocationState  \n",
       "171                               LocationInput.State  \n",
       "173                      LocationOutput.StatCodeState  \n",
       "211          LocationOutput.StatCodeTerritoryProperty  "
      ]
     },
     "execution_count": 81,
     "metadata": {},
     "output_type": "execute_result"
    }
   ],
   "source": [
    "# list line index for public/private idref - both begin and end lines\n",
    "indexList = df[df.tagName.isin(['public', 'private'])].index.tolist()\n",
    "\n",
    "df.iloc[indexList[:20]]"
   ]
  },
  {
   "cell_type": "code",
   "execution_count": 82,
   "metadata": {},
   "outputs": [
    {
     "name": "stdout",
     "output_type": "stream",
     "text": [
      "173 211\n"
     ]
    }
   ],
   "source": [
    "# count of the iterator index within specific iterator\n",
    "\n",
    "b1 = max([i for i in indexList if i < 178])\n",
    "b1\n",
    "\n",
    "b2 = min([i for i in reversed(indexList) if i > 178])\n",
    "b2\n",
    "\n",
    "print(b1, b2)"
   ]
  },
  {
   "cell_type": "code",
   "execution_count": 83,
   "metadata": {},
   "outputs": [
    {
     "data": {
      "text/plain": [
       "(616.6406, 75202)"
      ]
     },
     "execution_count": 83,
     "metadata": {},
     "output_type": "execute_result"
    }
   ],
   "source": [
    "idx1 = indexList.copy()\n",
    "len(idx1)/10000, len(iterList)"
   ]
  },
  {
   "cell_type": "code",
   "execution_count": 84,
   "metadata": {},
   "outputs": [
    {
     "data": {
      "text/plain": [
       "([10, 20, 26],\n",
       " 60810601,\n",
       " [60810718,\n",
       "  60810712,\n",
       "  60810708,\n",
       "  60810685,\n",
       "  60810679,\n",
       "  60810671,\n",
       "  60810661,\n",
       "  60810655,\n",
       "  60810645,\n",
       "  60810636,\n",
       "  60810631,\n",
       "  60810619,\n",
       "  60810606])"
      ]
     },
     "execution_count": 84,
     "metadata": {},
     "output_type": "execute_result"
    }
   ],
   "source": [
    "parent = lambda x: [i for i in idx1 if i < x]\n",
    "child = lambda x: [i for i in reversed(idx1) if i > x]\n",
    "parent(36), iterList[-1], child(iterList[-1])"
   ]
  },
  {
   "cell_type": "code",
   "execution_count": 85,
   "metadata": {},
   "outputs": [
    {
     "data": {
      "text/plain": [
       "([107, 166, 901], [10, 20, 26], 60810606)"
      ]
     },
     "execution_count": 85,
     "metadata": {},
     "output_type": "execute_result"
    }
   ],
   "source": [
    "parent2 = lambda x, y: [i for i in y if i < x]\n",
    "child2 = lambda x, y: [i for i in y if i > x]\n",
    "\n",
    "iterList[:3],parent2(36, idx1), min(child2(iterList[-1], reversed(idx1)))"
   ]
  },
  {
   "cell_type": "code",
   "execution_count": 86,
   "metadata": {},
   "outputs": [
    {
     "data": {
      "text/plain": [
       "(82, [10, 20, 26, 36, 45, 52, 62, 82, 91, 97], [])"
      ]
     },
     "execution_count": 86,
     "metadata": {},
     "output_type": "execute_result"
    }
   ],
   "source": [
    "# if the element is not in the source list\n",
    "#remv = lambda x, y: [i for i in y if not i in x or x.remove(i)]\n",
    "\n",
    "# we know all elements are available in the source list\n",
    "remv = lambda x, y: [i for i in y if x.remove(i)]\n",
    "\n",
    "# we can slice the list using len\n",
    "remv2 = lambda x, y: x[len(y):]\n",
    "\n",
    "idx1 = indexList.copy()\n",
    "len(parent2(iterList[3], idx1)), idx1[:10], remv(idx1, parent2(36, idx1))[:10]\n",
    "#iterList[:3], idx1[:10]"
   ]
  },
  {
   "cell_type": "code",
   "execution_count": 87,
   "metadata": {},
   "outputs": [],
   "source": [
    "#idx1 = indexList.copy()\n",
    "#bb = lambda x: [max([parent(i, idx1) and remv(idx1, parent(i, idx1)) for i in x ])]\n",
    "#bb = lambda x: [max(parent2(i, idx1) + remv(idx1, parent2(i, idx1)))  for i in x ]\n",
    "#bb(iterList[:500])[:5]"
   ]
  },
  {
   "cell_type": "code",
   "execution_count": 88,
   "metadata": {},
   "outputs": [
    {
     "data": {
      "text/plain": [
       "(0, 75202)"
      ]
     },
     "execution_count": 88,
     "metadata": {},
     "output_type": "execute_result"
    }
   ],
   "source": [
    "max([0]), len(iterList)"
   ]
  },
  {
   "cell_type": "code",
   "execution_count": 89,
   "metadata": {},
   "outputs": [],
   "source": [
    "#brute force search\n",
    "def fieldList(iterList, idxList):\n",
    "    fieldList = []\n",
    "    for item in iterList:\n",
    "        p = parent2(item, idxList)\n",
    "        if len(p) > 0:\n",
    "            fieldList.append(max(p))\n",
    "            idxList = idxList[len(p):]\n",
    "        #print(p, fieldList)\n",
    "\n",
    "    return fieldList                   "
   ]
  },
  {
   "cell_type": "code",
   "execution_count": 90,
   "metadata": {},
   "outputs": [],
   "source": [
    "#mini-batch search\n",
    "def fieldList(itrList, idxList, parent=True):\n",
    "    fieldList = []\n",
    "    iterField = []\n",
    "    batchsize = 10000\n",
    "    if not parent:\n",
    "        itrList.reverse()\n",
    "        idxList.reverse()\n",
    "\n",
    "    # measure wall time\n",
    "    t0 = time.time()\n",
    "\n",
    "    #print(len(idxList))\n",
    "    # mini-batch to traverse indexList\n",
    "    while len(idxList) > 0:\n",
    "        idx1 = idxList[:min(len(idxList), batchsize)]\n",
    "        cntr = 0\n",
    "        for item in itrList:\n",
    "            if parent:\n",
    "                pc = parent2(item, idx1)\n",
    "            else:\n",
    "                pc = child2(item, idx1)\n",
    "            if len(pc) > 0:\n",
    "                iterField.append(item)\n",
    "                if parent:\n",
    "                    fieldList.append(max(pc))\n",
    "                else:\n",
    "                    fieldList.append(min(pc))\n",
    "                idx1 = idx1[len(pc):]\n",
    "                cntr+=1\n",
    "            else:\n",
    "                #print('no parent for item ', item)\n",
    "                break\n",
    "\n",
    "        #print (time.time() - t0, \"seconds elapsed...\", len(idxList) / batchsize, len(idxList), len(itrList))\n",
    "        idxList = idxList[min(len(idxList), batchsize):]\n",
    "        itrList = itrList[cntr:]\n",
    "        if len(itrList) < 1:\n",
    "            break\n",
    "        #if parent:\n",
    "         #   print(item, max(fieldList))\n",
    "        #else:\n",
    "         #   print(item, min(fieldList))\n",
    "            \n",
    "    return fieldList , iterField                  \n",
    "    "
   ]
  },
  {
   "cell_type": "code",
   "execution_count": 91,
   "metadata": {},
   "outputs": [],
   "source": [
    "idx1 = indexList.copy()\n",
    "iter1 = iterList.copy()\n",
    "f, i = fieldList(iter1, idx1, parent=True)\n"
   ]
  },
  {
   "cell_type": "code",
   "execution_count": 92,
   "metadata": {},
   "outputs": [
    {
     "data": {
      "text/plain": [
       "(6166406, 75202, 75202, 75202)"
      ]
     },
     "execution_count": 92,
     "metadata": {},
     "output_type": "execute_result"
    }
   ],
   "source": [
    "len(indexList), len(iterList), len(f), len(i)"
   ]
  },
  {
   "cell_type": "code",
   "execution_count": 93,
   "metadata": {},
   "outputs": [
    {
     "data": {
      "text/plain": [
       "([107, 166, 901, 1151, 1394],\n",
       " [105, 164, 899, 1149, 1392],\n",
       " [107,\n",
       "  166,\n",
       "  901,\n",
       "  1151,\n",
       "  1394,\n",
       "  1401,\n",
       "  3035,\n",
       "  3205,\n",
       "  3567,\n",
       "  3689,\n",
       "  3931,\n",
       "  4101,\n",
       "  4271,\n",
       "  4345,\n",
       "  4491,\n",
       "  4709,\n",
       "  4783,\n",
       "  5505,\n",
       "  5651,\n",
       "  5725])"
      ]
     },
     "execution_count": 93,
     "metadata": {},
     "output_type": "execute_result"
    }
   ],
   "source": [
    "i[:5], f[:5], iter1[:20]"
   ]
  },
  {
   "cell_type": "code",
   "execution_count": 94,
   "metadata": {},
   "outputs": [
    {
     "data": {
      "text/plain": [
       "107         Transaction\n",
       "166            Location\n",
       "901            Location\n",
       "1151        Transaction\n",
       "1394           Location\n",
       "               ...     \n",
       "60809787    Transaction\n",
       "60810517    Transaction\n",
       "60810539    Transaction\n",
       "60810561    Transaction\n",
       "60810601    Transaction\n",
       "Name: idref, Length: 75202, dtype: object"
      ]
     },
     "execution_count": 94,
     "metadata": {},
     "output_type": "execute_result"
    }
   ],
   "source": [
    "df.iloc[i]['idref']"
   ]
  },
  {
   "cell_type": "code",
   "execution_count": 95,
   "metadata": {},
   "outputs": [],
   "source": [
    "df1=df.iloc[f]\n",
    "df1.reset_index(drop=True, inplace=True)\n",
    "df2=df.loc[i]['idref']\n",
    "df2.columns=['iterator']\n",
    "df2.reset_index(drop=True, inplace=True)\n",
    "df1, df2\n",
    "df3=pd.concat([df1, df2], axis=1, join=\"inner\")\n",
    "df3\n",
    "df1 = df3\n",
    "del df3, df2\n",
    "#len(df2), df1, df.loc[i]\n",
    "#df1['iterator']=pd.DataFrame(df2)\n",
    "#df1"
   ]
  },
  {
   "cell_type": "code",
   "execution_count": 96,
   "metadata": {},
   "outputs": [],
   "source": [
    "# export to Excel ####\n",
    "with pd.ExcelWriter(output_excel, engine=\"openpyxl\", mode='a') as writer:  \n",
    "    df1.to_excel(writer, sheet_name='field_iterator')\n"
   ]
  },
  {
   "cell_type": "code",
   "execution_count": 97,
   "metadata": {},
   "outputs": [
    {
     "name": "stdout",
     "output_type": "stream",
     "text": [
      "(288.6952645778656, 'seconds wall time after iterator field')\n"
     ]
    }
   ],
   "source": [
    "t6 = (time.time() - t0, \"seconds wall time after iterator field\")\n",
    "print(t6)"
   ]
  },
  {
   "cell_type": "markdown",
   "metadata": {},
   "source": [
    "idx1 = indexList.copy()\n",
    "b, i = fieldList(iterList, idx1, parent=False)\n",
    "b.reverse()\n",
    "#iterList.reverse()\n",
    "\n",
    "iterList[:2], iterList[-1], indexList[:2], indexList[-1], b[:2]#, b[-1]\n",
    "\n",
    "t7 = (time.time() - t0, \"seconds wall time after iterator following field\")\n",
    "print(t7)\n",
    "\n",
    "df1 = df.iloc[b[55:59]]"
   ]
  },
  {
   "cell_type": "code",
   "execution_count": null,
   "metadata": {},
   "outputs": [],
   "source": []
  },
  {
   "cell_type": "code",
   "execution_count": 98,
   "metadata": {},
   "outputs": [
    {
     "name": "stderr",
     "output_type": "stream",
     "text": [
      "<ipython-input-98-2b92f50189f0>:1: FutureWarning: Indexing with multiple keys (implicitly converted to a tuple of keys) will be deprecated, use a list instead.\n",
      "  df1 = df.iloc[f].groupby(['idref'])['idref','debugID'].count().sort_values(by='debugID', ascending=False)['idref']\n"
     ]
    }
   ],
   "source": [
    "df1 = df.iloc[f].groupby(['idref'])['idref','debugID'].count().sort_values(by='debugID', ascending=False)['idref']\n",
    "df1.columns=['field_iterator', 'count']\n",
    "# export to Excel ####\n",
    "with pd.ExcelWriter(output_excel, engine=\"openpyxl\", mode='a') as writer:  \n",
    "    df1.to_excel(writer, sheet_name='field_iterator_count')\n"
   ]
  },
  {
   "cell_type": "code",
   "execution_count": 99,
   "metadata": {},
   "outputs": [
    {
     "name": "stdout",
     "output_type": "stream",
     "text": [
      "(319.1311914920807, 'seconds wall time after iterator field count')\n"
     ]
    }
   ],
   "source": [
    "t7 = (time.time() - t0, \"seconds wall time after iterator field count\")\n",
    "print(t7)"
   ]
  },
  {
   "cell_type": "code",
   "execution_count": 100,
   "metadata": {},
   "outputs": [
    {
     "name": "stdout",
     "output_type": "stream",
     "text": [
      "(71.68976187705994, 'seconds wall time after read_csv')\n",
      "(137.6274173259735, 'seconds wall time after sanitization')\n",
      "(149.01693511009216, 'seconds wall time after frequence')\n",
      "(150.9591679573059, 'seconds wall time after iterator')\n",
      "(178.32109379768372, 'seconds wall time after timing')\n",
      "(288.6952645778656, 'seconds wall time after iterator field')\n",
      "(319.1311914920807, 'seconds wall time after iterator field count')\n"
     ]
    }
   ],
   "source": [
    "print(t1)\n",
    "print(t2)\n",
    "print(t3)\n",
    "print(t4)\n",
    "print(t5)\n",
    "print(t6)\n",
    "print(t7)\n"
   ]
  }
 ],
 "metadata": {
  "kernelspec": {
   "display_name": "Python 3",
   "language": "python",
   "name": "python3"
  },
  "language_info": {
   "codemirror_mode": {
    "name": "ipython",
    "version": 3
   },
   "file_extension": ".py",
   "mimetype": "text/x-python",
   "name": "python",
   "nbconvert_exporter": "python",
   "pygments_lexer": "ipython3",
   "version": "3.8.8"
  }
 },
 "nbformat": 4,
 "nbformat_minor": 4
}

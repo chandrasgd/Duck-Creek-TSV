{
 "cells": [
  {
   "cell_type": "code",
   "execution_count": 57,
   "metadata": {},
   "outputs": [],
   "source": [
    "## TSV-Analyzer-Iteration.ipynb\n",
    "\n",
    "import os\n",
    "import time\n",
    "import pandas as pd\n",
    "import numpy as np"
   ]
  },
  {
   "cell_type": "code",
   "execution_count": 58,
   "metadata": {},
   "outputs": [],
   "source": [
    "#C:\\Anaconda3\\lib\\site-packages\\IPython\\core\\interactiveshell.py:3165: \n",
    "### DtypeWarning: Columns (1) have mixed types.Specify dtype option on import or set low_memory=False.\n",
    "### has_raised = await self.run_ast_nodes(code_ast.body, cell_name,"
   ]
  },
  {
   "cell_type": "code",
   "execution_count": 59,
   "metadata": {},
   "outputs": [],
   "source": [
    "# measure wall time\n",
    "t0 = time.time()"
   ]
  },
  {
   "cell_type": "code",
   "execution_count": 60,
   "metadata": {},
   "outputs": [
    {
     "name": "stdout",
     "output_type": "stream",
     "text": [
      "starting to read file  C:\\CPP_Performance\\TSV Files\\CLMQA\\CD4CCA2343B44EEAB4932B20DEE7EB3A79272D7148E90C41 - 2021-10-27 16-09-57-931.tsv\n"
     ]
    }
   ],
   "source": [
    "os.getcwd()\n",
    "%store -r filepath\n",
    "%store -r output_excel\n",
    "\n",
    "#filepath='C:\\\\CPP_Performance\\\\TSV Files\\\\UAEdits\\\\6D105A9CB9AB46169A5AB5B7A4FA1C1B7A35CF4E48E90C41 - 2021-06-16 09-57-11-470.tsv'\n",
    "#output_excel='C:\\\\CPP_Performance\\\\TSV Files\\\\UAEdits\\\\6D105A9CB9AB46169A5AB5B7A4FA1C1B7A35CF4E48E90C41 - 2021-06-16 09-57-11-470.xlsx'\n",
    "\n",
    "#filepath='C:\\\\CPP_Performance\\\\TSV Files\\\\Parkland School Policy\\\\NovReleaseTSV\\\\2CE2AF537D274279B8680BF7C3ED40977A35CF4E48E90C41 - 2021-11-03 14-01-05-228.tsv'\n",
    "#output_excel='C:\\\\CPP_Performance\\\\TSV Files\\\\Parkland School Policy\\\\NovReleaseTSV\\\\2CE2AF537D274279B8680BF7C3ED40977A35CF4E48E90C41 - 2021-11-03 14-01-05-228.xlsx'\n",
    "\n",
    "#filepath='C:\\\\CPP_Performance\\\\TSV Files\\\\CLMQA\\\\CD4CCA2343B44EEAB4932B20DEE7EB3A79272D7148E90C41 - 2021-10-27 16-09-57-931.tsv'\n",
    "#output_excel='C:\\\\CPP_Performance\\\\TSV Files\\\\CLMQA\\\\CD4CCA2343B44EEAB4932B20DEE7EB3A79272D7148E90C41 - 2021-10-27 16-09-57-931.xlsx'\n",
    "\n",
    "#filepath=\"C:\\\\CPP_Performance\\\\TSV Files\\\\OffShoreTSV\\\\Divyaraj\\\\Occupancy\\\\After_TSVDebug - 2021-11-03 08-56-25-777.TSV\"\n",
    "#output_excel=\"C:\\\\CPP_Performance\\\\TSV Files\\\\OffShoreTSV\\\\Divyaraj\\\\Occupancy\\\\After_TSVDebug - 2021-11-03 08-56-25-777.xlsx\"\n",
    "\n",
    "#filepath='C:\\\\CPP_Performance\\\\TSV Files\\\\Staging\\\\7DA7B8CBD58E425EBFDB0BA087C682F179272D7148E90C41 - 2021-10-27 14-55-26-997.tsv'\n",
    "#output_excel='C:\\\\CPP_Performance\\\\TSV Files\\\\Staging\\\\7DA7B8CBD58E425EBFDB0BA087C682F179272D7148E90C41 - 2021-10-27 14-55-26-997.xlsx'\n",
    "\n",
    "print('starting to read file ', filepath)\n",
    "\n",
    "df = pd.read_csv(filepath, sep='~', engine='c', header=1\n",
    "                ,usecols=['begin_end', 'debugID', 'startTime', 'tagName', 'idref', 'level']\n",
    "                ,names=['begin_end', 'debugID', 'startTime', 'tagName', 'idref', 'level']\n",
    "                ,dtype= {'begin_end': 'category', 'debugID': str, 'startTime': str, 'tagName':'category', 'idref':str, 'level':'category'}\n",
    "                )\n",
    "                         #, np.float64, ‘b’: np.int32, ‘c’: ‘Int64’}"
   ]
  },
  {
   "cell_type": "code",
   "execution_count": 5,
   "metadata": {},
   "outputs": [
    {
     "name": "stdout",
     "output_type": "stream",
     "text": [
      "(6.953732490539551, 'seconds wall time after read_csv')\n"
     ]
    }
   ],
   "source": [
    "t1 = (time.time() - t0, \"seconds wall time after read_csv\")\n",
    "print(t1)\n",
    "#df.describe"
   ]
  },
  {
   "cell_type": "code",
   "execution_count": 6,
   "metadata": {},
   "outputs": [],
   "source": [
    "#df.columns = ['begin_end', 'debugID', 'startTime', 'tagName', 'idref']\n",
    "#df.head(10)"
   ]
  },
  {
   "cell_type": "code",
   "execution_count": 7,
   "metadata": {},
   "outputs": [
    {
     "data": {
      "text/html": [
       "<div>\n",
       "<style scoped>\n",
       "    .dataframe tbody tr th:only-of-type {\n",
       "        vertical-align: middle;\n",
       "    }\n",
       "\n",
       "    .dataframe tbody tr th {\n",
       "        vertical-align: top;\n",
       "    }\n",
       "\n",
       "    .dataframe thead th {\n",
       "        text-align: right;\n",
       "    }\n",
       "</style>\n",
       "<table border=\"1\" class=\"dataframe\">\n",
       "  <thead>\n",
       "    <tr style=\"text-align: right;\">\n",
       "      <th></th>\n",
       "      <th>begin_end</th>\n",
       "      <th>debugID</th>\n",
       "      <th>startTime</th>\n",
       "      <th>tagName</th>\n",
       "      <th>idref</th>\n",
       "      <th>level</th>\n",
       "    </tr>\n",
       "  </thead>\n",
       "  <tbody>\n",
       "    <tr>\n",
       "      <th>0</th>\n",
       "      <td>b</td>\n",
       "      <td>1.0</td>\n",
       "      <td>09:57:11:470</td>\n",
       "      <td>page</td>\n",
       "      <td>NaN</td>\n",
       "      <td>0</td>\n",
       "    </tr>\n",
       "    <tr>\n",
       "      <th>1</th>\n",
       "      <td>b</td>\n",
       "      <td>2.0</td>\n",
       "      <td>09:57:11:470</td>\n",
       "      <td>group</td>\n",
       "      <td>NaN</td>\n",
       "      <td>1</td>\n",
       "    </tr>\n",
       "    <tr>\n",
       "      <th>2</th>\n",
       "      <td>b</td>\n",
       "      <td>3.0</td>\n",
       "      <td>09:57:11:470</td>\n",
       "      <td>minOccurs</td>\n",
       "      <td>NaN</td>\n",
       "      <td>2</td>\n",
       "    </tr>\n",
       "    <tr>\n",
       "      <th>3</th>\n",
       "      <td>e</td>\n",
       "      <td>3.0</td>\n",
       "      <td>09:57:11:470</td>\n",
       "      <td>1</td>\n",
       "      <td>NaN</td>\n",
       "      <td>NaN</td>\n",
       "    </tr>\n",
       "    <tr>\n",
       "      <th>4</th>\n",
       "      <td>b</td>\n",
       "      <td>4.0</td>\n",
       "      <td>09:57:11:470</td>\n",
       "      <td>maxOccurs</td>\n",
       "      <td>NaN</td>\n",
       "      <td>2</td>\n",
       "    </tr>\n",
       "  </tbody>\n",
       "</table>\n",
       "</div>"
      ],
      "text/plain": [
       "  begin_end  debugID     startTime    tagName idref level\n",
       "0         b      1.0  09:57:11:470       page   NaN     0\n",
       "1         b      2.0  09:57:11:470      group   NaN     1\n",
       "2         b      3.0  09:57:11:470  minOccurs   NaN     2\n",
       "3         e      3.0  09:57:11:470          1   NaN   NaN\n",
       "4         b      4.0  09:57:11:470  maxOccurs   NaN     2"
      ]
     },
     "execution_count": 7,
     "metadata": {},
     "output_type": "execute_result"
    }
   ],
   "source": [
    "# sanitize data\n",
    "df.drop(df[df['debugID'] == ' unique debugID '].index, inplace = True)\n",
    "# convert str to int\n",
    "df['debugID'] = pd.to_numeric(df['debugID'])\n",
    "\n",
    "df.head()"
   ]
  },
  {
   "cell_type": "code",
   "execution_count": 8,
   "metadata": {},
   "outputs": [
    {
     "name": "stdout",
     "output_type": "stream",
     "text": [
      "(13.222415924072266, 'seconds wall time after sanitization')\n"
     ]
    }
   ],
   "source": [
    "t2 = (time.time() - t0, \"seconds wall time after sanitization\")\n",
    "print(t2)\n"
   ]
  },
  {
   "cell_type": "code",
   "execution_count": 9,
   "metadata": {},
   "outputs": [
    {
     "data": {
      "text/plain": [
       "idref\n",
       "SelectedOccupancyInput.OccupancyID                     92694\n",
       "SelectedOccupancyPrivate.SetSelectedCSPXPath           58624\n",
       "RiskInput.Type                                         50279\n",
       "True                                                   45664\n",
       "Occupancy                                              43626\n",
       "BuildingDetailPage.SetLastSelectedOccupancyID          42871\n",
       "BuildingInput.OccupancyID                              29753\n",
       "SelectedOccupancyPrivate.SetSelectedFullDescription    26622\n",
       "RiskPrivate.SpecialRiskCheck                           20772\n",
       "RiskInput.OccupancyID                                  19833\n",
       "OccupancySearchInputNonShredded.SearchResults          19589\n",
       "RiskInput.LocationID                                   18553\n",
       "False                                                  18286\n",
       "RiskInput.BuildingID                                   18176\n",
       "SelectedOccupancyPrivate.SetKeyValue                   17748\n",
       "OccupancyOutput.CSP                                    16379\n",
       "OccupancyInput.CSPOverride                             13945\n",
       "OccupancyInput.OccupancyTypeMonoline                   13551\n",
       "BuildingPrivate.CheckBuildingID                        11919\n",
       "Risk                                                   10092\n",
       "Name: tagName, dtype: int64"
      ]
     },
     "execution_count": 9,
     "metadata": {},
     "output_type": "execute_result"
    }
   ],
   "source": [
    "df1=df.groupby(['idref']).count().sort_values(by='debugID', ascending=False)['tagName']\n",
    "df1.head(20)\n"
   ]
  },
  {
   "cell_type": "code",
   "execution_count": 10,
   "metadata": {},
   "outputs": [
    {
     "data": {
      "text/plain": [
       "<bound method NDFrame.describe of idref\n",
       "SelectedOccupancyInput.OccupancyID                                 92694\n",
       "SelectedOccupancyPrivate.SetSelectedCSPXPath                       58624\n",
       "RiskInput.Type                                                     50279\n",
       "True                                                               45664\n",
       "Occupancy                                                          43626\n",
       "                                                                   ...  \n",
       "UNIG_PolicyUndRulesPrivate.ShowUnderwritingGuidelines                  1\n",
       "CovEndorsements                                                        1\n",
       "UNIG_PolicyUndRulesPrivate.ShowWindOrHailGuidelinesResult              1\n",
       "UNIG_PolicyUndRulesPrivate.ShowWindOrHailGuidelinesResultPhase3        1\n",
       "LocationInlandMarineIRPMOutput.LOB                                     1\n",
       "Name: tagName, Length: 1587, dtype: int64>"
      ]
     },
     "execution_count": 10,
     "metadata": {},
     "output_type": "execute_result"
    }
   ],
   "source": [
    "df1.describe"
   ]
  },
  {
   "cell_type": "code",
   "execution_count": 11,
   "metadata": {},
   "outputs": [],
   "source": [
    "# export to Excel ####\n",
    "with pd.ExcelWriter(output_excel) as writer:  \n",
    "    df1.to_excel(writer, sheet_name='frequency', header=['count'])\n"
   ]
  },
  {
   "cell_type": "code",
   "execution_count": 12,
   "metadata": {},
   "outputs": [],
   "source": [
    "del df1"
   ]
  },
  {
   "cell_type": "code",
   "execution_count": 13,
   "metadata": {},
   "outputs": [
    {
     "name": "stdout",
     "output_type": "stream",
     "text": [
      "(14.842190980911255, 'seconds wall time after field frequency')\n"
     ]
    }
   ],
   "source": [
    "t3 = (time.time() - t0, \"seconds wall time after field frequency\")\n",
    "print(t3)"
   ]
  },
  {
   "cell_type": "code",
   "execution_count": 14,
   "metadata": {},
   "outputs": [],
   "source": [
    "#df[df.idref.isin(['LocationPrivate.CheckBuildingLimit', 'BuildingDetailPage.SetLastSelectedOccupancyID', 'OccupancyOutputNonShredded.ApplicableToProperty'])].groupby('idref').count()\n",
    "\n"
   ]
  },
  {
   "cell_type": "code",
   "execution_count": 15,
   "metadata": {},
   "outputs": [
    {
     "name": "stderr",
     "output_type": "stream",
     "text": [
      "<ipython-input-15-56c29cfd0210>:1: FutureWarning: Indexing with multiple keys (implicitly converted to a tuple of keys) will be deprecated, use a list instead.\n",
      "  df1 = df[df.tagName.isin(['iterator'])].groupby(['idref'])['idref','debugID'].count().sort_values(by='debugID', ascending=False)['idref']\n"
     ]
    }
   ],
   "source": [
    "df1 = df[df.tagName.isin(['iterator'])].groupby(['idref'])['idref','debugID'].count().sort_values(by='debugID', ascending=False)['idref']\n",
    "df1.columns=['iterator', 'count']\n"
   ]
  },
  {
   "cell_type": "code",
   "execution_count": null,
   "metadata": {},
   "outputs": [],
   "source": []
  },
  {
   "cell_type": "code",
   "execution_count": 16,
   "metadata": {},
   "outputs": [],
   "source": [
    "# export to Excel ####\n",
    "with pd.ExcelWriter(output_excel, engine=\"openpyxl\", mode='a') as writer:  \n",
    "    df1.to_excel(writer, sheet_name='iterator-Group', header=['count'])\n"
   ]
  },
  {
   "cell_type": "code",
   "execution_count": 17,
   "metadata": {},
   "outputs": [
    {
     "name": "stdout",
     "output_type": "stream",
     "text": [
      "(16.209899187088013, 'seconds wall time after iterator')\n"
     ]
    }
   ],
   "source": [
    "del df1\n",
    "t4 = (time.time() - t0, \"seconds wall time after iterator\")\n",
    "print(t4)"
   ]
  },
  {
   "cell_type": "code",
   "execution_count": 18,
   "metadata": {},
   "outputs": [],
   "source": [
    "# count levels\n",
    "#df.groupby(['level']).count().sort_values(by='level', ascending=False)"
   ]
  },
  {
   "cell_type": "code",
   "execution_count": 19,
   "metadata": {},
   "outputs": [],
   "source": [
    "# elapsed time of public/private fields\n"
   ]
  },
  {
   "cell_type": "code",
   "execution_count": 20,
   "metadata": {},
   "outputs": [],
   "source": [
    "# list debugID for public/private idref - both begin and end lines\n",
    "debugList = df[df.tagName.isin(['public', 'private'])].debugID.tolist()\n",
    "fDebugVal = list(map(int, debugList))\n"
   ]
  },
  {
   "cell_type": "code",
   "execution_count": 21,
   "metadata": {},
   "outputs": [
    {
     "name": "stdout",
     "output_type": "stream",
     "text": [
      "public/private count: 540501\n",
      "[16, 24, 31, 34, 38, 46, 50, 66, 71, 76, 80, 86, 89, 92, 96, 101, 107, 110, 113]\n"
     ]
    }
   ],
   "source": [
    "print('public/private count:', len(fDebugVal))\n",
    "type(fDebugVal)\n",
    "print(fDebugVal[1:20])\n",
    "#df[df.debugID=='11']\n",
    "dfb = df[df.debugID.isin(fDebugVal)].sort_values(by='debugID')\n"
   ]
  },
  {
   "cell_type": "code",
   "execution_count": 22,
   "metadata": {},
   "outputs": [],
   "source": [
    "dfbstart = dfb[dfb.begin_end=='b'][['debugID', 'startTime', 'idref', 'level']]\n",
    "dfbend = dfb[dfb.begin_end=='e'][['debugID', 'startTime']]\n",
    "dfbend.columns=['debugID', 'endTime']\n"
   ]
  },
  {
   "cell_type": "code",
   "execution_count": 23,
   "metadata": {},
   "outputs": [
    {
     "data": {
      "text/html": [
       "<div>\n",
       "<style scoped>\n",
       "    .dataframe tbody tr th:only-of-type {\n",
       "        vertical-align: middle;\n",
       "    }\n",
       "\n",
       "    .dataframe tbody tr th {\n",
       "        vertical-align: top;\n",
       "    }\n",
       "\n",
       "    .dataframe thead th {\n",
       "        text-align: right;\n",
       "    }\n",
       "</style>\n",
       "<table border=\"1\" class=\"dataframe\">\n",
       "  <thead>\n",
       "    <tr style=\"text-align: right;\">\n",
       "      <th></th>\n",
       "      <th>debugID</th>\n",
       "      <th>startTime</th>\n",
       "      <th>idref</th>\n",
       "      <th>level</th>\n",
       "    </tr>\n",
       "  </thead>\n",
       "  <tbody>\n",
       "    <tr>\n",
       "      <th>19</th>\n",
       "      <td>13.0</td>\n",
       "      <td>09:57:11:470</td>\n",
       "      <td>PolicyPrivate.UNIG_UnderwritingStatusCaption</td>\n",
       "      <td>5</td>\n",
       "    </tr>\n",
       "    <tr>\n",
       "      <th>22</th>\n",
       "      <td>16.0</td>\n",
       "      <td>09:57:11:470</td>\n",
       "      <td>PolicyOutput.UnderwritingStatus</td>\n",
       "      <td>8</td>\n",
       "    </tr>\n",
       "    <tr>\n",
       "      <th>34</th>\n",
       "      <td>24.0</td>\n",
       "      <td>09:57:11:470</td>\n",
       "      <td>PolicyOutputNonShredded.LastTransactionStatus</td>\n",
       "      <td>12</td>\n",
       "    </tr>\n",
       "    <tr>\n",
       "      <th>45</th>\n",
       "      <td>31.0</td>\n",
       "      <td>09:57:11:470</td>\n",
       "      <td>TransactionOutput.Status</td>\n",
       "      <td>15</td>\n",
       "    </tr>\n",
       "    <tr>\n",
       "      <th>61</th>\n",
       "      <td>34.0</td>\n",
       "      <td>09:57:11:470</td>\n",
       "      <td>LineOutputNonShredded.UNIG_ShowIssuePolicyPage</td>\n",
       "      <td>5</td>\n",
       "    </tr>\n",
       "    <tr>\n",
       "      <th>...</th>\n",
       "      <td>...</td>\n",
       "      <td>...</td>\n",
       "      <td>...</td>\n",
       "      <td>...</td>\n",
       "    </tr>\n",
       "    <tr>\n",
       "      <th>5437496</th>\n",
       "      <td>2718751.0</td>\n",
       "      <td>09:59:12:757</td>\n",
       "      <td>Context.IsAgent</td>\n",
       "      <td>14</td>\n",
       "    </tr>\n",
       "    <tr>\n",
       "      <th>5437503</th>\n",
       "      <td>2718754.0</td>\n",
       "      <td>09:59:12:757</td>\n",
       "      <td>PolicyOutputNonShredded.UNIG_SubmissionComplete</td>\n",
       "      <td>13</td>\n",
       "    </tr>\n",
       "    <tr>\n",
       "      <th>5437512</th>\n",
       "      <td>2718758.0</td>\n",
       "      <td>09:59:12:757</td>\n",
       "      <td>Compro.UNIG_ComproError</td>\n",
       "      <td>12</td>\n",
       "    </tr>\n",
       "    <tr>\n",
       "      <th>5437520</th>\n",
       "      <td>2718761.0</td>\n",
       "      <td>09:59:12:757</td>\n",
       "      <td>UNIG_PolicyUndQuestionsInput.showUpdateUnderMe...</td>\n",
       "      <td>10</td>\n",
       "    </tr>\n",
       "    <tr>\n",
       "      <th>5437539</th>\n",
       "      <td>2718767.0</td>\n",
       "      <td>09:59:12:757</td>\n",
       "      <td>UnderwritingSummary.IsReadOnly</td>\n",
       "      <td>3</td>\n",
       "    </tr>\n",
       "  </tbody>\n",
       "</table>\n",
       "<p>540501 rows × 4 columns</p>\n",
       "</div>"
      ],
      "text/plain": [
       "           debugID     startTime  \\\n",
       "19            13.0  09:57:11:470   \n",
       "22            16.0  09:57:11:470   \n",
       "34            24.0  09:57:11:470   \n",
       "45            31.0  09:57:11:470   \n",
       "61            34.0  09:57:11:470   \n",
       "...            ...           ...   \n",
       "5437496  2718751.0  09:59:12:757   \n",
       "5437503  2718754.0  09:59:12:757   \n",
       "5437512  2718758.0  09:59:12:757   \n",
       "5437520  2718761.0  09:59:12:757   \n",
       "5437539  2718767.0  09:59:12:757   \n",
       "\n",
       "                                                     idref level  \n",
       "19            PolicyPrivate.UNIG_UnderwritingStatusCaption     5  \n",
       "22                         PolicyOutput.UnderwritingStatus     8  \n",
       "34           PolicyOutputNonShredded.LastTransactionStatus    12  \n",
       "45                                TransactionOutput.Status    15  \n",
       "61          LineOutputNonShredded.UNIG_ShowIssuePolicyPage     5  \n",
       "...                                                    ...   ...  \n",
       "5437496                                    Context.IsAgent    14  \n",
       "5437503    PolicyOutputNonShredded.UNIG_SubmissionComplete    13  \n",
       "5437512                            Compro.UNIG_ComproError    12  \n",
       "5437520  UNIG_PolicyUndQuestionsInput.showUpdateUnderMe...    10  \n",
       "5437539                     UnderwritingSummary.IsReadOnly     3  \n",
       "\n",
       "[540501 rows x 4 columns]"
      ]
     },
     "execution_count": 23,
     "metadata": {},
     "output_type": "execute_result"
    }
   ],
   "source": [
    "dfbstart"
   ]
  },
  {
   "cell_type": "code",
   "execution_count": 24,
   "metadata": {},
   "outputs": [
    {
     "data": {
      "text/html": [
       "<div>\n",
       "<style scoped>\n",
       "    .dataframe tbody tr th:only-of-type {\n",
       "        vertical-align: middle;\n",
       "    }\n",
       "\n",
       "    .dataframe tbody tr th {\n",
       "        vertical-align: top;\n",
       "    }\n",
       "\n",
       "    .dataframe thead th {\n",
       "        text-align: right;\n",
       "    }\n",
       "</style>\n",
       "<table border=\"1\" class=\"dataframe\">\n",
       "  <thead>\n",
       "    <tr style=\"text-align: right;\">\n",
       "      <th></th>\n",
       "      <th>debugID</th>\n",
       "      <th>endTime</th>\n",
       "    </tr>\n",
       "  </thead>\n",
       "  <tbody>\n",
       "    <tr>\n",
       "      <th>58</th>\n",
       "      <td>13.0</td>\n",
       "      <td>09:57:11:470</td>\n",
       "    </tr>\n",
       "    <tr>\n",
       "      <th>23</th>\n",
       "      <td>16.0</td>\n",
       "      <td>09:57:11:470</td>\n",
       "    </tr>\n",
       "    <tr>\n",
       "      <th>49</th>\n",
       "      <td>24.0</td>\n",
       "      <td>09:57:11:470</td>\n",
       "    </tr>\n",
       "    <tr>\n",
       "      <th>46</th>\n",
       "      <td>31.0</td>\n",
       "      <td>09:57:11:470</td>\n",
       "    </tr>\n",
       "    <tr>\n",
       "      <th>148</th>\n",
       "      <td>34.0</td>\n",
       "      <td>09:57:11:470</td>\n",
       "    </tr>\n",
       "    <tr>\n",
       "      <th>...</th>\n",
       "      <td>...</td>\n",
       "      <td>...</td>\n",
       "    </tr>\n",
       "    <tr>\n",
       "      <th>5437497</th>\n",
       "      <td>2718751.0</td>\n",
       "      <td>09:59:12:757</td>\n",
       "    </tr>\n",
       "    <tr>\n",
       "      <th>5437504</th>\n",
       "      <td>2718754.0</td>\n",
       "      <td>09:59:12:757</td>\n",
       "    </tr>\n",
       "    <tr>\n",
       "      <th>5437513</th>\n",
       "      <td>2718758.0</td>\n",
       "      <td>09:59:12:757</td>\n",
       "    </tr>\n",
       "    <tr>\n",
       "      <th>5437529</th>\n",
       "      <td>2718761.0</td>\n",
       "      <td>09:59:12:757</td>\n",
       "    </tr>\n",
       "    <tr>\n",
       "      <th>5437540</th>\n",
       "      <td>2718767.0</td>\n",
       "      <td>09:59:12:757</td>\n",
       "    </tr>\n",
       "  </tbody>\n",
       "</table>\n",
       "<p>540501 rows × 2 columns</p>\n",
       "</div>"
      ],
      "text/plain": [
       "           debugID       endTime\n",
       "58            13.0  09:57:11:470\n",
       "23            16.0  09:57:11:470\n",
       "49            24.0  09:57:11:470\n",
       "46            31.0  09:57:11:470\n",
       "148           34.0  09:57:11:470\n",
       "...            ...           ...\n",
       "5437497  2718751.0  09:59:12:757\n",
       "5437504  2718754.0  09:59:12:757\n",
       "5437513  2718758.0  09:59:12:757\n",
       "5437529  2718761.0  09:59:12:757\n",
       "5437540  2718767.0  09:59:12:757\n",
       "\n",
       "[540501 rows x 2 columns]"
      ]
     },
     "execution_count": 24,
     "metadata": {},
     "output_type": "execute_result"
    }
   ],
   "source": [
    "dfbend"
   ]
  },
  {
   "cell_type": "code",
   "execution_count": 25,
   "metadata": {},
   "outputs": [
    {
     "data": {
      "text/html": [
       "<div>\n",
       "<style scoped>\n",
       "    .dataframe tbody tr th:only-of-type {\n",
       "        vertical-align: middle;\n",
       "    }\n",
       "\n",
       "    .dataframe tbody tr th {\n",
       "        vertical-align: top;\n",
       "    }\n",
       "\n",
       "    .dataframe thead th {\n",
       "        text-align: right;\n",
       "    }\n",
       "</style>\n",
       "<table border=\"1\" class=\"dataframe\">\n",
       "  <thead>\n",
       "    <tr style=\"text-align: right;\">\n",
       "      <th></th>\n",
       "      <th>debugID</th>\n",
       "      <th>endTime</th>\n",
       "      <th>startTime</th>\n",
       "      <th>idref</th>\n",
       "      <th>level</th>\n",
       "    </tr>\n",
       "  </thead>\n",
       "  <tbody>\n",
       "    <tr>\n",
       "      <th>1638</th>\n",
       "      <td>12548.0</td>\n",
       "      <td>09:57:44:811</td>\n",
       "      <td>09:57:44:718</td>\n",
       "      <td>LocationPrivate.CheckBuildingLimit</td>\n",
       "      <td>57</td>\n",
       "    </tr>\n",
       "    <tr>\n",
       "      <th>2449</th>\n",
       "      <td>18915.0</td>\n",
       "      <td>09:57:45:233</td>\n",
       "      <td>09:57:44:811</td>\n",
       "      <td>LocationPrivate.CheckBuildingLimit</td>\n",
       "      <td>57</td>\n",
       "    </tr>\n",
       "    <tr>\n",
       "      <th>6345</th>\n",
       "      <td>46869.0</td>\n",
       "      <td>09:57:45:312</td>\n",
       "      <td>09:57:45:233</td>\n",
       "      <td>LocationPrivate.CheckBuildingLimit</td>\n",
       "      <td>57</td>\n",
       "    </tr>\n",
       "    <tr>\n",
       "      <th>7011</th>\n",
       "      <td>52688.0</td>\n",
       "      <td>09:57:45:344</td>\n",
       "      <td>09:57:45:312</td>\n",
       "      <td>LocationPrivate.CheckBuildingLimit</td>\n",
       "      <td>57</td>\n",
       "    </tr>\n",
       "    <tr>\n",
       "      <th>7304</th>\n",
       "      <td>55115.0</td>\n",
       "      <td>09:57:45:470</td>\n",
       "      <td>09:57:45:344</td>\n",
       "      <td>LocationPrivate.CheckBuildingLimit</td>\n",
       "      <td>57</td>\n",
       "    </tr>\n",
       "  </tbody>\n",
       "</table>\n",
       "</div>"
      ],
      "text/plain": [
       "      debugID       endTime     startTime                               idref  \\\n",
       "1638  12548.0  09:57:44:811  09:57:44:718  LocationPrivate.CheckBuildingLimit   \n",
       "2449  18915.0  09:57:45:233  09:57:44:811  LocationPrivate.CheckBuildingLimit   \n",
       "6345  46869.0  09:57:45:312  09:57:45:233  LocationPrivate.CheckBuildingLimit   \n",
       "7011  52688.0  09:57:45:344  09:57:45:312  LocationPrivate.CheckBuildingLimit   \n",
       "7304  55115.0  09:57:45:470  09:57:45:344  LocationPrivate.CheckBuildingLimit   \n",
       "\n",
       "     level  \n",
       "1638    57  \n",
       "2449    57  \n",
       "6345    57  \n",
       "7011    57  \n",
       "7304    57  "
      ]
     },
     "execution_count": 25,
     "metadata": {},
     "output_type": "execute_result"
    }
   ],
   "source": [
    "dfcombined=pd.merge(dfbend, dfbstart, on=[\"debugID\"])\n",
    "dfcombined[dfcombined.idref=='LocationPrivate.CheckBuildingLimit']\n",
    "#dfb.sort_values(by='debugID')\n",
    "#dfb[dfb.debugID==79806].startTime.tolist()\n",
    "\n",
    "#dfb[dfb.debugID==11]"
   ]
  },
  {
   "cell_type": "code",
   "execution_count": 26,
   "metadata": {},
   "outputs": [
    {
     "data": {
      "text/html": [
       "<div>\n",
       "<style scoped>\n",
       "    .dataframe tbody tr th:only-of-type {\n",
       "        vertical-align: middle;\n",
       "    }\n",
       "\n",
       "    .dataframe tbody tr th {\n",
       "        vertical-align: top;\n",
       "    }\n",
       "\n",
       "    .dataframe thead th {\n",
       "        text-align: right;\n",
       "    }\n",
       "</style>\n",
       "<table border=\"1\" class=\"dataframe\">\n",
       "  <thead>\n",
       "    <tr style=\"text-align: right;\">\n",
       "      <th></th>\n",
       "      <th>begin_end</th>\n",
       "      <th>debugID</th>\n",
       "      <th>startTime</th>\n",
       "      <th>tagName</th>\n",
       "      <th>idref</th>\n",
       "      <th>level</th>\n",
       "    </tr>\n",
       "  </thead>\n",
       "  <tbody>\n",
       "    <tr>\n",
       "      <th>19</th>\n",
       "      <td>b</td>\n",
       "      <td>13.0</td>\n",
       "      <td>09:57:11:470</td>\n",
       "      <td>private</td>\n",
       "      <td>PolicyPrivate.UNIG_UnderwritingStatusCaption</td>\n",
       "      <td>5</td>\n",
       "    </tr>\n",
       "    <tr>\n",
       "      <th>58</th>\n",
       "      <td>e</td>\n",
       "      <td>13.0</td>\n",
       "      <td>09:57:11:470</td>\n",
       "      <td>Inforce</td>\n",
       "      <td>NaN</td>\n",
       "      <td>NaN</td>\n",
       "    </tr>\n",
       "    <tr>\n",
       "      <th>22</th>\n",
       "      <td>b</td>\n",
       "      <td>16.0</td>\n",
       "      <td>09:57:11:470</td>\n",
       "      <td>public</td>\n",
       "      <td>PolicyOutput.UnderwritingStatus</td>\n",
       "      <td>8</td>\n",
       "    </tr>\n",
       "    <tr>\n",
       "      <th>23</th>\n",
       "      <td>e</td>\n",
       "      <td>16.0</td>\n",
       "      <td>09:57:11:470</td>\n",
       "      <td>InForce</td>\n",
       "      <td>NaN</td>\n",
       "      <td>NaN</td>\n",
       "    </tr>\n",
       "    <tr>\n",
       "      <th>34</th>\n",
       "      <td>b</td>\n",
       "      <td>24.0</td>\n",
       "      <td>09:57:11:470</td>\n",
       "      <td>public</td>\n",
       "      <td>PolicyOutputNonShredded.LastTransactionStatus</td>\n",
       "      <td>12</td>\n",
       "    </tr>\n",
       "    <tr>\n",
       "      <th>49</th>\n",
       "      <td>e</td>\n",
       "      <td>24.0</td>\n",
       "      <td>09:57:11:470</td>\n",
       "      <td>Referred</td>\n",
       "      <td>NaN</td>\n",
       "      <td>NaN</td>\n",
       "    </tr>\n",
       "    <tr>\n",
       "      <th>45</th>\n",
       "      <td>b</td>\n",
       "      <td>31.0</td>\n",
       "      <td>09:57:11:470</td>\n",
       "      <td>public</td>\n",
       "      <td>TransactionOutput.Status</td>\n",
       "      <td>15</td>\n",
       "    </tr>\n",
       "    <tr>\n",
       "      <th>46</th>\n",
       "      <td>e</td>\n",
       "      <td>31.0</td>\n",
       "      <td>09:57:11:470</td>\n",
       "      <td>Referred</td>\n",
       "      <td>NaN</td>\n",
       "      <td>NaN</td>\n",
       "    </tr>\n",
       "    <tr>\n",
       "      <th>61</th>\n",
       "      <td>b</td>\n",
       "      <td>34.0</td>\n",
       "      <td>09:57:11:470</td>\n",
       "      <td>private</td>\n",
       "      <td>LineOutputNonShredded.UNIG_ShowIssuePolicyPage</td>\n",
       "      <td>5</td>\n",
       "    </tr>\n",
       "    <tr>\n",
       "      <th>148</th>\n",
       "      <td>e</td>\n",
       "      <td>34.0</td>\n",
       "      <td>09:57:11:470</td>\n",
       "      <td>(false)</td>\n",
       "      <td>NaN</td>\n",
       "      <td>NaN</td>\n",
       "    </tr>\n",
       "  </tbody>\n",
       "</table>\n",
       "</div>"
      ],
      "text/plain": [
       "    begin_end  debugID     startTime   tagName  \\\n",
       "19          b     13.0  09:57:11:470   private   \n",
       "58          e     13.0  09:57:11:470   Inforce   \n",
       "22          b     16.0  09:57:11:470    public   \n",
       "23          e     16.0  09:57:11:470   InForce   \n",
       "34          b     24.0  09:57:11:470    public   \n",
       "49          e     24.0  09:57:11:470  Referred   \n",
       "45          b     31.0  09:57:11:470    public   \n",
       "46          e     31.0  09:57:11:470  Referred   \n",
       "61          b     34.0  09:57:11:470   private   \n",
       "148         e     34.0  09:57:11:470   (false)   \n",
       "\n",
       "                                              idref level  \n",
       "19     PolicyPrivate.UNIG_UnderwritingStatusCaption     5  \n",
       "58                                              NaN   NaN  \n",
       "22                  PolicyOutput.UnderwritingStatus     8  \n",
       "23                                              NaN   NaN  \n",
       "34    PolicyOutputNonShredded.LastTransactionStatus    12  \n",
       "49                                              NaN   NaN  \n",
       "45                         TransactionOutput.Status    15  \n",
       "46                                              NaN   NaN  \n",
       "61   LineOutputNonShredded.UNIG_ShowIssuePolicyPage     5  \n",
       "148                                             NaN   NaN  "
      ]
     },
     "execution_count": 26,
     "metadata": {},
     "output_type": "execute_result"
    }
   ],
   "source": [
    "dfb[:10]"
   ]
  },
  {
   "cell_type": "code",
   "execution_count": 27,
   "metadata": {},
   "outputs": [],
   "source": [
    "dfcombined['timediff'] = pd.DataFrame(( pd.to_datetime(dfcombined['endTime'], format='%H:%M:%S:%f') - pd.to_datetime(dfcombined['startTime'], format='%H:%M:%S:%f')).dt.total_seconds())"
   ]
  },
  {
   "cell_type": "code",
   "execution_count": 28,
   "metadata": {},
   "outputs": [],
   "source": [
    "from datetime import datetime, timedelta\n",
    "df1 = dfcombined[dfcombined.timediff > 0.050].sort_values(by='timediff', ascending=False)\n"
   ]
  },
  {
   "cell_type": "code",
   "execution_count": 29,
   "metadata": {},
   "outputs": [],
   "source": [
    "# export to Excel ####\n",
    "with pd.ExcelWriter(output_excel, engine=\"openpyxl\", mode='a') as writer:  \n",
    "    df1.to_excel(writer, sheet_name='timing-DebugID', header=['debugID','endTime','startTime','idref','level','timediff (sec)'])\n"
   ]
  },
  {
   "cell_type": "code",
   "execution_count": 30,
   "metadata": {},
   "outputs": [
    {
     "data": {
      "text/html": [
       "<div>\n",
       "<style scoped>\n",
       "    .dataframe tbody tr th:only-of-type {\n",
       "        vertical-align: middle;\n",
       "    }\n",
       "\n",
       "    .dataframe tbody tr th {\n",
       "        vertical-align: top;\n",
       "    }\n",
       "\n",
       "    .dataframe thead th {\n",
       "        text-align: right;\n",
       "    }\n",
       "</style>\n",
       "<table border=\"1\" class=\"dataframe\">\n",
       "  <thead>\n",
       "    <tr style=\"text-align: right;\">\n",
       "      <th></th>\n",
       "      <th>debugID</th>\n",
       "      <th>endTime</th>\n",
       "      <th>startTime</th>\n",
       "      <th>idref</th>\n",
       "      <th>level</th>\n",
       "      <th>timediff</th>\n",
       "    </tr>\n",
       "  </thead>\n",
       "  <tbody>\n",
       "    <tr>\n",
       "      <th>1163</th>\n",
       "      <td>9152.0</td>\n",
       "      <td>09:59:11:380</td>\n",
       "      <td>09:57:42:108</td>\n",
       "      <td>UNIG_PolicyUndRulesPrivate.NoCautionsFound</td>\n",
       "      <td>13</td>\n",
       "      <td>89.272</td>\n",
       "    </tr>\n",
       "    <tr>\n",
       "      <th>1162</th>\n",
       "      <td>9148.0</td>\n",
       "      <td>09:59:11:380</td>\n",
       "      <td>09:57:42:108</td>\n",
       "      <td>PolicyOutputNonShredded.UNIG_UnderwritingRuleO...</td>\n",
       "      <td>9</td>\n",
       "      <td>89.272</td>\n",
       "    </tr>\n",
       "    <tr>\n",
       "      <th>7824</th>\n",
       "      <td>59983.0</td>\n",
       "      <td>09:59:11:334</td>\n",
       "      <td>09:57:45:470</td>\n",
       "      <td>UNIG_PolicyUndRulesPrivate.NoCautionsBuildingL...</td>\n",
       "      <td>19</td>\n",
       "      <td>85.864</td>\n",
       "    </tr>\n",
       "    <tr>\n",
       "      <th>7825</th>\n",
       "      <td>59987.0</td>\n",
       "      <td>09:59:11:334</td>\n",
       "      <td>09:57:45:470</td>\n",
       "      <td>UNIG_PolicyUndRulesPrivate.ThereAreBuildingUAE...</td>\n",
       "      <td>23</td>\n",
       "      <td>85.864</td>\n",
       "    </tr>\n",
       "    <tr>\n",
       "      <th>7826</th>\n",
       "      <td>59991.0</td>\n",
       "      <td>09:59:11:334</td>\n",
       "      <td>09:57:45:470</td>\n",
       "      <td>LinePrivate.UNIG_AnyBuildingUAEdits</td>\n",
       "      <td>27</td>\n",
       "      <td>85.864</td>\n",
       "    </tr>\n",
       "    <tr>\n",
       "      <th>...</th>\n",
       "      <td>...</td>\n",
       "      <td>...</td>\n",
       "      <td>...</td>\n",
       "      <td>...</td>\n",
       "      <td>...</td>\n",
       "      <td>...</td>\n",
       "    </tr>\n",
       "    <tr>\n",
       "      <th>165473</th>\n",
       "      <td>841546.0</td>\n",
       "      <td>09:58:14:295</td>\n",
       "      <td>09:58:14:242</td>\n",
       "      <td>BuildingPrivate.CalculateCSPUAEdit</td>\n",
       "      <td>50</td>\n",
       "      <td>0.053</td>\n",
       "    </tr>\n",
       "    <tr>\n",
       "      <th>270484</th>\n",
       "      <td>1366958.0</td>\n",
       "      <td>09:58:32:345</td>\n",
       "      <td>09:58:32:294</td>\n",
       "      <td>BuildingPrivate.CalculateCSPUAEdit</td>\n",
       "      <td>50</td>\n",
       "      <td>0.051</td>\n",
       "    </tr>\n",
       "    <tr>\n",
       "      <th>142152</th>\n",
       "      <td>727990.0</td>\n",
       "      <td>09:58:10:090</td>\n",
       "      <td>09:58:10:039</td>\n",
       "      <td>BuildingPrivate.CalculateCSPUAEdit</td>\n",
       "      <td>50</td>\n",
       "      <td>0.051</td>\n",
       "    </tr>\n",
       "    <tr>\n",
       "      <th>1642</th>\n",
       "      <td>12564.0</td>\n",
       "      <td>09:57:44:769</td>\n",
       "      <td>09:57:44:718</td>\n",
       "      <td>BuildingPrivate.CheckBuildingRiskLimit</td>\n",
       "      <td>60</td>\n",
       "      <td>0.051</td>\n",
       "    </tr>\n",
       "    <tr>\n",
       "      <th>275569</th>\n",
       "      <td>1389607.0</td>\n",
       "      <td>09:58:33:532</td>\n",
       "      <td>09:58:33:481</td>\n",
       "      <td>BuildingPrivate.BuildingTotalTASForCPPUAEdit</td>\n",
       "      <td>56</td>\n",
       "      <td>0.051</td>\n",
       "    </tr>\n",
       "  </tbody>\n",
       "</table>\n",
       "<p>721 rows × 6 columns</p>\n",
       "</div>"
      ],
      "text/plain": [
       "          debugID       endTime     startTime  \\\n",
       "1163       9152.0  09:59:11:380  09:57:42:108   \n",
       "1162       9148.0  09:59:11:380  09:57:42:108   \n",
       "7824      59983.0  09:59:11:334  09:57:45:470   \n",
       "7825      59987.0  09:59:11:334  09:57:45:470   \n",
       "7826      59991.0  09:59:11:334  09:57:45:470   \n",
       "...           ...           ...           ...   \n",
       "165473   841546.0  09:58:14:295  09:58:14:242   \n",
       "270484  1366958.0  09:58:32:345  09:58:32:294   \n",
       "142152   727990.0  09:58:10:090  09:58:10:039   \n",
       "1642      12564.0  09:57:44:769  09:57:44:718   \n",
       "275569  1389607.0  09:58:33:532  09:58:33:481   \n",
       "\n",
       "                                                    idref level  timediff  \n",
       "1163           UNIG_PolicyUndRulesPrivate.NoCautionsFound    13    89.272  \n",
       "1162    PolicyOutputNonShredded.UNIG_UnderwritingRuleO...     9    89.272  \n",
       "7824    UNIG_PolicyUndRulesPrivate.NoCautionsBuildingL...    19    85.864  \n",
       "7825    UNIG_PolicyUndRulesPrivate.ThereAreBuildingUAE...    23    85.864  \n",
       "7826                  LinePrivate.UNIG_AnyBuildingUAEdits    27    85.864  \n",
       "...                                                   ...   ...       ...  \n",
       "165473                 BuildingPrivate.CalculateCSPUAEdit    50     0.053  \n",
       "270484                 BuildingPrivate.CalculateCSPUAEdit    50     0.051  \n",
       "142152                 BuildingPrivate.CalculateCSPUAEdit    50     0.051  \n",
       "1642               BuildingPrivate.CheckBuildingRiskLimit    60     0.051  \n",
       "275569       BuildingPrivate.BuildingTotalTASForCPPUAEdit    56     0.051  \n",
       "\n",
       "[721 rows x 6 columns]"
      ]
     },
     "execution_count": 30,
     "metadata": {},
     "output_type": "execute_result"
    }
   ],
   "source": [
    "df1"
   ]
  },
  {
   "cell_type": "code",
   "execution_count": 31,
   "metadata": {},
   "outputs": [
    {
     "data": {
      "text/html": [
       "<div>\n",
       "<style scoped>\n",
       "    .dataframe tbody tr th:only-of-type {\n",
       "        vertical-align: middle;\n",
       "    }\n",
       "\n",
       "    .dataframe tbody tr th {\n",
       "        vertical-align: top;\n",
       "    }\n",
       "\n",
       "    .dataframe thead th {\n",
       "        text-align: right;\n",
       "    }\n",
       "</style>\n",
       "<table border=\"1\" class=\"dataframe\">\n",
       "  <thead>\n",
       "    <tr style=\"text-align: right;\">\n",
       "      <th></th>\n",
       "      <th>timediff</th>\n",
       "    </tr>\n",
       "    <tr>\n",
       "      <th>idref</th>\n",
       "      <th></th>\n",
       "    </tr>\n",
       "  </thead>\n",
       "  <tbody>\n",
       "    <tr>\n",
       "      <th>UNIG_PolicyUndRulesPrivate.NoCautionsFound</th>\n",
       "      <td>89.272</td>\n",
       "    </tr>\n",
       "    <tr>\n",
       "      <th>PolicyOutputNonShredded.UNIG_UnderwritingRuleOutcome</th>\n",
       "      <td>89.272</td>\n",
       "    </tr>\n",
       "    <tr>\n",
       "      <th>UNIG_PolicyUndRulesPrivate.ThereAreBuildingUAEdits</th>\n",
       "      <td>85.864</td>\n",
       "    </tr>\n",
       "    <tr>\n",
       "      <th>LinePrivate.UNIG_AnyBuildingUAEdits</th>\n",
       "      <td>85.864</td>\n",
       "    </tr>\n",
       "    <tr>\n",
       "      <th>UNIG_PolicyUndRulesPrivate.NoCautionsBuildingLevelFound</th>\n",
       "      <td>85.864</td>\n",
       "    </tr>\n",
       "    <tr>\n",
       "      <th>...</th>\n",
       "      <td>...</td>\n",
       "    </tr>\n",
       "    <tr>\n",
       "      <th>LocationPropertyIRPMOutput.BackupTotal</th>\n",
       "      <td>0.057</td>\n",
       "    </tr>\n",
       "    <tr>\n",
       "      <th>LocationPropertyIRPMPrivate.IsPropertyIRPMCommentsFactorEnteredCheck</th>\n",
       "      <td>0.054</td>\n",
       "    </tr>\n",
       "    <tr>\n",
       "      <th>LocationPropertyIRPMOutput.CommentsStatus</th>\n",
       "      <td>0.054</td>\n",
       "    </tr>\n",
       "    <tr>\n",
       "      <th>OccupancyOutput.HazardGrade</th>\n",
       "      <td>0.053</td>\n",
       "    </tr>\n",
       "    <tr>\n",
       "      <th>SelectedOccupancyInput.BuildingOccupancyID</th>\n",
       "      <td>0.051</td>\n",
       "    </tr>\n",
       "  </tbody>\n",
       "</table>\n",
       "<p>261 rows × 1 columns</p>\n",
       "</div>"
      ],
      "text/plain": [
       "                                                    timediff\n",
       "idref                                                       \n",
       "UNIG_PolicyUndRulesPrivate.NoCautionsFound            89.272\n",
       "PolicyOutputNonShredded.UNIG_UnderwritingRuleOu...    89.272\n",
       "UNIG_PolicyUndRulesPrivate.ThereAreBuildingUAEdits    85.864\n",
       "LinePrivate.UNIG_AnyBuildingUAEdits                   85.864\n",
       "UNIG_PolicyUndRulesPrivate.NoCautionsBuildingLe...    85.864\n",
       "...                                                      ...\n",
       "LocationPropertyIRPMOutput.BackupTotal                 0.057\n",
       "LocationPropertyIRPMPrivate.IsPropertyIRPMComme...     0.054\n",
       "LocationPropertyIRPMOutput.CommentsStatus              0.054\n",
       "OccupancyOutput.HazardGrade                            0.053\n",
       "SelectedOccupancyInput.BuildingOccupancyID             0.051\n",
       "\n",
       "[261 rows x 1 columns]"
      ]
     },
     "execution_count": 31,
     "metadata": {},
     "output_type": "execute_result"
    }
   ],
   "source": [
    "df2 = dfcombined.groupby('idref').sum('timediff').sort_values(by='timediff', ascending=False)\n",
    "df2 = df2[df2.timediff > 0.050][['timediff']]\n",
    "df2"
   ]
  },
  {
   "cell_type": "code",
   "execution_count": 32,
   "metadata": {},
   "outputs": [],
   "source": [
    "# export to Excel ####\n",
    "with pd.ExcelWriter(output_excel, engine=\"openpyxl\", mode='a') as writer:  \n",
    "    df2.to_excel(writer, sheet_name='timing-Unique-fields')\n"
   ]
  },
  {
   "cell_type": "code",
   "execution_count": 33,
   "metadata": {},
   "outputs": [],
   "source": [
    "del dfcombined\n",
    "del df1\n",
    "del df2"
   ]
  },
  {
   "cell_type": "code",
   "execution_count": 34,
   "metadata": {},
   "outputs": [
    {
     "name": "stdout",
     "output_type": "stream",
     "text": [
      "(20.49694538116455, 'seconds wall time after timing')\n"
     ]
    }
   ],
   "source": [
    "t5 = (time.time() - t0, \"seconds wall time after timing\")\n",
    "print(t5)"
   ]
  },
  {
   "cell_type": "code",
   "execution_count": 35,
   "metadata": {},
   "outputs": [
    {
     "data": {
      "text/plain": [
       "([36, 178, 212, 294, 530, 638, 704, 726, 748, 770],\n",
       " [26.0, 98.0, 115.0, 160.0, 273.0, 332.0, 365.0, 376.0, 387.0, 398.0])"
      ]
     },
     "execution_count": 35,
     "metadata": {},
     "output_type": "execute_result"
    }
   ],
   "source": [
    "# list line index for iterator idref - both begin and end lines\n",
    "iterList = df[df.tagName.isin(['iterator'])].index.tolist()\n",
    "\n",
    "iterDebugList = df.iloc[iterList]['debugID'].tolist()\n",
    "iterList[:10], iterDebugList[:10]"
   ]
  },
  {
   "cell_type": "code",
   "execution_count": 36,
   "metadata": {},
   "outputs": [],
   "source": [
    "# Find the immediate parent of the iterator\n",
    "# Iterator debugID - walk backward till we find public/private\n",
    "\n",
    "\n"
   ]
  },
  {
   "cell_type": "code",
   "execution_count": 37,
   "metadata": {},
   "outputs": [
    {
     "data": {
      "text/html": [
       "<div>\n",
       "<style scoped>\n",
       "    .dataframe tbody tr th:only-of-type {\n",
       "        vertical-align: middle;\n",
       "    }\n",
       "\n",
       "    .dataframe tbody tr th {\n",
       "        vertical-align: top;\n",
       "    }\n",
       "\n",
       "    .dataframe thead th {\n",
       "        text-align: right;\n",
       "    }\n",
       "</style>\n",
       "<table border=\"1\" class=\"dataframe\">\n",
       "  <thead>\n",
       "    <tr style=\"text-align: right;\">\n",
       "      <th></th>\n",
       "      <th>begin_end</th>\n",
       "      <th>debugID</th>\n",
       "      <th>startTime</th>\n",
       "      <th>tagName</th>\n",
       "      <th>idref</th>\n",
       "      <th>level</th>\n",
       "    </tr>\n",
       "  </thead>\n",
       "  <tbody>\n",
       "    <tr>\n",
       "      <th>19</th>\n",
       "      <td>b</td>\n",
       "      <td>13.0</td>\n",
       "      <td>09:57:11:470</td>\n",
       "      <td>private</td>\n",
       "      <td>PolicyPrivate.UNIG_UnderwritingStatusCaption</td>\n",
       "      <td>5</td>\n",
       "    </tr>\n",
       "    <tr>\n",
       "      <th>22</th>\n",
       "      <td>b</td>\n",
       "      <td>16.0</td>\n",
       "      <td>09:57:11:470</td>\n",
       "      <td>public</td>\n",
       "      <td>PolicyOutput.UnderwritingStatus</td>\n",
       "      <td>8</td>\n",
       "    </tr>\n",
       "    <tr>\n",
       "      <th>34</th>\n",
       "      <td>b</td>\n",
       "      <td>24.0</td>\n",
       "      <td>09:57:11:470</td>\n",
       "      <td>public</td>\n",
       "      <td>PolicyOutputNonShredded.LastTransactionStatus</td>\n",
       "      <td>12</td>\n",
       "    </tr>\n",
       "    <tr>\n",
       "      <th>45</th>\n",
       "      <td>b</td>\n",
       "      <td>31.0</td>\n",
       "      <td>09:57:11:470</td>\n",
       "      <td>public</td>\n",
       "      <td>TransactionOutput.Status</td>\n",
       "      <td>15</td>\n",
       "    </tr>\n",
       "    <tr>\n",
       "      <th>61</th>\n",
       "      <td>b</td>\n",
       "      <td>34.0</td>\n",
       "      <td>09:57:11:470</td>\n",
       "      <td>private</td>\n",
       "      <td>LineOutputNonShredded.UNIG_ShowIssuePolicyPage</td>\n",
       "      <td>5</td>\n",
       "    </tr>\n",
       "  </tbody>\n",
       "</table>\n",
       "</div>"
      ],
      "text/plain": [
       "   begin_end  debugID     startTime  tagName  \\\n",
       "19         b     13.0  09:57:11:470  private   \n",
       "22         b     16.0  09:57:11:470   public   \n",
       "34         b     24.0  09:57:11:470   public   \n",
       "45         b     31.0  09:57:11:470   public   \n",
       "61         b     34.0  09:57:11:470  private   \n",
       "\n",
       "                                             idref level  \n",
       "19    PolicyPrivate.UNIG_UnderwritingStatusCaption     5  \n",
       "22                 PolicyOutput.UnderwritingStatus     8  \n",
       "34   PolicyOutputNonShredded.LastTransactionStatus    12  \n",
       "45                        TransactionOutput.Status    15  \n",
       "61  LineOutputNonShredded.UNIG_ShowIssuePolicyPage     5  "
      ]
     },
     "execution_count": 37,
     "metadata": {},
     "output_type": "execute_result"
    }
   ],
   "source": [
    "# list line index for public/private idref - both begin and end lines\n",
    "indexList = df[df.tagName.isin(['public', 'private'])].index.tolist()\n",
    "\n",
    "df.iloc[indexList[:5]]"
   ]
  },
  {
   "cell_type": "code",
   "execution_count": 38,
   "metadata": {},
   "outputs": [
    {
     "name": "stdout",
     "output_type": "stream",
     "text": [
      "176 183\n"
     ]
    }
   ],
   "source": [
    "# count of the iterator index within specific iterator\n",
    "\n",
    "b1 = max([i for i in indexList if i < 178])\n",
    "b1\n",
    "\n",
    "b2 = min([i for i in reversed(indexList) if i > 178])\n",
    "b2\n",
    "\n",
    "print(b1, b2)"
   ]
  },
  {
   "cell_type": "code",
   "execution_count": 39,
   "metadata": {},
   "outputs": [
    {
     "data": {
      "text/plain": [
       "(54.0501, 55765)"
      ]
     },
     "execution_count": 39,
     "metadata": {},
     "output_type": "execute_result"
    }
   ],
   "source": [
    "idx1 = indexList.copy()\n",
    "len(idx1)/10000, len(iterList)"
   ]
  },
  {
   "cell_type": "markdown",
   "metadata": {},
   "source": [
    "parent = lambda x: [i for i in idx1 if i < x]\n",
    "child = lambda x: [i for i in reversed(idx1) if i > x]\n",
    "#parent(36), iterList[-1], child(iterList[-1])"
   ]
  },
  {
   "cell_type": "code",
   "execution_count": 40,
   "metadata": {},
   "outputs": [
    {
     "data": {
      "text/plain": [
       "([36, 178, 212], [19, 22, 34], 5437412)"
      ]
     },
     "execution_count": 40,
     "metadata": {},
     "output_type": "execute_result"
    }
   ],
   "source": [
    "parent2 = lambda x, y: [i for i in y if i < x]\n",
    "child2 = lambda x, y: [i for i in y if i > x]\n",
    "\n",
    "iterList[:3],parent2(36, idx1), min(child2(iterList[-1], reversed(idx1)))"
   ]
  },
  {
   "cell_type": "code",
   "execution_count": 41,
   "metadata": {},
   "outputs": [
    {
     "data": {
      "text/plain": [
       "(29, [19, 22, 34, 45, 61, 65, 79, 83, 109, 121], [])"
      ]
     },
     "execution_count": 41,
     "metadata": {},
     "output_type": "execute_result"
    }
   ],
   "source": [
    "# if the element is not in the source list\n",
    "#remv = lambda x, y: [i for i in y if not i in x or x.remove(i)]\n",
    "\n",
    "# we know all elements are available in the source list\n",
    "remv = lambda x, y: [i for i in y if x.remove(i)]\n",
    "\n",
    "# we can slice the list using len\n",
    "remv2 = lambda x, y: x[len(y):]\n",
    "\n",
    "idx1 = indexList.copy()\n",
    "len(parent2(iterList[3], idx1)), idx1[:10], remv(idx1, parent2(36, idx1))[:10]\n",
    "#iterList[:3], idx1[:10]"
   ]
  },
  {
   "cell_type": "code",
   "execution_count": 42,
   "metadata": {},
   "outputs": [],
   "source": [
    "#idx1 = indexList.copy()\n",
    "#bb = lambda x: [max([parent(i, idx1) and remv(idx1, parent(i, idx1)) for i in x ])]\n",
    "#bb = lambda x: [max(parent2(i, idx1) + remv(idx1, parent2(i, idx1)))  for i in x ]\n",
    "#bb(iterList[:500])[:5]"
   ]
  },
  {
   "cell_type": "code",
   "execution_count": 43,
   "metadata": {},
   "outputs": [
    {
     "data": {
      "text/plain": [
       "(0, 55765)"
      ]
     },
     "execution_count": 43,
     "metadata": {},
     "output_type": "execute_result"
    }
   ],
   "source": [
    "max([0]), len(iterList)"
   ]
  },
  {
   "cell_type": "code",
   "execution_count": 44,
   "metadata": {},
   "outputs": [],
   "source": [
    "#brute force search\n",
    "def fieldList(iterList, idxList):\n",
    "    fieldList = []\n",
    "    for item in iterList:\n",
    "        p = parent2(item, idxList)\n",
    "        if len(p) > 0:\n",
    "            fieldList.append(max(p))\n",
    "            idxList = idxList[len(p):]\n",
    "        #print(p, fieldList)\n",
    "\n",
    "    return fieldList                   "
   ]
  },
  {
   "cell_type": "code",
   "execution_count": 45,
   "metadata": {},
   "outputs": [],
   "source": [
    "#mini-batch search\n",
    "def fieldList(itrList, idxList, parent=True):\n",
    "    fieldList = []\n",
    "    fieldArray = []\n",
    "    \n",
    "    batchsize = 10000\n",
    "    if not parent:\n",
    "        itrList.reverse()\n",
    "        idxList.reverse()\n",
    "\n",
    "    # measure wall time\n",
    "    t0 = time.time()\n",
    "\n",
    "    #print(len(idxList))\n",
    "    # mini-batch to traverse indexList\n",
    "    while len(idxList) > 0:\n",
    "        # slicing idxList by batchsize\n",
    "        idx1 = idxList[:min(len(idxList), batchsize)]\n",
    "        cntr = 0\n",
    "        for item in itrList:\n",
    "            if parent:\n",
    "                pc = parent2(item, idx1)\n",
    "            else:\n",
    "                pc = child2(item, idx1)\n",
    "            \n",
    "            if len(pc) > 0:\n",
    "                # capture array of parent/children from last iterator\n",
    "                fieldArray.append(pc)\n",
    "                if parent:\n",
    "                    fieldList.append(max(pc))\n",
    "                else:\n",
    "                    fieldList.append(min(pc))\n",
    "                idx1 = idx1[len(pc):]\n",
    "                cntr+=1\n",
    "            else:\n",
    "                #print('no parent for item ', item)\n",
    "                break\n",
    "\n",
    "        #print (time.time() - t0, \"seconds elapsed...\", len(idxList) / batchsize, len(idxList), len(itrList))\n",
    "\n",
    "        # reset idxList by slicing the head, retaining the tail by batchsize\n",
    "        idxList = idxList[min(len(idxList), batchsize):]\n",
    "        # reset  iterList by slicing the head, retaining the tail by cntr\n",
    "        itrList = itrList[cntr:]\n",
    "        if len(itrList) < 1:\n",
    "            break\n",
    "        #if parent:\n",
    "         #   print(item, max(fieldList))\n",
    "        #else:\n",
    "         #   print(item, min(fieldList))\n",
    "            \n",
    "    return fieldList #, fieldArray"
   ]
  },
  {
   "cell_type": "code",
   "execution_count": 46,
   "metadata": {},
   "outputs": [],
   "source": [
    "idx1 = indexList.copy()\n",
    "iter1 = iterList.copy()\n",
    "f = fieldList(iter1, idx1, parent=True)\n"
   ]
  },
  {
   "cell_type": "markdown",
   "metadata": {},
   "source": [
    "len(indexList), len(iterList), len(f), len(i)"
   ]
  },
  {
   "cell_type": "markdown",
   "metadata": {},
   "source": [
    "i[:5], f[:5], iter1[:20]"
   ]
  },
  {
   "cell_type": "markdown",
   "metadata": {},
   "source": [
    "df.iloc[i]['idref']"
   ]
  },
  {
   "cell_type": "code",
   "execution_count": 47,
   "metadata": {},
   "outputs": [],
   "source": [
    "df1=df.iloc[f][['begin_end', 'debugID', 'startTime', 'tagName', 'idref', 'level']]\n",
    "df1.reset_index(drop=True, inplace=True)\n",
    "df2=df.loc[iterList]['idref']\n",
    "df2.columns=['iterator']\n",
    "df2.reset_index(drop=True, inplace=True)\n",
    "df1, df2\n",
    "dfcombined=pd.concat([df1, df2], axis=1, join=\"inner\")\n",
    "del df1, df2\n",
    "#len(df2), df1, df.loc[i]\n",
    "#df1['iterator']=pd.DataFrame(df2)\n",
    "#df1"
   ]
  },
  {
   "cell_type": "code",
   "execution_count": 48,
   "metadata": {},
   "outputs": [
    {
     "data": {
      "text/html": [
       "<div>\n",
       "<style scoped>\n",
       "    .dataframe tbody tr th:only-of-type {\n",
       "        vertical-align: middle;\n",
       "    }\n",
       "\n",
       "    .dataframe tbody tr th {\n",
       "        vertical-align: top;\n",
       "    }\n",
       "\n",
       "    .dataframe thead th {\n",
       "        text-align: right;\n",
       "    }\n",
       "</style>\n",
       "<table border=\"1\" class=\"dataframe\">\n",
       "  <thead>\n",
       "    <tr style=\"text-align: right;\">\n",
       "      <th></th>\n",
       "      <th>begin_end</th>\n",
       "      <th>debugID</th>\n",
       "      <th>startTime</th>\n",
       "      <th>tagName</th>\n",
       "      <th>idref</th>\n",
       "      <th>level</th>\n",
       "      <th>iterator</th>\n",
       "    </tr>\n",
       "  </thead>\n",
       "  <tbody>\n",
       "    <tr>\n",
       "      <th>0</th>\n",
       "      <td>b</td>\n",
       "      <td>24.0</td>\n",
       "      <td>09:57:11:470</td>\n",
       "      <td>public</td>\n",
       "      <td>PolicyOutputNonShredded.LastTransactionStatus</td>\n",
       "      <td>12</td>\n",
       "      <td>Transaction</td>\n",
       "    </tr>\n",
       "    <tr>\n",
       "      <th>1</th>\n",
       "      <td>b</td>\n",
       "      <td>96.0</td>\n",
       "      <td>09:57:11:470</td>\n",
       "      <td>public</td>\n",
       "      <td>PolicyOutputNonShredded.UNIG_LastTransactionTy...</td>\n",
       "      <td>14</td>\n",
       "      <td>Transaction</td>\n",
       "    </tr>\n",
       "    <tr>\n",
       "      <th>2</th>\n",
       "      <td>b</td>\n",
       "      <td>113.0</td>\n",
       "      <td>09:57:11:470</td>\n",
       "      <td>private</td>\n",
       "      <td>PolicyPrivate.UNIG_LastTransactionStatusForDis...</td>\n",
       "      <td>14</td>\n",
       "      <td>Transaction</td>\n",
       "    </tr>\n",
       "    <tr>\n",
       "      <th>3</th>\n",
       "      <td>b</td>\n",
       "      <td>158.0</td>\n",
       "      <td>09:57:11:470</td>\n",
       "      <td>private</td>\n",
       "      <td>PolicyPrivate.UNIG_LastTransactionStatusForDis...</td>\n",
       "      <td>22</td>\n",
       "      <td>Transaction</td>\n",
       "    </tr>\n",
       "    <tr>\n",
       "      <th>4</th>\n",
       "      <td>b</td>\n",
       "      <td>271.0</td>\n",
       "      <td>09:57:11:470</td>\n",
       "      <td>private</td>\n",
       "      <td>ModifyProcessingData.TransactionCount</td>\n",
       "      <td>12</td>\n",
       "      <td>Transaction_Current</td>\n",
       "    </tr>\n",
       "    <tr>\n",
       "      <th>...</th>\n",
       "      <td>...</td>\n",
       "      <td>...</td>\n",
       "      <td>...</td>\n",
       "      <td>...</td>\n",
       "      <td>...</td>\n",
       "      <td>...</td>\n",
       "      <td>...</td>\n",
       "    </tr>\n",
       "    <tr>\n",
       "      <th>55760</th>\n",
       "      <td>b</td>\n",
       "      <td>2718288.0</td>\n",
       "      <td>09:59:12:741</td>\n",
       "      <td>public</td>\n",
       "      <td>PolicyOutputNonShredded.LastTransactionStatus</td>\n",
       "      <td>28</td>\n",
       "      <td>Transaction</td>\n",
       "    </tr>\n",
       "    <tr>\n",
       "      <th>55761</th>\n",
       "      <td>b</td>\n",
       "      <td>2718299.0</td>\n",
       "      <td>09:59:12:741</td>\n",
       "      <td>public</td>\n",
       "      <td>PolicyOutputNonShredded.LastTransactionStatus</td>\n",
       "      <td>28</td>\n",
       "      <td>Transaction</td>\n",
       "    </tr>\n",
       "    <tr>\n",
       "      <th>55762</th>\n",
       "      <td>b</td>\n",
       "      <td>2718310.0</td>\n",
       "      <td>09:59:12:741</td>\n",
       "      <td>public</td>\n",
       "      <td>PolicyOutputNonShredded.LastTransactionStatus</td>\n",
       "      <td>28</td>\n",
       "      <td>Transaction</td>\n",
       "    </tr>\n",
       "    <tr>\n",
       "      <th>55763</th>\n",
       "      <td>b</td>\n",
       "      <td>2718327.0</td>\n",
       "      <td>09:59:12:741</td>\n",
       "      <td>private</td>\n",
       "      <td>PolicyOutputNonShredded.LastTransactionHistoryID</td>\n",
       "      <td>28</td>\n",
       "      <td>Transaction</td>\n",
       "    </tr>\n",
       "    <tr>\n",
       "      <th>55764</th>\n",
       "      <td>b</td>\n",
       "      <td>2718705.0</td>\n",
       "      <td>09:59:12:757</td>\n",
       "      <td>public</td>\n",
       "      <td>PolicyOutputNonShredded.LastTransactionStatus</td>\n",
       "      <td>13</td>\n",
       "      <td>Transaction</td>\n",
       "    </tr>\n",
       "  </tbody>\n",
       "</table>\n",
       "<p>55765 rows × 7 columns</p>\n",
       "</div>"
      ],
      "text/plain": [
       "      begin_end    debugID     startTime  tagName  \\\n",
       "0             b       24.0  09:57:11:470   public   \n",
       "1             b       96.0  09:57:11:470   public   \n",
       "2             b      113.0  09:57:11:470  private   \n",
       "3             b      158.0  09:57:11:470  private   \n",
       "4             b      271.0  09:57:11:470  private   \n",
       "...         ...        ...           ...      ...   \n",
       "55760         b  2718288.0  09:59:12:741   public   \n",
       "55761         b  2718299.0  09:59:12:741   public   \n",
       "55762         b  2718310.0  09:59:12:741   public   \n",
       "55763         b  2718327.0  09:59:12:741  private   \n",
       "55764         b  2718705.0  09:59:12:757   public   \n",
       "\n",
       "                                                   idref level  \\\n",
       "0          PolicyOutputNonShredded.LastTransactionStatus    12   \n",
       "1      PolicyOutputNonShredded.UNIG_LastTransactionTy...    14   \n",
       "2      PolicyPrivate.UNIG_LastTransactionStatusForDis...    14   \n",
       "3      PolicyPrivate.UNIG_LastTransactionStatusForDis...    22   \n",
       "4                  ModifyProcessingData.TransactionCount    12   \n",
       "...                                                  ...   ...   \n",
       "55760      PolicyOutputNonShredded.LastTransactionStatus    28   \n",
       "55761      PolicyOutputNonShredded.LastTransactionStatus    28   \n",
       "55762      PolicyOutputNonShredded.LastTransactionStatus    28   \n",
       "55763   PolicyOutputNonShredded.LastTransactionHistoryID    28   \n",
       "55764      PolicyOutputNonShredded.LastTransactionStatus    13   \n",
       "\n",
       "                  iterator  \n",
       "0              Transaction  \n",
       "1              Transaction  \n",
       "2              Transaction  \n",
       "3              Transaction  \n",
       "4      Transaction_Current  \n",
       "...                    ...  \n",
       "55760          Transaction  \n",
       "55761          Transaction  \n",
       "55762          Transaction  \n",
       "55763          Transaction  \n",
       "55764          Transaction  \n",
       "\n",
       "[55765 rows x 7 columns]"
      ]
     },
     "execution_count": 48,
     "metadata": {},
     "output_type": "execute_result"
    }
   ],
   "source": [
    "dfcombined.columns=['begin_end', 'debugID', 'startTime', 'tagName', 'idref', 'level', 'iterator']\n",
    "\n",
    "dfcombined\n"
   ]
  },
  {
   "cell_type": "code",
   "execution_count": 49,
   "metadata": {},
   "outputs": [],
   "source": [
    "# export to Excel ####\n",
    "with pd.ExcelWriter(output_excel, engine=\"openpyxl\", mode='a') as writer:  \n",
    "    dfcombined.to_excel(writer, sheet_name='field-iteration', header=['begin_end', 'debugID','startTime','tagName','idref','level','iterator group'])\n"
   ]
  },
  {
   "cell_type": "code",
   "execution_count": 50,
   "metadata": {},
   "outputs": [
    {
     "name": "stdout",
     "output_type": "stream",
     "text": [
      "(63.501057386398315, 'seconds wall time after iterator field')\n"
     ]
    }
   ],
   "source": [
    "t6 = (time.time() - t0, \"seconds wall time after iterator field\")\n",
    "print(t6)"
   ]
  },
  {
   "cell_type": "markdown",
   "metadata": {},
   "source": [
    "idx1 = indexList.copy()\n",
    "iter1 = iterList.copy()\n",
    "\n",
    "b = fieldList(iter1, idx1, parent=False)\n",
    "b.reverse()\n",
    "#iterList.reverse()\n",
    "\n"
   ]
  },
  {
   "cell_type": "markdown",
   "metadata": {},
   "source": [
    "#df.iloc[indexList[:10]][['debugID', 'tagName']], df.iloc[iterList[:10]][['debugID', 'tagName']]\n",
    "#df.iloc[b[55:59]]"
   ]
  },
  {
   "cell_type": "markdown",
   "metadata": {},
   "source": [
    "#df.iloc[f[:5]][['debugID', 'tagName']], df.iloc[b[:5]][['debugID', 'tagName']]\n",
    "#df.iloc[b[55:59]]"
   ]
  },
  {
   "cell_type": "markdown",
   "metadata": {},
   "source": [
    "print(iterList[:2], iterList[-1], indexList[:2], indexList[-1])\n"
   ]
  },
  {
   "cell_type": "code",
   "execution_count": 51,
   "metadata": {},
   "outputs": [
    {
     "data": {
      "text/plain": [
       "idref                                                        iterator \n",
       "SelectedOccupancyPrivate.SetSelectedFullDescription          Occupancy    13299\n",
       "SelectedOccupancyPrivate.SetSelectedCSP                      Occupancy     4516\n",
       "SelectedOccupancyPrivate.SetSelectedClassLimit               Occupancy     4514\n",
       "SelectedOccupancyPrivate.SetSelectedOccupancyType            Occupancy     4511\n",
       "SelectedOccupancyPrivate.SetSelectedPropertyDescription      Occupancy     4436\n",
       "SelectedOccupancyPrivate.SetSelectedProtectionSafeguard      Occupancy     4435\n",
       "SelectedOccupancyPrivate.SetSelectedHazardGrade              Occupancy     4435\n",
       "SelectedOccupancyPrivate.SetSelectedFullDescriptionRiskType  Occupancy     2608\n",
       "BuildingPrivate.IterateRiskAndCheckBuildingRiskCount         Risk           841\n",
       "BuildingOutputNonShredded.UAEditTIVLimit                     Risk           841\n",
       "Name: tagName, dtype: int64"
      ]
     },
     "execution_count": 51,
     "metadata": {},
     "output_type": "execute_result"
    }
   ],
   "source": [
    "df1=dfcombined.groupby(['idref', 'iterator']).count().sort_values(by='tagName', ascending=False)['tagName']\n",
    "df1[:10]\n"
   ]
  },
  {
   "cell_type": "code",
   "execution_count": 52,
   "metadata": {},
   "outputs": [],
   "source": [
    "# export to Excel ####\n",
    "with pd.ExcelWriter(output_excel, engine=\"openpyxl\", mode='a') as writer:  \n",
    "    df1.to_excel(writer, sheet_name='iterator-Field', header=['count'])\n"
   ]
  },
  {
   "cell_type": "code",
   "execution_count": 53,
   "metadata": {},
   "outputs": [
    {
     "name": "stdout",
     "output_type": "stream",
     "text": [
      "(88.1357524394989, 'seconds wall time after iterator field count')\n"
     ]
    }
   ],
   "source": [
    "t7 = (time.time() - t0, \"seconds wall time after iterator field count\")\n",
    "print(t7)"
   ]
  },
  {
   "cell_type": "code",
   "execution_count": 54,
   "metadata": {},
   "outputs": [
    {
     "name": "stdout",
     "output_type": "stream",
     "text": [
      "(6.953732490539551, 'seconds wall time after read_csv')\n",
      "(13.222415924072266, 'seconds wall time after sanitization')\n",
      "(14.842190980911255, 'seconds wall time after field frequency')\n",
      "(16.209899187088013, 'seconds wall time after iterator')\n",
      "(20.49694538116455, 'seconds wall time after timing')\n",
      "(63.501057386398315, 'seconds wall time after iterator field')\n",
      "(88.1357524394989, 'seconds wall time after iterator field count')\n"
     ]
    }
   ],
   "source": [
    "print(t1)\n",
    "print(t2)\n",
    "print(t3)\n",
    "print(t4)\n",
    "print(t5)\n",
    "print(t6)\n",
    "print(t7)\n"
   ]
  },
  {
   "cell_type": "code",
   "execution_count": 55,
   "metadata": {},
   "outputs": [],
   "source": [
    "##### capture iterator debugID for all nested public/private fields \n",
    "##### helps identify impact of fields by their respective debugID based on iteration counts\n",
    "\n"
   ]
  },
  {
   "cell_type": "code",
   "execution_count": 56,
   "metadata": {},
   "outputs": [],
   "source": [
    "##### capture level for a nested operation to establish pattern\n",
    "####- helps identify repeating patterns across policy\n"
   ]
  },
  {
   "cell_type": "code",
   "execution_count": null,
   "metadata": {},
   "outputs": [],
   "source": []
  },
  {
   "cell_type": "code",
   "execution_count": null,
   "metadata": {},
   "outputs": [],
   "source": []
  },
  {
   "cell_type": "code",
   "execution_count": null,
   "metadata": {},
   "outputs": [],
   "source": []
  }
 ],
 "metadata": {
  "kernelspec": {
   "display_name": "Python 3",
   "language": "python",
   "name": "python3"
  },
  "language_info": {
   "codemirror_mode": {
    "name": "ipython",
    "version": 3
   },
   "file_extension": ".py",
   "mimetype": "text/x-python",
   "name": "python",
   "nbconvert_exporter": "python",
   "pygments_lexer": "ipython3",
   "version": "3.8.8"
  }
 },
 "nbformat": 4,
 "nbformat_minor": 4
}

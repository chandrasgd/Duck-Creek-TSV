{
 "cells": [
  {
   "cell_type": "code",
   "execution_count": 1,
   "metadata": {},
   "outputs": [],
   "source": [
    "import os\n",
    "import pandas as pd\n",
    "import numpy as np"
   ]
  },
  {
   "cell_type": "code",
   "execution_count": 2,
   "metadata": {},
   "outputs": [],
   "source": [
    "#C:\\Anaconda3\\lib\\site-packages\\IPython\\core\\interactiveshell.py:3165: \n",
    "### DtypeWarning: Columns (1) have mixed types.Specify dtype option on import or set low_memory=False.\n",
    "### has_raised = await self.run_ast_nodes(code_ast.body, cell_name,"
   ]
  },
  {
   "cell_type": "code",
   "execution_count": 3,
   "metadata": {},
   "outputs": [],
   "source": [
    "os.getcwd()\n",
    "filepath='C:\\\\CPP_Performance\\\\TSV Files\\\\UAEdits\\\\6D105A9CB9AB46169A5AB5B7A4FA1C1B7A35CF4E48E90C41 - 2021-06-16 09-57-11-470.tsv'\n",
    "output_excel='C:\\\\CPP_Performance\\\\TSV Files\\\\UAEdits\\\\6D105A9CB9AB46169A5AB5B7A4FA1C1B7A35CF4E48E90C41 - 2021-06-16 09-57-11-470.xlsx'\n",
    "\n",
    "filepath='C:\\\\CPP_Performance\\\\TSV Files\\\\Parkland School Policy\\\\15DB645E06504909AE4AA869AC8A2C9D7A35CF4E48E90C41 - 2021-10-20 13-55-28-084.tsv'\n",
    "output_excel='C:\\\\CPP_Performance\\\\TSV Files\\\\Parkland School Policy\\\\15DB645E06504909AE4AA869AC8A2C9D7A35CF4E48E90C41 - 2021-10-20 13-55-28-084.xlsx'\n",
    "\n",
    "filepath='C:\\\\CPP_Performance\\\\TSV Files\\\\Staging\\\\7DA7B8CBD58E425EBFDB0BA087C682F179272D7148E90C41 - 2021-10-27 14-55-07-449.tsv'\n",
    "output_excel='C:\\\\CPP_Performance\\\\TSV Files\\\\Staging\\\\7DA7B8CBD58E425EBFDB0BA087C682F179272D7148E90C41 - 2021-10-27 14-55-07-449.xlsx'\n",
    "\n",
    "df = pd.read_csv(filepath, sep='~', engine='c', header=1\n",
    "                ,usecols=['begin_end', 'debugID', 'startTime', 'tagName', 'idref']\n",
    "                ,names=['begin_end', 'debugID', 'startTime', 'tagName', 'idref']\n",
    "                ,dtype= {'begin_end': 'category', 'debugID': str, 'startTime': str, 'tagName':'category', 'idref':str}\n",
    "                )\n",
    "                         #, np.float64, ‘b’: np.int32, ‘c’: ‘Int64’}"
   ]
  },
  {
   "cell_type": "code",
   "execution_count": 4,
   "metadata": {},
   "outputs": [
    {
     "data": {
      "text/plain": [
       "<bound method NDFrame.describe of          begin_end   debugID     startTime     tagName idref\n",
       "0                b         1  14:55:07:449        page   NaN\n",
       "1                b         2  14:55:07:449   worksheet   NaN\n",
       "2                b         3  14:55:07:449   maxOccurs   NaN\n",
       "3                e         3  14:55:07:449           1   NaN\n",
       "4                b         4  14:55:07:449   minOccurs   NaN\n",
       "...            ...       ...           ...         ...   ...\n",
       "22276337         e  11138157  14:57:36:194      (true)   NaN\n",
       "22276338         e  11138032  14:57:36:194     (false)   NaN\n",
       "22276339         e  11138031  14:57:36:194           0   NaN\n",
       "22276340         e  11126794  14:57:36:194     actions   NaN\n",
       "22276341         e         1  14:57:36:194  NewPricing   NaN\n",
       "\n",
       "[22276342 rows x 5 columns]>"
      ]
     },
     "execution_count": 4,
     "metadata": {},
     "output_type": "execute_result"
    }
   ],
   "source": [
    "df.describe"
   ]
  },
  {
   "cell_type": "code",
   "execution_count": 5,
   "metadata": {},
   "outputs": [],
   "source": [
    "#df.columns = ['begin_end', 'debugID', 'startTime', 'tagName', 'idref']\n",
    "#df.head(10)"
   ]
  },
  {
   "cell_type": "code",
   "execution_count": 6,
   "metadata": {},
   "outputs": [
    {
     "data": {
      "text/html": [
       "<div>\n",
       "<style scoped>\n",
       "    .dataframe tbody tr th:only-of-type {\n",
       "        vertical-align: middle;\n",
       "    }\n",
       "\n",
       "    .dataframe tbody tr th {\n",
       "        vertical-align: top;\n",
       "    }\n",
       "\n",
       "    .dataframe thead th {\n",
       "        text-align: right;\n",
       "    }\n",
       "</style>\n",
       "<table border=\"1\" class=\"dataframe\">\n",
       "  <thead>\n",
       "    <tr style=\"text-align: right;\">\n",
       "      <th></th>\n",
       "      <th>begin_end</th>\n",
       "      <th>debugID</th>\n",
       "      <th>startTime</th>\n",
       "      <th>tagName</th>\n",
       "      <th>idref</th>\n",
       "    </tr>\n",
       "  </thead>\n",
       "  <tbody>\n",
       "    <tr>\n",
       "      <th>0</th>\n",
       "      <td>b</td>\n",
       "      <td>1</td>\n",
       "      <td>14:55:07:449</td>\n",
       "      <td>page</td>\n",
       "      <td>NaN</td>\n",
       "    </tr>\n",
       "    <tr>\n",
       "      <th>1</th>\n",
       "      <td>b</td>\n",
       "      <td>2</td>\n",
       "      <td>14:55:07:449</td>\n",
       "      <td>worksheet</td>\n",
       "      <td>NaN</td>\n",
       "    </tr>\n",
       "    <tr>\n",
       "      <th>2</th>\n",
       "      <td>b</td>\n",
       "      <td>3</td>\n",
       "      <td>14:55:07:449</td>\n",
       "      <td>maxOccurs</td>\n",
       "      <td>NaN</td>\n",
       "    </tr>\n",
       "    <tr>\n",
       "      <th>3</th>\n",
       "      <td>e</td>\n",
       "      <td>3</td>\n",
       "      <td>14:55:07:449</td>\n",
       "      <td>1</td>\n",
       "      <td>NaN</td>\n",
       "    </tr>\n",
       "    <tr>\n",
       "      <th>4</th>\n",
       "      <td>b</td>\n",
       "      <td>4</td>\n",
       "      <td>14:55:07:449</td>\n",
       "      <td>minOccurs</td>\n",
       "      <td>NaN</td>\n",
       "    </tr>\n",
       "  </tbody>\n",
       "</table>\n",
       "</div>"
      ],
      "text/plain": [
       "  begin_end  debugID     startTime    tagName idref\n",
       "0         b        1  14:55:07:449       page   NaN\n",
       "1         b        2  14:55:07:449  worksheet   NaN\n",
       "2         b        3  14:55:07:449  maxOccurs   NaN\n",
       "3         e        3  14:55:07:449          1   NaN\n",
       "4         b        4  14:55:07:449  minOccurs   NaN"
      ]
     },
     "execution_count": 6,
     "metadata": {},
     "output_type": "execute_result"
    }
   ],
   "source": [
    "# sanitize data\n",
    "df.drop(df[df['debugID'] == ' unique debugID '].index, inplace = True)\n",
    "# convert str to int\n",
    "df['debugID'] = pd.to_numeric(df['debugID'])\n",
    "\n",
    "df.head()"
   ]
  },
  {
   "cell_type": "code",
   "execution_count": null,
   "metadata": {},
   "outputs": [],
   "source": [
    "\n"
   ]
  },
  {
   "cell_type": "code",
   "execution_count": 7,
   "metadata": {},
   "outputs": [
    {
     "name": "stderr",
     "output_type": "stream",
     "text": [
      "<ipython-input-7-811f4d698f35>:1: FutureWarning: Indexing with multiple keys (implicitly converted to a tuple of keys) will be deprecated, use a list instead.\n",
      "  df1=df.groupby(['idref'])['idref', 'debugID'].count().sort_values(by='debugID', ascending=False)['idref']\n"
     ]
    },
    {
     "data": {
      "text/plain": [
       "idref\n",
       "LocationManuscript.StateKey                                422926\n",
       "False                                                      312258\n",
       "True                                                       282791\n",
       "CoverageOutput.Type                                         94748\n",
       "LocationOutput.StatCodeTerritory                            90847\n",
       "PolicyInput.UNIG_EffectiveDate                              85972\n",
       "RiskInput.Type                                              81309\n",
       "LocationInput.State                                         69724\n",
       "LocationInput.ZipCode                                       68528\n",
       "LocationPrivate.UNIG_ZipCode5Positions                      68161\n",
       "LocationInput.UNIG_ZipCodeInvalid                           68160\n",
       "LocationInput.ZIPCodeValidation                             68160\n",
       "LocationOutput.StatCodeState                                67224\n",
       "PropertyPolicyInput.PolicyCoverage                          67204\n",
       "LocationManuscript.ManuScriptIDByCarrier                    60698\n",
       "LocationPropertyInput.BG2Territory                          60682\n",
       "LocationPropertyPrivate.BG2TerritoryZipLookup               60682\n",
       "LocationPropertyPrivate.BG2TerritoryZipLookupApplicable     60682\n",
       "LocationPropertyInput.Territory                             60478\n",
       "LocationPrivate.StateIsNC                                   60418\n",
       "Name: idref, dtype: int64"
      ]
     },
     "execution_count": 7,
     "metadata": {},
     "output_type": "execute_result"
    }
   ],
   "source": [
    "df1=df.groupby(['idref'])['idref', 'debugID'].count().sort_values(by='debugID', ascending=False)['idref']\n",
    "df1.head(20)\n"
   ]
  },
  {
   "cell_type": "code",
   "execution_count": 8,
   "metadata": {},
   "outputs": [],
   "source": [
    "# export to Excel ####\n",
    "with pd.ExcelWriter(output_excel) as writer:  \n",
    "    df1.to_excel(writer, sheet_name='frequency')\n"
   ]
  },
  {
   "cell_type": "code",
   "execution_count": 9,
   "metadata": {},
   "outputs": [],
   "source": [
    "del df1"
   ]
  },
  {
   "cell_type": "code",
   "execution_count": null,
   "metadata": {},
   "outputs": [],
   "source": []
  },
  {
   "cell_type": "code",
   "execution_count": 10,
   "metadata": {},
   "outputs": [],
   "source": [
    "#df[df.idref.isin(['LocationPrivate.CheckBuildingLimit', 'BuildingDetailPage.SetLastSelectedOccupancyID', 'OccupancyOutputNonShredded.ApplicableToProperty'])].groupby('idref').count()\n",
    "\n"
   ]
  },
  {
   "cell_type": "code",
   "execution_count": 11,
   "metadata": {},
   "outputs": [
    {
     "name": "stderr",
     "output_type": "stream",
     "text": [
      "<ipython-input-11-f01808b9c5ab>:1: FutureWarning: Indexing with multiple keys (implicitly converted to a tuple of keys) will be deprecated, use a list instead.\n",
      "  df1 = df[df.tagName.isin(['iterator'])].groupby(['idref'])['idref','debugID'].count().sort_values(by='debugID', ascending=False)['idref']\n"
     ]
    }
   ],
   "source": [
    "df1 = df[df.tagName.isin(['iterator'])].groupby(['idref'])['idref','debugID'].count().sort_values(by='debugID', ascending=False)['idref']\n",
    "df1.columns=['iterator', 'count']\n",
    "# export to Excel ####\n",
    "with pd.ExcelWriter(output_excel, engine=\"openpyxl\", mode='a') as writer:  \n",
    "    df1.to_excel(writer, sheet_name='iterator')\n",
    "\n",
    "# Find the immediate parent of the iterator\n",
    "# count of the iterator index within specific iterator\n",
    "# elapsed time"
   ]
  },
  {
   "cell_type": "code",
   "execution_count": 12,
   "metadata": {},
   "outputs": [],
   "source": [
    "# count levels\n",
    "#df.groupby(['level']).count().sort_values(by='level', ascending=False)"
   ]
  },
  {
   "cell_type": "code",
   "execution_count": 13,
   "metadata": {},
   "outputs": [],
   "source": [
    "debugList = df[df.tagName.isin(['public', 'private'])].debugID.tolist()\n",
    "fDebugVal = list(map(int, debugList))\n"
   ]
  },
  {
   "cell_type": "code",
   "execution_count": 14,
   "metadata": {},
   "outputs": [
    {
     "name": "stdout",
     "output_type": "stream",
     "text": [
      "public/private count: 2218774\n",
      "[12, 16, 21, 30, 37, 42, 52, 55, 57, 61, 65, 70, 76, 81, 88, 93, 95, 114, 115]\n"
     ]
    }
   ],
   "source": [
    "print('public/private count:', len(fDebugVal))\n",
    "type(fDebugVal)\n",
    "print(fDebugVal[1:20])\n",
    "#df[df.debugID=='11']\n",
    "dfb = df[df.debugID.isin(fDebugVal)].sort_values(by='debugID')\n"
   ]
  },
  {
   "cell_type": "code",
   "execution_count": 15,
   "metadata": {},
   "outputs": [],
   "source": [
    "dfbstart = dfb[dfb.begin_end=='b'][['debugID', 'startTime', 'idref']]\n",
    "dfbend = dfb[dfb.begin_end=='e'][['debugID', 'startTime']]\n",
    "dfbend.columns=['debugID', 'endTime']\n"
   ]
  },
  {
   "cell_type": "code",
   "execution_count": 16,
   "metadata": {},
   "outputs": [
    {
     "data": {
      "text/html": [
       "<div>\n",
       "<style scoped>\n",
       "    .dataframe tbody tr th:only-of-type {\n",
       "        vertical-align: middle;\n",
       "    }\n",
       "\n",
       "    .dataframe tbody tr th {\n",
       "        vertical-align: top;\n",
       "    }\n",
       "\n",
       "    .dataframe thead th {\n",
       "        text-align: right;\n",
       "    }\n",
       "</style>\n",
       "<table border=\"1\" class=\"dataframe\">\n",
       "  <thead>\n",
       "    <tr style=\"text-align: right;\">\n",
       "      <th></th>\n",
       "      <th>debugID</th>\n",
       "      <th>startTime</th>\n",
       "      <th>idref</th>\n",
       "    </tr>\n",
       "  </thead>\n",
       "  <tbody>\n",
       "    <tr>\n",
       "      <th>10</th>\n",
       "      <td>7</td>\n",
       "      <td>14:55:07:449</td>\n",
       "      <td>True</td>\n",
       "    </tr>\n",
       "    <tr>\n",
       "      <th>20</th>\n",
       "      <td>12</td>\n",
       "      <td>14:55:07:481</td>\n",
       "      <td>data.ExecuteTotalResult</td>\n",
       "    </tr>\n",
       "    <tr>\n",
       "      <th>26</th>\n",
       "      <td>16</td>\n",
       "      <td>14:55:07:481</td>\n",
       "      <td>PolicyAdminOutputNonShredded.PolicyManuScriptID</td>\n",
       "    </tr>\n",
       "    <tr>\n",
       "      <th>36</th>\n",
       "      <td>21</td>\n",
       "      <td>14:55:07:481</td>\n",
       "      <td>LinePrivate.ResetCommissionContributionOnRewrite</td>\n",
       "    </tr>\n",
       "    <tr>\n",
       "      <th>45</th>\n",
       "      <td>30</td>\n",
       "      <td>14:55:07:481</td>\n",
       "      <td>PolicyInput.EffectiveDate</td>\n",
       "    </tr>\n",
       "    <tr>\n",
       "      <th>...</th>\n",
       "      <td>...</td>\n",
       "      <td>...</td>\n",
       "      <td>...</td>\n",
       "    </tr>\n",
       "    <tr>\n",
       "      <th>22276287</th>\n",
       "      <td>11138150</td>\n",
       "      <td>14:57:36:194</td>\n",
       "      <td>PolicyPrivate.UNIG_ChangeAnnivDateTransactionN...</td>\n",
       "    </tr>\n",
       "    <tr>\n",
       "      <th>22276293</th>\n",
       "      <td>11138156</td>\n",
       "      <td>14:57:36:194</td>\n",
       "      <td>PolicyPrivate.IsCurrentTransactionEndorse</td>\n",
       "    </tr>\n",
       "    <tr>\n",
       "      <th>22276316</th>\n",
       "      <td>11138165</td>\n",
       "      <td>14:57:36:194</td>\n",
       "      <td>LinePrivate.UNIG_ThereAreOptionalProposals</td>\n",
       "    </tr>\n",
       "    <tr>\n",
       "      <th>22276320</th>\n",
       "      <td>11138167</td>\n",
       "      <td>14:57:36:194</td>\n",
       "      <td>True</td>\n",
       "    </tr>\n",
       "    <tr>\n",
       "      <th>22276326</th>\n",
       "      <td>11138170</td>\n",
       "      <td>14:57:36:194</td>\n",
       "      <td>PolicyPrivate.CheckCurrentPage</td>\n",
       "    </tr>\n",
       "  </tbody>\n",
       "</table>\n",
       "<p>2218774 rows × 3 columns</p>\n",
       "</div>"
      ],
      "text/plain": [
       "           debugID     startTime  \\\n",
       "10               7  14:55:07:449   \n",
       "20              12  14:55:07:481   \n",
       "26              16  14:55:07:481   \n",
       "36              21  14:55:07:481   \n",
       "45              30  14:55:07:481   \n",
       "...            ...           ...   \n",
       "22276287  11138150  14:57:36:194   \n",
       "22276293  11138156  14:57:36:194   \n",
       "22276316  11138165  14:57:36:194   \n",
       "22276320  11138167  14:57:36:194   \n",
       "22276326  11138170  14:57:36:194   \n",
       "\n",
       "                                                      idref  \n",
       "10                                                     True  \n",
       "20                                  data.ExecuteTotalResult  \n",
       "26          PolicyAdminOutputNonShredded.PolicyManuScriptID  \n",
       "36         LinePrivate.ResetCommissionContributionOnRewrite  \n",
       "45                                PolicyInput.EffectiveDate  \n",
       "...                                                     ...  \n",
       "22276287  PolicyPrivate.UNIG_ChangeAnnivDateTransactionN...  \n",
       "22276293          PolicyPrivate.IsCurrentTransactionEndorse  \n",
       "22276316         LinePrivate.UNIG_ThereAreOptionalProposals  \n",
       "22276320                                               True  \n",
       "22276326                     PolicyPrivate.CheckCurrentPage  \n",
       "\n",
       "[2218774 rows x 3 columns]"
      ]
     },
     "execution_count": 16,
     "metadata": {},
     "output_type": "execute_result"
    }
   ],
   "source": [
    "dfbstart"
   ]
  },
  {
   "cell_type": "code",
   "execution_count": 17,
   "metadata": {},
   "outputs": [
    {
     "data": {
      "text/html": [
       "<div>\n",
       "<style scoped>\n",
       "    .dataframe tbody tr th:only-of-type {\n",
       "        vertical-align: middle;\n",
       "    }\n",
       "\n",
       "    .dataframe tbody tr th {\n",
       "        vertical-align: top;\n",
       "    }\n",
       "\n",
       "    .dataframe thead th {\n",
       "        text-align: right;\n",
       "    }\n",
       "</style>\n",
       "<table border=\"1\" class=\"dataframe\">\n",
       "  <thead>\n",
       "    <tr style=\"text-align: right;\">\n",
       "      <th></th>\n",
       "      <th>debugID</th>\n",
       "      <th>endTime</th>\n",
       "    </tr>\n",
       "  </thead>\n",
       "  <tbody>\n",
       "    <tr>\n",
       "      <th>13</th>\n",
       "      <td>7</td>\n",
       "      <td>14:55:07:449</td>\n",
       "    </tr>\n",
       "    <tr>\n",
       "      <th>21881223</th>\n",
       "      <td>12</td>\n",
       "      <td>14:57:20:711</td>\n",
       "    </tr>\n",
       "    <tr>\n",
       "      <th>27</th>\n",
       "      <td>16</td>\n",
       "      <td>14:55:07:481</td>\n",
       "    </tr>\n",
       "    <tr>\n",
       "      <th>685</th>\n",
       "      <td>21</td>\n",
       "      <td>14:55:07:481</td>\n",
       "    </tr>\n",
       "    <tr>\n",
       "      <th>144</th>\n",
       "      <td>30</td>\n",
       "      <td>14:55:07:481</td>\n",
       "    </tr>\n",
       "    <tr>\n",
       "      <th>...</th>\n",
       "      <td>...</td>\n",
       "      <td>...</td>\n",
       "    </tr>\n",
       "    <tr>\n",
       "      <th>22276300</th>\n",
       "      <td>11138150</td>\n",
       "      <td>14:57:36:194</td>\n",
       "    </tr>\n",
       "    <tr>\n",
       "      <th>22276294</th>\n",
       "      <td>11138156</td>\n",
       "      <td>14:57:36:194</td>\n",
       "    </tr>\n",
       "    <tr>\n",
       "      <th>22276317</th>\n",
       "      <td>11138165</td>\n",
       "      <td>14:57:36:194</td>\n",
       "    </tr>\n",
       "    <tr>\n",
       "      <th>22276321</th>\n",
       "      <td>11138167</td>\n",
       "      <td>14:57:36:194</td>\n",
       "    </tr>\n",
       "    <tr>\n",
       "      <th>22276327</th>\n",
       "      <td>11138170</td>\n",
       "      <td>14:57:36:194</td>\n",
       "    </tr>\n",
       "  </tbody>\n",
       "</table>\n",
       "<p>2218774 rows × 2 columns</p>\n",
       "</div>"
      ],
      "text/plain": [
       "           debugID       endTime\n",
       "13               7  14:55:07:449\n",
       "21881223        12  14:57:20:711\n",
       "27              16  14:55:07:481\n",
       "685             21  14:55:07:481\n",
       "144             30  14:55:07:481\n",
       "...            ...           ...\n",
       "22276300  11138150  14:57:36:194\n",
       "22276294  11138156  14:57:36:194\n",
       "22276317  11138165  14:57:36:194\n",
       "22276321  11138167  14:57:36:194\n",
       "22276327  11138170  14:57:36:194\n",
       "\n",
       "[2218774 rows x 2 columns]"
      ]
     },
     "execution_count": 17,
     "metadata": {},
     "output_type": "execute_result"
    }
   ],
   "source": [
    "dfbend"
   ]
  },
  {
   "cell_type": "code",
   "execution_count": 18,
   "metadata": {},
   "outputs": [
    {
     "data": {
      "text/html": [
       "<div>\n",
       "<style scoped>\n",
       "    .dataframe tbody tr th:only-of-type {\n",
       "        vertical-align: middle;\n",
       "    }\n",
       "\n",
       "    .dataframe tbody tr th {\n",
       "        vertical-align: top;\n",
       "    }\n",
       "\n",
       "    .dataframe thead th {\n",
       "        text-align: right;\n",
       "    }\n",
       "</style>\n",
       "<table border=\"1\" class=\"dataframe\">\n",
       "  <thead>\n",
       "    <tr style=\"text-align: right;\">\n",
       "      <th></th>\n",
       "      <th>debugID</th>\n",
       "      <th>endTime</th>\n",
       "      <th>startTime</th>\n",
       "      <th>idref</th>\n",
       "    </tr>\n",
       "  </thead>\n",
       "  <tbody>\n",
       "    <tr>\n",
       "      <th>1639431</th>\n",
       "      <td>8236917</td>\n",
       "      <td>14:56:35:670</td>\n",
       "      <td>14:56:34:874</td>\n",
       "      <td>LocationPrivate.CheckBuildingLimit</td>\n",
       "    </tr>\n",
       "    <tr>\n",
       "      <th>1654330</th>\n",
       "      <td>8306966</td>\n",
       "      <td>14:56:44:204</td>\n",
       "      <td>14:56:43:469</td>\n",
       "      <td>LocationPrivate.CheckBuildingLimit</td>\n",
       "    </tr>\n",
       "    <tr>\n",
       "      <th>1845022</th>\n",
       "      <td>9260856</td>\n",
       "      <td>14:56:52:594</td>\n",
       "      <td>14:56:51:922</td>\n",
       "      <td>LocationPrivate.CheckBuildingLimit</td>\n",
       "    </tr>\n",
       "    <tr>\n",
       "      <th>1859921</th>\n",
       "      <td>9330905</td>\n",
       "      <td>14:56:58:101</td>\n",
       "      <td>14:56:57:399</td>\n",
       "      <td>LocationPrivate.CheckBuildingLimit</td>\n",
       "    </tr>\n",
       "    <tr>\n",
       "      <th>2183541</th>\n",
       "      <td>10944201</td>\n",
       "      <td>14:57:21:539</td>\n",
       "      <td>14:57:20:805</td>\n",
       "      <td>LocationPrivate.CheckBuildingLimit</td>\n",
       "    </tr>\n",
       "    <tr>\n",
       "      <th>2198439</th>\n",
       "      <td>11014095</td>\n",
       "      <td>14:57:30:132</td>\n",
       "      <td>14:57:29:397</td>\n",
       "      <td>LocationPrivate.CheckBuildingLimit</td>\n",
       "    </tr>\n",
       "  </tbody>\n",
       "</table>\n",
       "</div>"
      ],
      "text/plain": [
       "          debugID       endTime     startTime  \\\n",
       "1639431   8236917  14:56:35:670  14:56:34:874   \n",
       "1654330   8306966  14:56:44:204  14:56:43:469   \n",
       "1845022   9260856  14:56:52:594  14:56:51:922   \n",
       "1859921   9330905  14:56:58:101  14:56:57:399   \n",
       "2183541  10944201  14:57:21:539  14:57:20:805   \n",
       "2198439  11014095  14:57:30:132  14:57:29:397   \n",
       "\n",
       "                                      idref  \n",
       "1639431  LocationPrivate.CheckBuildingLimit  \n",
       "1654330  LocationPrivate.CheckBuildingLimit  \n",
       "1845022  LocationPrivate.CheckBuildingLimit  \n",
       "1859921  LocationPrivate.CheckBuildingLimit  \n",
       "2183541  LocationPrivate.CheckBuildingLimit  \n",
       "2198439  LocationPrivate.CheckBuildingLimit  "
      ]
     },
     "execution_count": 18,
     "metadata": {},
     "output_type": "execute_result"
    }
   ],
   "source": [
    "dfcombined=pd.merge(dfbend, dfbstart, on=[\"debugID\"])\n",
    "dfcombined[dfcombined.idref=='LocationPrivate.CheckBuildingLimit']\n",
    "#dfb.sort_values(by='debugID')\n",
    "#dfb[dfb.debugID==79806].startTime.tolist()\n",
    "\n",
    "#dfb[dfb.debugID==11]"
   ]
  },
  {
   "cell_type": "code",
   "execution_count": 19,
   "metadata": {},
   "outputs": [],
   "source": [
    "dfcombined['timediff'] = pd.DataFrame(( pd.to_datetime(dfcombined['endTime'], format='%H:%M:%S:%f') - pd.to_datetime(dfcombined['startTime'], format='%H:%M:%S:%f')).dt.total_seconds())"
   ]
  },
  {
   "cell_type": "code",
   "execution_count": 20,
   "metadata": {},
   "outputs": [],
   "source": [
    "from datetime import datetime, timedelta\n",
    "df1 = dfcombined[dfcombined.timediff > 1.0].sort_values(by='timediff', ascending=False)\n",
    "del dfcombined"
   ]
  },
  {
   "cell_type": "code",
   "execution_count": 21,
   "metadata": {},
   "outputs": [],
   "source": [
    "# export to Excel ####\n",
    "with pd.ExcelWriter(output_excel, engine=\"openpyxl\", mode='a') as writer:  \n",
    "    df1.to_excel(writer, sheet_name='timing')\n"
   ]
  }
 ],
 "metadata": {
  "kernelspec": {
   "display_name": "Python 3",
   "language": "python",
   "name": "python3"
  },
  "language_info": {
   "codemirror_mode": {
    "name": "ipython",
    "version": 3
   },
   "file_extension": ".py",
   "mimetype": "text/x-python",
   "name": "python",
   "nbconvert_exporter": "python",
   "pygments_lexer": "ipython3",
   "version": "3.8.8"
  }
 },
 "nbformat": 4,
 "nbformat_minor": 4
}

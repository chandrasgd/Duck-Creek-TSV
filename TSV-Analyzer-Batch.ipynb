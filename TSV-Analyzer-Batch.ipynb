{
 "cells": [
  {
   "cell_type": "code",
   "execution_count": 1,
   "id": "965e1724",
   "metadata": {
    "scrolled": true
   },
   "outputs": [
    {
     "name": "stdout",
     "output_type": "stream",
     "text": [
      "Stored 'filepath' (str)\n",
      "Stored 'output_excel' (str)\n"
     ]
    }
   ],
   "source": [
    "filepath='C:\\\\CPP_Performance\\\\TSV Files\\\\CLMQA\\\\CD4CCA2343B44EEAB4932B20DEE7EB3A79272D7148E90C41 - 2021-10-27 16-09-57-931.tsv'\n",
    "output_excel='C:\\\\CPP_Performance\\\\TSV Files\\\\CLMQA\\\\CD4CCA2343B44EEAB4932B20DEE7EB3A79272D7148E90C41 - 2021-10-27 16-09-57-931.xlsx'\n",
    "\n",
    "%store filepath\n",
    "%store output_excel\n",
    "#%run \"TSV-Analyzer-Iteration.ipynb\"\n"
   ]
  },
  {
   "cell_type": "code",
   "execution_count": 2,
   "id": "18776241",
   "metadata": {},
   "outputs": [
    {
     "name": "stdout",
     "output_type": "stream",
     "text": [
      "[('C:\\\\CPP_Performance\\\\TSV Files\\\\Staging\\\\7DA7B8CBD58E425EBFDB0BA087C682F179272D7148E90C41 - 2021-10-27 14-55-06-840', '.tsv'), ('C:\\\\CPP_Performance\\\\TSV Files\\\\Staging\\\\7DA7B8CBD58E425EBFDB0BA087C682F179272D7148E90C41 - 2021-10-27 14-55-07-449', '.tsv'), ('C:\\\\CPP_Performance\\\\TSV Files\\\\Staging\\\\7DA7B8CBD58E425EBFDB0BA087C682F179272D7148E90C41 - 2021-10-27 14-55-19-887', '.tsv'), ('C:\\\\CPP_Performance\\\\TSV Files\\\\Staging\\\\7DA7B8CBD58E425EBFDB0BA087C682F179272D7148E90C41 - 2021-10-27 14-55-21-309', '.tsv'), ('C:\\\\CPP_Performance\\\\TSV Files\\\\Staging\\\\7DA7B8CBD58E425EBFDB0BA087C682F179272D7148E90C41 - 2021-10-27 14-55-26-997', '.tsv'), ('C:\\\\CPP_Performance\\\\TSV Files\\\\Staging\\\\7DA7B8CBD58E425EBFDB0BA087C682F179272D7148E90C41 - 2021-10-27 14-55-30-559', '.tsv'), ('C:\\\\CPP_Performance\\\\TSV Files\\\\Staging\\\\7DA7B8CBD58E425EBFDB0BA087C682F179272D7148E90C41 - 2021-10-27 14-56-34-827', '.tsv'), ('C:\\\\CPP_Performance\\\\TSV Files\\\\Staging\\\\7DA7B8CBD58E425EBFDB0BA087C682F179272D7148E90C41 - 2021-10-27 14-57-09-133', '.tsv'), ('C:\\\\CPP_Performance\\\\TSV Files\\\\Staging\\\\7DA7B8CBD58E425EBFDB0BA087C682F179272D7148E90C41 - 2021-10-27 14-57-14-664', '.tsv'), ('C:\\\\CPP_Performance\\\\TSV Files\\\\Staging\\\\7DA7B8CBD58E425EBFDB0BA087C682F179272D7148E90C41 - 2021-10-27 14-57-20-415', '.tsv')]\n"
     ]
    }
   ],
   "source": [
    "import os\n",
    "import glob\n",
    "import time\n",
    "from os import walk\n",
    "import os\n",
    "from os import listdir\n",
    "from os.path import isfile, join\n",
    "\n",
    "cwd = os.getcwd()\n",
    "cwd=\"C:\\\\CPP_Performance\\\\TSV Files\\\\Staging\"\n",
    "#cwd=\"C:\\\\CPP_Performance\\\\TSV Files\"\n",
    "onlyfiles = [os.path.splitext(os.path.join(cwd, f)) for f in os.listdir(cwd) if \n",
    "os.path.isfile(os.path.join(cwd, f)) and f.endswith(\".tsv\")]\n",
    "folders = [os.path.join(cwd, f) for f in os.listdir(cwd) if \n",
    "os.path.isdir(os.path.join(cwd, f))]\n",
    "print(onlyfiles) \n",
    "mylist = [f for f in glob.glob(\"*.ipynb\")]\n",
    "filenames = next(walk(\".\"), (None, None, []))[2]  # [] if no file"
   ]
  },
  {
   "cell_type": "code",
   "execution_count": 3,
   "id": "81c6ff21",
   "metadata": {},
   "outputs": [
    {
     "data": {
      "text/plain": [
       "'C:\\\\CPP_Performance\\\\TSV Files\\\\Staging\\\\My Files'"
      ]
     },
     "execution_count": 3,
     "metadata": {},
     "output_type": "execute_result"
    }
   ],
   "source": [
    "filenames, onlyfiles, mylist, folders\n",
    "os.path.join(cwd, \"My Files\")"
   ]
  },
  {
   "cell_type": "code",
   "execution_count": 4,
   "id": "c38dbc96",
   "metadata": {},
   "outputs": [
    {
     "data": {
      "text/plain": [
       "['C:\\\\CPP_Performance\\\\TSV Files\\\\Staging\\\\7DA7B8CBD58E425EBFDB0BA087C682F179272D7148E90C41 - 2021-10-27 14-55-06-840.tsv',\n",
       " 'C:\\\\CPP_Performance\\\\TSV Files\\\\Staging\\\\7DA7B8CBD58E425EBFDB0BA087C682F179272D7148E90C41 - 2021-10-27 14-55-07-449.tsv',\n",
       " 'C:\\\\CPP_Performance\\\\TSV Files\\\\Staging\\\\7DA7B8CBD58E425EBFDB0BA087C682F179272D7148E90C41 - 2021-10-27 14-55-19-887.tsv',\n",
       " 'C:\\\\CPP_Performance\\\\TSV Files\\\\Staging\\\\7DA7B8CBD58E425EBFDB0BA087C682F179272D7148E90C41 - 2021-10-27 14-55-21-309.tsv',\n",
       " 'C:\\\\CPP_Performance\\\\TSV Files\\\\Staging\\\\7DA7B8CBD58E425EBFDB0BA087C682F179272D7148E90C41 - 2021-10-27 14-55-26-997.tsv',\n",
       " 'C:\\\\CPP_Performance\\\\TSV Files\\\\Staging\\\\7DA7B8CBD58E425EBFDB0BA087C682F179272D7148E90C41 - 2021-10-27 14-55-30-559.tsv',\n",
       " 'C:\\\\CPP_Performance\\\\TSV Files\\\\Staging\\\\7DA7B8CBD58E425EBFDB0BA087C682F179272D7148E90C41 - 2021-10-27 14-56-34-827.tsv',\n",
       " 'C:\\\\CPP_Performance\\\\TSV Files\\\\Staging\\\\7DA7B8CBD58E425EBFDB0BA087C682F179272D7148E90C41 - 2021-10-27 14-57-09-133.tsv',\n",
       " 'C:\\\\CPP_Performance\\\\TSV Files\\\\Staging\\\\7DA7B8CBD58E425EBFDB0BA087C682F179272D7148E90C41 - 2021-10-27 14-57-14-664.tsv',\n",
       " 'C:\\\\CPP_Performance\\\\TSV Files\\\\Staging\\\\7DA7B8CBD58E425EBFDB0BA087C682F179272D7148E90C41 - 2021-10-27 14-57-20-415.tsv']"
      ]
     },
     "execution_count": 4,
     "metadata": {},
     "output_type": "execute_result"
    }
   ],
   "source": [
    "files = glob.glob(os.path.join(cwd, \"*.tsv\"))\n",
    "for folder in folders:\n",
    "    filepath = os.path.join(cwd, folder)\n",
    "    files += [os.path.join(filepath, f) for f in os.listdir(filepath) if \n",
    "os.path.isfile(os.path.join(filepath, f)) and f.endswith(\".tsv\")]"
   ]
  },
  {
   "cell_type": "code",
   "execution_count": 5,
   "id": "ed630339",
   "metadata": {},
   "outputs": [
    {
     "name": "stdout",
     "output_type": "stream",
     "text": [
      "Stored 'filepath' (str)\n",
      "Stored 'output_excel' (str)\n",
      "starting to read file  C:\\CPP_Performance\\TSV Files\\Staging\\7DA7B8CBD58E425EBFDB0BA087C682F179272D7148E90C41 - 2021-10-27 14-55-07-449.tsv\n",
      "(29.20929765701294, 'seconds wall time after read_csv')\n",
      "(53.41763210296631, 'seconds wall time after sanitization')\n",
      "(58.62468600273132, 'seconds wall time after field frequency')\n"
     ]
    },
    {
     "name": "stderr",
     "output_type": "stream",
     "text": [
      "<ipython-input-5-56c29cfd0210>:1: FutureWarning: Indexing with multiple keys (implicitly converted to a tuple of keys) will be deprecated, use a list instead.\n",
      "  df1 = df[df.tagName.isin(['iterator'])].groupby(['idref'])['idref','debugID'].count().sort_values(by='debugID', ascending=False)['idref']\n"
     ]
    },
    {
     "name": "stdout",
     "output_type": "stream",
     "text": [
      "(61.41122007369995, 'seconds wall time after iterator')\n",
      "public/private count: 2218774\n",
      "[12, 16, 21, 30, 37, 42, 52, 55, 57, 61, 65, 70, 76, 81, 88, 93, 95, 114, 115]\n",
      "(76.51295065879822, 'seconds wall time after timing')\n",
      "169 207\n",
      "(91.61547780036926, 'seconds wall time after iterator field')\n",
      "(95.72163987159729, 'seconds wall time after iterator field count')\n",
      "(29.20929765701294, 'seconds wall time after read_csv')\n",
      "(53.41763210296631, 'seconds wall time after sanitization')\n",
      "(58.62468600273132, 'seconds wall time after field frequency')\n",
      "(61.41122007369995, 'seconds wall time after iterator')\n",
      "(76.51295065879822, 'seconds wall time after timing')\n",
      "(91.61547780036926, 'seconds wall time after iterator field')\n",
      "(95.72163987159729, 'seconds wall time after iterator field count')\n",
      "Stored 'filepath' (str)\n",
      "Stored 'output_excel' (str)\n",
      "starting to read file  C:\\CPP_Performance\\TSV Files\\Staging\\7DA7B8CBD58E425EBFDB0BA087C682F179272D7148E90C41 - 2021-10-27 14-55-19-887.tsv\n",
      "(0.6697609424591064, 'seconds wall time after read_csv')\n",
      "(0.9286191463470459, 'seconds wall time after sanitization')\n",
      "(1.072812795639038, 'seconds wall time after field frequency')\n",
      "(1.1271436214447021, 'seconds wall time after iterator')"
     ]
    },
    {
     "name": "stderr",
     "output_type": "stream",
     "text": [
      "<ipython-input-5-56c29cfd0210>:1: FutureWarning: Indexing with multiple keys (implicitly converted to a tuple of keys) will be deprecated, use a list instead.\n",
      "  df1 = df[df.tagName.isin(['iterator'])].groupby(['idref'])['idref','debugID'].count().sort_values(by='debugID', ascending=False)['idref']\n"
     ]
    },
    {
     "name": "stdout",
     "output_type": "stream",
     "text": [
      "\n",
      "public/private count: 18266\n",
      "[11, 15, 23, 26, 29, 37, 38, 44, 48, 53, 57, 59, 62, 67, 69, 75, 78, 80, 84]\n",
      "(1.6391992568969727, 'seconds wall time after timing')\n",
      "173 181\n",
      "(2.367673873901367, 'seconds wall time after iterator field')\n",
      "(2.7990143299102783, 'seconds wall time after iterator field count')\n",
      "(0.6697609424591064, 'seconds wall time after read_csv')\n",
      "(0.9286191463470459, 'seconds wall time after sanitization')\n",
      "(1.072812795639038, 'seconds wall time after field frequency')\n",
      "(1.1271436214447021, 'seconds wall time after iterator')\n",
      "(1.6391992568969727, 'seconds wall time after timing')\n",
      "(2.367673873901367, 'seconds wall time after iterator field')\n",
      "(2.7990143299102783, 'seconds wall time after iterator field count')\n",
      "Stored 'filepath' (str)\n",
      "Stored 'output_excel' (str)\n",
      "starting to read file  C:\\CPP_Performance\\TSV Files\\Staging\\7DA7B8CBD58E425EBFDB0BA087C682F179272D7148E90C41 - 2021-10-27 14-55-26-997.tsv\n",
      "(1.019345998764038, 'seconds wall time after read_csv')\n",
      "(1.8023936748504639, 'seconds wall time after sanitization')\n",
      "(2.0292558670043945, 'seconds wall time after field frequency')\n",
      "(2.1247265338897705, 'seconds wall time after iterator')\n",
      "public/private count: 54865\n",
      "[17, 18, 22, 27, 32, 34, 38, 43, 48, 51, 54, 62, 63, 69, 73, 78, 82, 84, 87]\n"
     ]
    },
    {
     "name": "stderr",
     "output_type": "stream",
     "text": [
      "<ipython-input-5-56c29cfd0210>:1: FutureWarning: Indexing with multiple keys (implicitly converted to a tuple of keys) will be deprecated, use a list instead.\n",
      "  df1 = df[df.tagName.isin(['iterator'])].groupby(['idref'])['idref','debugID'].count().sort_values(by='debugID', ascending=False)['idref']\n"
     ]
    },
    {
     "name": "stdout",
     "output_type": "stream",
     "text": [
      "(2.5116078853607178, 'seconds wall time after timing')\n",
      "167 180\n",
      "(3.929297685623169, 'seconds wall time after iterator field')\n",
      "(4.896468639373779, 'seconds wall time after iterator field count')\n",
      "(1.019345998764038, 'seconds wall time after read_csv')\n",
      "(1.8023936748504639, 'seconds wall time after sanitization')\n",
      "(2.0292558670043945, 'seconds wall time after field frequency')\n",
      "(2.1247265338897705, 'seconds wall time after iterator')\n",
      "(2.5116078853607178, 'seconds wall time after timing')\n",
      "(3.929297685623169, 'seconds wall time after iterator field')\n",
      "(4.896468639373779, 'seconds wall time after iterator field count')\n"
     ]
    }
   ],
   "source": [
    "for filepath in files:\n",
    "    if os.stat(filepath).st_size > 10 * 1024 * 1024:\n",
    "        name, ext = os.path.splitext(filepath)\n",
    "        output_excel = name+ \".xlsx\"\n",
    "        #print(filepath, output_excel)\n",
    "        %store filepath\n",
    "        %store output_excel\n",
    "        %run \"TSV-Analyzer-Iteration.ipynb\"\n",
    "        #%run \"untitled.ipynb\"\n",
    "        %store -d filepath\n",
    "        %store -d output_excel\n"
   ]
  },
  {
   "cell_type": "code",
   "execution_count": 6,
   "id": "de6574a3",
   "metadata": {},
   "outputs": [
    {
     "name": "stdout",
     "output_type": "stream",
     "text": [
      "Finished processing the folder C:\\CPP_Performance\\TSV Files\\Staging\n"
     ]
    }
   ],
   "source": [
    "print(\"Finished processing the folder \"+cwd)"
   ]
  }
 ],
 "metadata": {
  "kernelspec": {
   "display_name": "Python 3",
   "language": "python",
   "name": "python3"
  },
  "language_info": {
   "codemirror_mode": {
    "name": "ipython",
    "version": 3
   },
   "file_extension": ".py",
   "mimetype": "text/x-python",
   "name": "python",
   "nbconvert_exporter": "python",
   "pygments_lexer": "ipython3",
   "version": "3.8.8"
  }
 },
 "nbformat": 4,
 "nbformat_minor": 5
}
